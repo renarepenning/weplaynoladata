{
 "cells": [
  {
   "cell_type": "markdown",
   "metadata": {},
   "source": [
    "https://renarepenning.github.io/\n"
   ]
  },
  {
   "cell_type": "markdown",
   "metadata": {},
   "source": [
    "# Rena Repenning and Eddy Salazar"
   ]
  },
  {
   "cell_type": "markdown",
   "metadata": {},
   "source": [
    "## Project Plan"
   ]
  },
  {
   "cell_type": "markdown",
   "metadata": {},
   "source": [
    "### Hyopthesis Question:\n",
    "\n",
    "<it>Does early childhood education improve educational outcomes later in life?</it></br>\n",
    "\n",
    "How does early childhood education affect literacy in elementary schools?</br>\n",
    "Thus, we seek to measure educational outcomes using reading as a measure of success</br>\n"
   ]
  },
  {
   "cell_type": "markdown",
   "metadata": {},
   "source": [
    "#### Data Sets\n",
    "1. We Play Data [<sup>1</sup>](#fn1)\n",
    "    Provided by Christine Neely\n",
    "2. Dibels Reading Report\" PDF\n",
    "    https://www.louisianabelieves.com/docs/default-source/test-results/fall-2020-dibels-reading-report.pdf?sfvrsn=28a96618_8\n",
    "3. 2018-2020 PK-5 enrollment data (xlsx) \n",
    "    https://www.louisianabelieves.com/docs/default-source/believe/k-enrollment-trends.pdf?sfvrsn=6eca6718_6\n",
    "\n",
    "#### Possible others\n",
    "1. https://www.louisianaschools.com/\n",
    "   Early childhood education centers in New Orleans, by age group.\n",
    "2. https://opennola.org/state-of-the-young-child-in-new-orleans-edi-neighborhood-profiles/ \n",
    "   \"STATE OF THE YOUNG CHILD IN NEW ORLEANS: EDI NEIGHBORHOOD PROFILES\"\n",
    "    This Dataset measures five areas of early childhood development to classify Kindergarten readiness. These include \"Physical health and wellbeing\", \"Social competence\", \"Emotional Maturity\", \"Language and cognitive skills\", and \"Communication skills and general knowledge\".\n",
    "    [<sup>2</sup>](#fn2)\n",
    "\n",
    "#### Explanation\n",
    "We are inspired by The We Play center's mission: \"to offer a safe place to play while engaging in activities that promote brain development.\" \n",
    "Melanie Richardson expressed a need for statistical evidence of We Play's importance.\n",
    "Although we would like to use the center's existing data, it doesn't have consistent ids per unit of observation. This prohibits us from studying participent's\n",
    "educational or well-being outcomes.\n",
    "Also, Christine Neely sent us sporadic data from the past two years. We cannot analyze\n",
    "change over uneven time periods.\n",
    "Instead of analyzing WePlay's surveys, we would like to validate the center's work by illustrating social impact.\n",
    "\n",
    "Children in Louisiana were not required to attend kindergarten until June of 2021. \n",
    "Studies show that children who cannot read at grade level by the third grade will lag behind for the rest of their education.[<sup>3</sup>](#fn3)\n",
    "We hypothesize that access to early childhood education will greatly improve a child's literacy by the third grade.\n",
    "\"2018-2020 PK-5 Enrollment\" provides reading test results, but it is in PDF form so will need to be transfered to a CSV\n",
    "manually or parsed as a PDF.\n",
    "We aim to analyze early childhood education availability's impact on elementary school reading proficiency. \n",
    "Additonally, we would like to look at center availability and need.\n",
    "Once we establish a quantifiable need for early childhood education we can analyze inhibiting factors\n",
    "by scraping data on all centers in Louisiana.\n",
    "\"State of the young child...\" applies to our hypothesis and could possible be of use if we have time to analyze multiple questions.\n",
    "\n",
    "#### Collaboration Plan\n",
    "Rena and Eddy will utilize this repository to simultaneously edit the project. \n",
    "We plan on connecting over Zoom as needed and keeping constant communication over instant message. Also, we are both able to meet after class on Thursdays.\n",
    "When convinient, we will export notebooks to Google Colabs to support simultaneous editing. \n",
    "(This is easily done using a Colabs Chrome extension).\n"
   ]
  },
  {
   "cell_type": "markdown",
   "metadata": {},
   "source": [
    "#### Footnotes\n",
    "<span id=\"fn1\"> 1. WePLAY data was last downloaded on October 25th, 2021. We could not use a live link because of spaces in filenames.</span>\n",
    "\n",
    "\n",
    "<span id=\"fn2\"> 2. This site's links are broken so we are awaiting response. Will call if they haven't responded by 10/27.</span>\n",
    "\n",
    "<span id=\"fn3\"> 3. https://news.yahoo.com/kindergarten-required-louisiana-edwards-signs-230000296.html</span>"
   ]
  },
  {
   "cell_type": "markdown",
   "metadata": {},
   "source": [
    "# Exploring WePlay survey results"
   ]
  },
  {
   "cell_type": "markdown",
   "metadata": {},
   "source": [
    "Provided by Christine Neely from WePlay by Training Grounds nola. Data last accessed on October 25th."
   ]
  },
  {
   "cell_type": "code",
   "execution_count": null,
   "metadata": {},
   "outputs": [],
   "source": [
    "import pandas as pd\n",
    "\n",
    "## Imports, as needed\n",
    "#!head ../notebooks/_data/WePLAYData/\n",
    "!pip3 install openpyxl # followed error messages to install openpyxl package\n"
   ]
  },
  {
   "cell_type": "code",
   "execution_count": null,
   "metadata": {},
   "outputs": [],
   "source": [
    "fam_survey = pd.read_excel(\"../notebooks/_data/WePlayData/WPCFamilySurvey.xlsx\")\n",
    "fam_survey.head()\n",
    "\n",
    "## This dataset has many more values than entries, and cannot be effectively tidied as the key is Respondent ID"
   ]
  },
  {
   "cell_type": "code",
   "execution_count": null,
   "metadata": {},
   "outputs": [],
   "source": [
    "# This set has the same issues\n",
    "incoming_reflection = pd.read_excel(\"../notebooks/_data/WePlayData/WPCIncomingParentReflection.xlsx\")\n",
    "incoming_reflection.head()"
   ]
  },
  {
   "cell_type": "code",
   "execution_count": null,
   "metadata": {},
   "outputs": [],
   "source": [
    "incoming_reflection_July19 = pd.read_excel(\"../notebooks/_data/WePlayData/WPCIncomingParentReflection-July2019.xlsx\")\n",
    "incoming_reflection_July19.head()"
   ]
  },
  {
   "cell_type": "code",
   "execution_count": null,
   "metadata": {
    "scrolled": true
   },
   "outputs": [],
   "source": [
    "incoming_reflection_Nov19 = pd.read_excel(\"../notebooks/_data/WePlayData/WPCIncomingParentReflection-November2019.xlsx\")\n",
    "incoming_reflection_Nov19.head()"
   ]
  },
  {
   "cell_type": "code",
   "execution_count": null,
   "metadata": {
    "scrolled": true
   },
   "outputs": [],
   "source": [
    "incoming_reflection2020 = pd.read_excel(\"../notebooks/_data/WePlayData/CopyofTheWePLAYCenterIncomingParentReflectionForm2020.xlsx\")\n",
    "incoming_reflection2020.head()"
   ]
  },
  {
   "cell_type": "markdown",
   "metadata": {},
   "source": [
    "There are no key overlaps within the datasets so we cannot use a person as the unit of observation. We can only do some basic demographic data. "
   ]
  },
  {
   "cell_type": "markdown",
   "metadata": {},
   "source": [
    "# Looking at PK-K Enrollment data"
   ]
  },
  {
   "cell_type": "markdown",
   "metadata": {},
   "source": [
    "2018-2020 PK-5 enrollment data taken from louisianabelieves.com, last accessed October 25th\n",
    "\n",
    "We plan to use the data to illustrate PK/K enrollment per parish. \n",
    "(Kindergarten was not mandatory until 2021)"
   ]
  },
  {
   "cell_type": "code",
   "execution_count": null,
   "metadata": {},
   "outputs": [],
   "source": [
    "enrollmentDF = pd.read_excel(\"../notebooks/_data/pk-5enrollmentdata.xlsx\")\n",
    "enrollmentDF.head()"
   ]
  },
  {
   "cell_type": "code",
   "execution_count": null,
   "metadata": {},
   "outputs": [],
   "source": [
    "parish = enrollmentDF.iloc[4:, 1]\n",
    "enrollment = enrollmentDF.iloc[2:, 8:]\n",
    "#enrollment = enrollment.to_frame()\n",
    "enrollment[\"Parish\"] = parish\n",
    "\n",
    "#enrollment.drop(columns=[10, 13, 16], axis=1)\n",
    "\n",
    "enrollmentF18 = enrollment.iloc[2:, 6:]\n",
    "enrollmentF18.columns = [\"Pre-K\", \"K\", \"1-5\", \"Parish\"]\n",
    "enrollmentF18[\"Time\"] = \"Fall 18\"\n",
    "enrollmentF18\n",
    "\n",
    "enrollmentF19 = enrollment.iloc[2:, 3:6]\n",
    "enrollmentF19[\"Parish\"] = enrollment.iloc[2:, -1]\n",
    "enrollmentF19.columns = [\"Pre-K\", \"K\", \"1-5\", \"Parish\"]\n",
    "enrollmentF19[\"Time\"] = \"Fall 19\"\n",
    "enrollmentF19\n",
    "\n",
    "enrollmentF20 = enrollment.iloc[2:, 0:3]\n",
    "enrollmentF20[\"Parish\"] = enrollment.iloc[2:, -1]\n",
    "enrollmentF20.columns = [\"Pre-K\", \"K\", \"1-5\", \"Parish\"]\n",
    "enrollmentF20[\"Time\"] = \"Fall 20\"\n",
    "\n",
    "\n",
    "\n",
    "\n",
    "# full = enrollmentF18.merge(enrollmentF19, how=\"outer\", on=[\"Parish\"], suffixes=[\"_F18\", \"_F19\"]).merge(enrollmentF20, how=\"outer\", on=[\"Parish\"], suffixes=[\"_F18\", \"_F19\",\"_F20\"])\n",
    "# full.set_index(\"Parish\")\n",
    "# full\n"
   ]
  },
  {
   "cell_type": "markdown",
   "metadata": {},
   "source": [
    "Pivoting data -- Format TBD"
   ]
  },
  {
   "cell_type": "code",
   "execution_count": null,
   "metadata": {},
   "outputs": [],
   "source": [
    "# full.pivot_table(\n",
    "#     index=\"Parish\",\n",
    "#     columns=[\"Time\", \"Age\"],\n",
    "#     values=[]\n",
    "# )"
   ]
  },
  {
   "cell_type": "code",
   "execution_count": null,
   "metadata": {},
   "outputs": [],
   "source": []
  },
  {
   "cell_type": "code",
   "execution_count": null,
   "metadata": {},
   "outputs": [],
   "source": []
  }
 ],
 "metadata": {
  "interpreter": {
   "hash": "40d3a090f54c6569ab1632332b64b2c03c39dcf918b08424e98f38b5ae0af88f"
  },
  "kernelspec": {
   "display_name": "Python 3 (ipykernel)",
   "language": "python",
   "name": "python3"
  },
  "language_info": {
   "codemirror_mode": {
    "name": "ipython",
    "version": 3
   },
   "file_extension": ".py",
   "mimetype": "text/x-python",
   "name": "python",
   "nbconvert_exporter": "python",
   "pygments_lexer": "ipython3",
   "version": "3.9.6"
  }
 },
 "nbformat": 4,
 "nbformat_minor": 2
}
