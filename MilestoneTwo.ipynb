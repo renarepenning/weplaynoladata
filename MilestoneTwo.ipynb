{
 "cells": [
  {
   "cell_type": "markdown",
   "id": "8e1f8990",
   "metadata": {},
   "source": [
    "https://www.renarepenning.com/weplaynoladata/"
   ]
  },
  {
   "cell_type": "markdown",
   "id": "b512c422",
   "metadata": {},
   "source": [
    "## Rena Repenning and Eddy Salazer"
   ]
  },
  {
   "cell_type": "markdown",
   "id": "503d83f1",
   "metadata": {},
   "source": [
    "# Project Plan"
   ]
  },
  {
   "cell_type": "markdown",
   "id": "86114e7e",
   "metadata": {},
   "source": [
    "### Question\n",
    "\n",
    "XXX"
   ]
  },
  {
   "cell_type": "markdown",
   "id": "54deeb0a",
   "metadata": {},
   "source": [
    "### Data \n",
    "1. We Play Data [<sup>1</sup>](#fn1)\n",
    "    Provided by Christine Neely"
   ]
  },
  {
   "cell_type": "markdown",
   "id": "7f86c7c3",
   "metadata": {},
   "source": [
    "### Explanation\n",
    "We are inspired by The We Play center's mission: \"to offer a safe place to play while engaging in activities that promote brain development.\" \n",
    "Melanie Richardson expressed a need for statistical evidence of We Play's importance."
   ]
  },
  {
   "cell_type": "markdown",
   "id": "f882c6ca",
   "metadata": {},
   "source": [
    "### Methodology\n",
    "First, we manually removed empty columns and rows from the five excel files.\n",
    "Then, we broke apart sheets to make data frames adressing a single concern."
   ]
  },
  {
   "cell_type": "markdown",
   "id": "e1a18f22",
   "metadata": {},
   "source": [
    "### Collaboration Plan\n",
    "Rena and Eddy will utilize this repository to simultaneously edit the project. \n",
    "We plan on connecting over Zoom as needed and keeping constant communication over instant message. Also, we are both able to meet after class on Thursdays.\n",
    "When convinient, we will export notebooks to Google Colabs to support simultaneous editing. \n",
    "(This is easily done using a Colabs Chrome extension)."
   ]
  },
  {
   "cell_type": "markdown",
   "id": "ba475cb8",
   "metadata": {},
   "source": [
    "### Footnotes\n",
    "<span id=\"fn1\"> 1. WePLAY data was last downloaded on October 25th, 2021. We could not use a live link because of spaces in filenames.</span>"
   ]
  },
  {
   "cell_type": "markdown",
   "id": "34e7252d",
   "metadata": {},
   "source": [
    "# Exploring WePLAY Survey Results"
   ]
  },
  {
   "cell_type": "markdown",
   "id": "71fc0107",
   "metadata": {},
   "source": [
    "Provided by Christine Neely from WePlay by Training Grounds nola. Data last accessed on October 25th."
   ]
  },
  {
   "cell_type": "markdown",
   "id": "af0b4463",
   "metadata": {},
   "source": [
    "##### Importing data"
   ]
  },
  {
   "cell_type": "code",
   "execution_count": 49,
   "id": "fdc87a9e",
   "metadata": {
    "scrolled": true
   },
   "outputs": [
    {
     "name": "stdout",
     "output_type": "stream",
     "text": [
      "Requirement already satisfied: openpyxl in /opt/conda/lib/python3.9/site-packages (3.0.9)\r\n",
      "Requirement already satisfied: et-xmlfile in /opt/conda/lib/python3.9/site-packages (from openpyxl) (1.1.0)\r\n"
     ]
    }
   ],
   "source": [
    "## Imports, as needed\n",
    "import pandas as pd\n",
    "!pip3 install openpyxl # package to open xlsx files\n",
    "\n",
    "path = \"../notebooks/_data/WePlayData/CleanedWPC\" # path to manually cleaned excels\n",
    "\n",
    "## possibly better for organization\n",
    "# files = ['IncomingParentReflection', \n",
    "#         \"IncomingParentReflection-July2019\", \n",
    "#         \"IncomingParentReflection-November2019\",\n",
    "#         \"FamilySurvey\", \n",
    "#         \"IncomingParentReflectionForm2020\",]\n",
    "# keys = ['IPR_', 'IPR_Jul19', 'IPR_Nov19', 'FamSurv', 'IPR_form20',]\n",
    "# df_dict = {}\n",
    "# for i in range(5):\n",
    "#     df_dict[keys[i]] = pd.read_excel(path + files[i] + \".xlsx\")\n",
    "# print(df_dict.keys())"
   ]
  },
  {
   "cell_type": "markdown",
   "id": "67b6224a",
   "metadata": {},
   "source": [
    "# ETL"
   ]
  },
  {
   "cell_type": "markdown",
   "id": "3aa291ab",
   "metadata": {},
   "source": [
    "## Family Survey Data"
   ]
  },
  {
   "cell_type": "markdown",
   "id": "446ca573",
   "metadata": {},
   "source": [
    "##### Responses about the adults\n",
    "> Adults means over 19\n",
    "> Children means under 18"
   ]
  },
  {
   "cell_type": "code",
   "execution_count": 47,
   "id": "d7195090",
   "metadata": {},
   "outputs": [],
   "source": [
    "familySurveyDf = pd.read_excel(path + \"FamilySurvey\" + \".xlsx\")\n",
    "# \"Resp\" = Respondant\n",
    "adult_FD = familySurveyDf.iloc[1:, :10]\n",
    "adult_FD.columns = [[\"Resp_Gender\", \"Resp_Age\", \"Resp_Race\", \"Adults\", \"Children\", \"Zip\", \"OMIT\", \"Avg_Income\", \"highest_edu\", \"visits_Monthly\"]]\n",
    "adult_FD.drop(columns=[\"OMIT\"], inplace=True)\n",
    "\n",
    "#adult_FD"
   ]
  },
  {
   "cell_type": "markdown",
   "id": "799cbeed",
   "metadata": {},
   "source": [
    "#### Info about how parents found the we play center"
   ]
  },
  {
   "cell_type": "code",
   "execution_count": 48,
   "id": "f740f1ac",
   "metadata": {},
   "outputs": [],
   "source": [
    "## DF with info on how they found WPC\n",
    "how_found_WPC = familySurveyDf.iloc[1:, 10:17]\n",
    "how_found_WPC.columns = [[\"Sign/Poster/flyer\", \"Friend\", \"Website\", \"Social Media\", \"Other org\", \"Lafitte Fauborg Housing Office\", \"Other\"]]\n",
    "\n",
    "#~how_found_WPC.isna()  # Gives table of methods people used to find WPC\n",
    "\n",
    "##\n",
    "##  MAKE PIE CHARTS\n",
    "## "
   ]
  },
  {
   "cell_type": "markdown",
   "id": "6aa50119",
   "metadata": {},
   "source": [
    "**ADD PIE CHARTS HERE**"
   ]
  },
  {
   "cell_type": "markdown",
   "id": "f98b447e",
   "metadata": {},
   "source": [
    "##### Misc info about children that are brought to the weplay center"
   ]
  },
  {
   "cell_type": "code",
   "execution_count": 45,
   "id": "4385e0c6",
   "metadata": {},
   "outputs": [],
   "source": [
    "child_FD = familySurveyDf.iloc[1:, 17:24] # combined 18/19 into 17 manually\n",
    "\n",
    "#child_FD\n",
    "\n",
    "## this just tells gender and age of children + age of child 2, age child three\n",
    "# then relationship , relationship 2, other"
   ]
  },
  {
   "cell_type": "markdown",
   "id": "2684bac0",
   "metadata": {},
   "source": [
    "##### \"Please share the number of days in a typical week that you engage in the following activities\""
   ]
  },
  {
   "cell_type": "code",
   "execution_count": 43,
   "id": "8ed0c201",
   "metadata": {},
   "outputs": [],
   "source": [
    "daysActivitys_FD = familySurveyDf.iloc[1:, 24:29]\n",
    "daysActivitys_FD.columns = [\"Read Stories\", \"Play Music or Sing\", \n",
    "                     \"Engage in language building activities ie. babbling, cooing, talking\",\n",
    "                    'Engage in play', 'Create opportunities for your child to \"practice\" self control ie. rolling a ball back and forth, taking turns']\n",
    "# daysActivitys_FD\n"
   ]
  },
  {
   "cell_type": "markdown",
   "id": "05a0b46c",
   "metadata": {},
   "source": [
    "##### Please state how strongly you agree with the following statements"
   ]
  },
  {
   "cell_type": "code",
   "execution_count": 44,
   "id": "756d6e0c",
   "metadata": {},
   "outputs": [],
   "source": [
    "parenting_FD = familySurveyDf.iloc[1:, 29:34]\n",
    "parenting_FD.columns = ['I respond quickly to my child\\'s cries', 'I am able to comfort my child when he/she is upset',\n",
    " 'I know the meaning of my child\\'s signals (cry, turning away, rubbing eyes)',\n",
    " 'I step back and encourage my child to work through problems',\n",
    " 'I am able to follow my child\\'s lead during playtime']\n",
    "# parenting_FD\n",
    " \n",
    " "
   ]
  },
  {
   "cell_type": "markdown",
   "id": "de2ce518",
   "metadata": {},
   "source": [
    "#### Parents vary in how they discipline. Below are some strategies parents use to discipline their children. When engaging with your child during the last 7 days, which strategies have you used:"
   ]
  },
  {
   "cell_type": "code",
   "execution_count": 35,
   "id": "98b1ec8e",
   "metadata": {},
   "outputs": [],
   "source": [
    "discipline_FD = familySurveyDf.iloc[1:, 34:42]\n",
    "#discipline_FD\n",
    "\n",
    "#will do later"
   ]
  },
  {
   "cell_type": "markdown",
   "id": "1491c163",
   "metadata": {},
   "source": [
    "#### The We PLAY Center strives to create a welcoming environment. Please indicate whether you agree or disagree with the following statements about the We PLAY Center:"
   ]
  },
  {
   "cell_type": "code",
   "execution_count": 39,
   "id": "f4ef5f03",
   "metadata": {},
   "outputs": [],
   "source": [
    "environmentstatements_FD = familySurveyDf.iloc[1:, 42:48]\n",
    "#environmentstatements_FD"
   ]
  },
  {
   "cell_type": "markdown",
   "id": "2764216e",
   "metadata": {},
   "source": [
    "##### Answer if you have attended the We PLAY Center more than 2 times. As a result of attending the We PLAY Center select the response that best describes how you feel."
   ]
  },
  {
   "cell_type": "code",
   "execution_count": null,
   "id": "03015d89",
   "metadata": {},
   "outputs": [],
   "source": [
    "x = familySurveyDf.iloc[1:, 48:53]"
   ]
  },
  {
   "cell_type": "markdown",
   "id": "f6cb371c",
   "metadata": {},
   "source": [
    "##### Play/center + name"
   ]
  },
  {
   "cell_type": "code",
   "execution_count": 42,
   "id": "e8e22110",
   "metadata": {},
   "outputs": [],
   "source": [
    "y = familySurveyDf.iloc[1:, 53:]\n"
   ]
  },
  {
   "cell_type": "markdown",
   "id": "573fd965",
   "metadata": {},
   "source": [
    "## Incoming Parent Reflections"
   ]
  },
  {
   "cell_type": "markdown",
   "id": "407e05d2",
   "metadata": {},
   "source": []
  },
  {
   "cell_type": "code",
   "execution_count": null,
   "id": "0c87a658",
   "metadata": {},
   "outputs": [],
   "source": []
  },
  {
   "cell_type": "markdown",
   "id": "4fe7701e",
   "metadata": {},
   "source": [
    "# Automatic updating for Git Pages"
   ]
  },
  {
   "cell_type": "code",
   "execution_count": 50,
   "id": "373a453d",
   "metadata": {},
   "outputs": [
    {
     "name": "stdout",
     "output_type": "stream",
     "text": [
      "M\t_data/WePlayData/CleanedWPCFamilySurvey.xlsx\n",
      "Already on 'gh-pages'\n",
      "Your branch is up to date with 'origin/gh-pages'.\n"
     ]
    }
   ],
   "source": [
    "# use gh-pages branch to display on rena's personal website\n",
    "!git checkout gh-pages"
   ]
  },
  {
   "cell_type": "code",
   "execution_count": 51,
   "id": "de1d2557",
   "metadata": {},
   "outputs": [
    {
     "name": "stdout",
     "output_type": "stream",
     "text": [
      "[NbConvertApp] Converting notebook MilestoneTwo.ipynb to html\n",
      "[NbConvertApp] Writing 587290 bytes to MilestoneTwo.html\n",
      "[gh-pages bb8e6e6] auto update index.html\n",
      " 2 files changed, 220 insertions(+), 558 deletions(-)\n",
      " rewrite _data/WePlayData/CleanedWPCFamilySurvey.xlsx (74%)\n"
     ]
    }
   ],
   "source": [
    "# automatically create index.html\n",
    "# convert this file to HTML\n",
    "!jupyter nbconvert --to html MilestoneTwo.ipynb\n",
    "\n",
    "# Delete old index.html\n",
    "!rm index.html\n",
    "# move MilestoneTwo.html to index.html\n",
    "!mv MilestoneTwo.html index.html\n",
    "\n",
    "# Push to Rena's repo\n",
    "!git config --global user.name \"renarepenning\"\n",
    "!git config --global user.email \"rrepenning@tulane.edu\"\n",
    "!git add -A\n",
    "!git commit -m \"auto update index.html\"\n",
    "\n",
    "# !git push\n",
    "# must push manually?"
   ]
  },
  {
   "cell_type": "code",
   "execution_count": null,
   "id": "4d5e0506",
   "metadata": {},
   "outputs": [],
   "source": []
  }
 ],
 "metadata": {
  "kernelspec": {
   "display_name": "Python 3 (ipykernel)",
   "language": "python",
   "name": "python3"
  },
  "language_info": {
   "codemirror_mode": {
    "name": "ipython",
    "version": 3
   },
   "file_extension": ".py",
   "mimetype": "text/x-python",
   "name": "python",
   "nbconvert_exporter": "python",
   "pygments_lexer": "ipython3",
   "version": "3.9.6"
  }
 },
 "nbformat": 4,
 "nbformat_minor": 5
}
