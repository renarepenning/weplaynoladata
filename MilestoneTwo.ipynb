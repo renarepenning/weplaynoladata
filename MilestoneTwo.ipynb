{
 "cells": [
  {
   "cell_type": "markdown",
   "id": "8ce13bb6",
   "metadata": {},
   "source": [
    "https://www.renarepenning.com/weplaynoladata/"
   ]
  },
  {
   "cell_type": "markdown",
   "id": "37ac2116",
   "metadata": {},
   "source": [
    "## Rena Repenning and Eddy Salazer"
   ]
  },
  {
   "cell_type": "markdown",
   "id": "c470b781",
   "metadata": {},
   "source": [
    "# Project Plan"
   ]
  },
  {
   "cell_type": "markdown",
   "id": "c87b9203",
   "metadata": {},
   "source": [
    "### Questions\n",
    "\n",
    "* What demographics are served by the WePLAY center?\n",
    "* How can the center better serve the needs of parents?\n",
    "* What is the center doing well/unwell"
   ]
  },
  {
   "cell_type": "markdown",
   "id": "ed31fdf0",
   "metadata": {},
   "source": [
    "### Data \n",
    "1. We Play Data [<sup>1</sup>](#fn1)\n",
    "    Provided by Christine Neely\n",
    "    \n",
    "a. Family Survey\n",
    "b. Incoming Parent Reflection Form - Undated\n",
    "c. Incoming Parent Reflection Form - July 2019\n",
    "d. Incoming Parent Reflection Form - Nov 2019\n",
    "e. Incoming Parent Reflection Form - 2020"
   ]
  },
  {
   "cell_type": "markdown",
   "id": "74315f69",
   "metadata": {},
   "source": [
    "### Explanation\n",
    "We are inspired by The We Play center's mission: \"to offer a safe place to play while engaging in activities that promote brain development.\" \n",
    "Melanie Richardson expressed a need for statistical evidence of We Play's importance."
   ]
  },
  {
   "cell_type": "markdown",
   "id": "0f1b2eb1",
   "metadata": {},
   "source": [
    "### Methodology\n",
    "First, we manually removed empty columns and rows from the five excel files.\n",
    "Then, we broke apart sheets to make data frames adressing a single concern. Using these dataframes we began crafted questions to answer with available data. In December we plan to meet with Melanie to get feedback on our efforts"
   ]
  },
  {
   "cell_type": "markdown",
   "id": "b38e9525",
   "metadata": {},
   "source": [
    "### Collaboration Plan\n",
    "Rena and Eddy will utilize this repository to simultaneously edit the project. \n",
    "We plan on connecting over Zoom as needed and keeping constant communication over instant message. Also, we are both able to meet after class on Thursdays.\n",
    "When convinient, we will export notebooks to Google Colabs to support simultaneous editing. \n",
    "(This is easily done using a Colabs Chrome extension)."
   ]
  },
  {
   "cell_type": "markdown",
   "id": "b71b4c03",
   "metadata": {},
   "source": [
    "### Footnotes\n",
    "<span id=\"fn1\"> 1. WePLAY data was last downloaded on October 25th, 2021. We could not use a live link because of spaces in filenames.</span>"
   ]
  },
  {
   "cell_type": "markdown",
   "id": "c0bffbec",
   "metadata": {},
   "source": [
    "# Exploring WePLAY Survey Results"
   ]
  },
  {
   "cell_type": "markdown",
   "id": "6a94cd12",
   "metadata": {},
   "source": [
    "Provided by Christine Neely from WePlay by Training Grounds nola. Data last accessed on October 25th."
   ]
  },
  {
   "cell_type": "markdown",
   "id": "548223bb",
   "metadata": {},
   "source": [
    "##### Importing data"
   ]
  },
  {
   "cell_type": "code",
   "execution_count": 1,
   "id": "6f33ad75",
   "metadata": {
    "scrolled": true
   },
   "outputs": [
    {
     "name": "stdout",
     "output_type": "stream",
     "text": [
      "Collecting openpyxl\n",
      "  Downloading openpyxl-3.0.9-py2.py3-none-any.whl (242 kB)\n",
      "\u001b[K     |████████████████████████████████| 242 kB 977 kB/s eta 0:00:01\n",
      "\u001b[?25hCollecting et-xmlfile\n",
      "  Downloading et_xmlfile-1.1.0-py3-none-any.whl (4.7 kB)\n",
      "Installing collected packages: et-xmlfile, openpyxl\n",
      "Successfully installed et-xmlfile-1.1.0 openpyxl-3.0.9\n"
     ]
    }
   ],
   "source": [
    "## Imports, as needed\n",
    "import pandas as pd\n",
    "!pip3 install openpyxl # package to open xlsx files\n",
    "\n",
    "renapath = \"../notebooks/_data/WePlayData/CleanedWPC\" # path to manually cleaned excels\n",
    "edpath = \"./_data/WePlayData/CleanedWPC\"\n",
    "\n",
    "## PATH -- set path variable \n",
    "path = renapath"
   ]
  },
  {
   "cell_type": "markdown",
   "id": "d26ae2f4",
   "metadata": {},
   "source": [
    "# ETL"
   ]
  },
  {
   "cell_type": "markdown",
   "id": "83f2d906",
   "metadata": {},
   "source": [
    "## Family Survey Data"
   ]
  },
  {
   "cell_type": "markdown",
   "id": "e42389b2",
   "metadata": {},
   "source": [
    "##### Responses about the adults\n",
    "> Adults means over 19\n",
    "> Children means under 18"
   ]
  },
  {
   "cell_type": "code",
   "execution_count": 2,
   "id": "e6279e65",
   "metadata": {},
   "outputs": [
    {
     "name": "stderr",
     "output_type": "stream",
     "text": [
      "/opt/conda/lib/python3.9/site-packages/pandas/core/generic.py:4150: PerformanceWarning: dropping on a non-lexsorted multi-index without a level parameter may impact performance.\n",
      "  obj = obj._drop_axis(labels, axis, level=level, errors=errors)\n"
     ]
    },
    {
     "data": {
      "text/plain": [
       "<AxesSubplot:ylabel='Average yearly Income'>"
      ]
     },
     "execution_count": 2,
     "metadata": {},
     "output_type": "execute_result"
    },
    {
     "data": {
      "image/png": "[encoded data removed]",
      "text/plain": [
       "<Figure size 432x288 with 1 Axes>"
      ]
     },
     "metadata": {},
     "output_type": "display_data"
    }
   ],
   "source": [
    "familySurveyDf = pd.read_excel(path + \"FamilySurvey\" + \".xlsx\")\n",
    "# \"Resp\" = Respondant\n",
    "adult_FD = familySurveyDf.iloc[1:, :10]\n",
    "adult_FD.columns = [[\"Resp_Gender\", \"Resp_Age\", \"Resp_Race\", \"Adults\", \"Children\", \"Zip\", \"OMIT\", \"Avg_Income\", \"highest_edu\", \"visits_Monthly\"]]\n",
    "adult_FD.drop(columns=[\"OMIT\"], inplace=True)\n",
    "\n",
    "adult_FD[\"Avg_Income\"].value_counts().plot.pie(y=\"Avg_Income\", ylabel=\"Average yearly Income\")"
   ]
  },
  {
   "cell_type": "markdown",
   "id": "8f21a254",
   "metadata": {},
   "source": [
    "#### Info about how parents found the we play center"
   ]
  },
  {
   "cell_type": "code",
   "execution_count": 26,
   "id": "8fc6242a",
   "metadata": {},
   "outputs": [
    {
     "name": "stderr",
     "output_type": "stream",
     "text": [
      "/opt/conda/lib/python3.9/site-packages/pandas/plotting/_matplotlib/core.py:1616: MatplotlibDeprecationWarning: normalize=None does not normalize if the sum is less than 1 but this behavior is deprecated since 3.3 until two minor releases later. After the deprecation period the default value will be normalize=True. To prevent normalization pass normalize=False \n",
      "  results = ax.pie(y, labels=blabels, **kwds)\n"
     ]
    },
    {
     "data": {
      "text/plain": [
       "array([<AxesSubplot:ylabel='How did you discover WePlay'>], dtype=object)"
      ]
     },
     "execution_count": 26,
     "metadata": {},
     "output_type": "execute_result"
    },
    {
     "data": {
      "image/png": "[encoded data removed]",
      "text/plain": [
       "<Figure size 432x288 with 1 Axes>"
      ]
     },
     "metadata": {},
     "output_type": "display_data"
    }
   ],
   "source": [
    "## DF with info on how they found WPC\n",
    "cols = [\"Sign/Poster/flyer\", \"Friend\", \"Website\", \"Social Media\", \"Other org\", \"Lafitte Fauborg Housing Office\", \"Other\"]\n",
    "\n",
    "how_found_WPC = familySurveyDf.iloc[1:, 10:17]\n",
    "how_found_WPC.columns = [cols]\n",
    "\n",
    "how_found_WPC.value_counts().plot.pie(y=cols,ylabel=\"How did you discover WePlay\", subplots=True, autopct='%1.1f%%')\n",
    "## USE .ISNA TO COUNT WHAT AREN'T NANS\n"
   ]
  },
  {
   "cell_type": "markdown",
   "id": "a5554550",
   "metadata": {},
   "source": [
    "##### Misc info about children that are brought to the weplay center"
   ]
  },
  {
   "cell_type": "code",
   "execution_count": 17,
   "id": "3d3bcd49",
   "metadata": {},
   "outputs": [
    {
     "data": {
      "text/plain": [
       "<AxesSubplot:ylabel='Children brough in by parent'>"
      ]
     },
     "execution_count": 17,
     "metadata": {},
     "output_type": "execute_result"
    },
    {
     "data": {
      "image/png": "[encoded data removed]",
      "text/plain": [
       "<Figure size 432x288 with 1 Axes>"
      ]
     },
     "metadata": {},
     "output_type": "display_data"
    }
   ],
   "source": [
    "child_FD = familySurveyDf.iloc[1:, 17:24] # combined 18/19 into 17 manually\n",
    "child_FD.columns = [\"Gender\", \"Age\", \"age2\", \"age3\", \"parent\", \"age4\", \"misc\"]\n",
    "\n",
    "\n",
    "child_FD[\"Gender\"].value_counts().plot.pie(y=\"Gender\", ylabel=\"Children brough in by parent\")\n",
    "#child_FD.groupby(\"Gender\").plot.hist()\n",
    "\n",
    "## this just tells gender and age of children + age of child 2, age child three\n",
    "# then relationship , relationship 2, other"
   ]
  },
  {
   "cell_type": "markdown",
   "id": "9a462342",
   "metadata": {},
   "source": [
    "##### \"Please share the number of days in a typical week that you engage in the following activities\""
   ]
  },
  {
   "cell_type": "code",
   "execution_count": null,
   "id": "a0b7c8f2",
   "metadata": {},
   "outputs": [],
   "source": [
    "daysActivitys_FD = familySurveyDf.iloc[1:, 24:29]\n",
    "daysActivitys_FD.columns = [\"Read Stories\", \"Play Music or Sing\", \n",
    "                     \"Engage in language building activities ie. babbling, cooing, talking\",\n",
    "                    'Engage in play', 'Create opportunities for your child to \"practice\" self control ie. rolling a ball back and forth, taking turns']\n",
    "daysActivitys_FD\n"
   ]
  },
  {
   "cell_type": "markdown",
   "id": "16905e24",
   "metadata": {},
   "source": [
    "##### Please state how strongly you agree with the following statements"
   ]
  },
  {
   "cell_type": "code",
   "execution_count": 19,
   "id": "6cd22f86",
   "metadata": {},
   "outputs": [
    {
     "data": {
      "image/png": "[encoded data removed]",
      "text/plain": [
       "<Figure size 432x288 with 1 Axes>"
      ]
     },
     "metadata": {},
     "output_type": "display_data"
    }
   ],
   "source": [
    "parenting_FD = familySurveyDf.iloc[1:, 29:34]\n",
    "parenting_FD.columns = ['I respond quickly to my child\\'s cries', 'I am able to comfort my child when he/she is upset',\n",
    " 'I know the meaning of my child\\'s signals (cry, turning away, rubbing eyes)',\n",
    " 'I step back and encourage my child to work through problems',\n",
    " 'I am able to follow my child\\'s lead during playtime']\n",
    "parenting_FD\n",
    "for c in parenting_FD.columns:\n",
    "    parenting_FD[c].value_counts().plot.pie(subplots=True, autopct='%1.1f%%')\n",
    "    break\n",
    "    \n",
    "## HOW TO PLOT EACH, INDIVIDUALLY, ON DIFF AXISES\n",
    "\n"
   ]
  },
  {
   "cell_type": "markdown",
   "id": "8863ac7f",
   "metadata": {},
   "source": [
    "#### Parents vary in how they discipline. Below are some strategies parents use to discipline their children. When engaging with your child during the last 7 days, which strategies have you used:"
   ]
  },
  {
   "cell_type": "code",
   "execution_count": 25,
   "id": "3857c3ca",
   "metadata": {
    "scrolled": true
   },
   "outputs": [
    {
     "data": {
      "text/plain": [
       "array([<AxesSubplot:ylabel='used strategy x'>], dtype=object)"
      ]
     },
     "execution_count": 25,
     "metadata": {},
     "output_type": "execute_result"
    },
    {
     "data": {
      "image/png": "[encoded data removed]",
      "text/plain": [
       "<Figure size 432x288 with 1 Axes>"
      ]
     },
     "metadata": {},
     "output_type": "display_data"
    }
   ],
   "source": [
    "discipline_FD = familySurveyDf.iloc[1:, 34]#:42]\n",
    "\n",
    "discipline_FD.value_counts().plot.pie(subplots=True, ylabel=\"used strategy x\")\n",
    "\n",
    "#will do later"
   ]
  },
  {
   "cell_type": "markdown",
   "id": "76524e30",
   "metadata": {},
   "source": [
    "#### The We PLAY Center strives to create a welcoming environment. Please indicate whether you agree or disagree with the following statements about the We PLAY Center:"
   ]
  },
  {
   "cell_type": "code",
   "execution_count": null,
   "id": "4527d4c3",
   "metadata": {},
   "outputs": [],
   "source": [
    "environmentstatements_FD = familySurveyDf.iloc[1:, 42:48]\n",
    "environmentstatements_FD"
   ]
  },
  {
   "cell_type": "markdown",
   "id": "f20a398e",
   "metadata": {},
   "source": [
    "##### Answer if you have attended the We PLAY Center more than 2 times. As a result of attending the We PLAY Center select the response that best describes how you feel."
   ]
  },
  {
   "cell_type": "code",
   "execution_count": null,
   "id": "ac74dac9",
   "metadata": {},
   "outputs": [],
   "source": [
    "x = familySurveyDf.iloc[1:, 48:53]\n",
    "x"
   ]
  },
  {
   "cell_type": "markdown",
   "id": "23744101",
   "metadata": {},
   "source": [
    "##### Play/center + name"
   ]
  },
  {
   "cell_type": "code",
   "execution_count": null,
   "id": "758304df",
   "metadata": {},
   "outputs": [],
   "source": [
    "y = familySurveyDf.iloc[1:, 53:]\n",
    "y"
   ]
  },
  {
   "cell_type": "markdown",
   "id": "10740ff9",
   "metadata": {},
   "source": [
    "## Incoming Parent Reflections"
   ]
  },
  {
   "cell_type": "markdown",
   "id": "e58db79e",
   "metadata": {},
   "source": [
    "### DF with incoming parent survey data for July 2019"
   ]
  },
  {
   "cell_type": "code",
   "execution_count": null,
   "id": "d2c90639",
   "metadata": {},
   "outputs": [],
   "source": [
    "#read in data for incoming parent relfections from july 2019\n",
    "incomingjuly2019 = pd.read_excel(path + \"IncomingParentReflection-July2019\" + \".xlsx\")\n",
    "#display all columns\n",
    "pd.set_option('display.max_columns',None)\n",
    "#delete row full of test reponses\n",
    "incomingjuly2019.drop([1], axis=0, inplace = True)\n",
    "\n",
    "incomingjuly2019.head(3)"
   ]
  },
  {
   "cell_type": "markdown",
   "id": "2c781168",
   "metadata": {},
   "source": [
    "**Data about the child's parent or guardian.**"
   ]
  },
  {
   "cell_type": "code",
   "execution_count": null,
   "id": "e8c0f302",
   "metadata": {},
   "outputs": [],
   "source": [
    "#create df with information about adult bringing child in\n",
    "adult_july2019 = incomingjuly2019[[\"What is your gender?\",\"How old are you?\",\"Which of the following race/ethnicity categories best describes you?\",\"What is the highest level of education you have completed?\",\"What is your relationship to the child?\",\"How many times do you attend the We PLAY center in a typical month?\"]]\n",
    "#Rename columns \n",
    "adult_july2019.columns = [[\"Resp_Gender\", \"Resp_Age\", \"Resp_Race\",\"highest_edu\",\"Resp_relationship_to_child\",\"visits_Monthly\"]]\n",
    "#drop unnessecary column with few data points\n",
    "adult_july2019.drop([0], axis=0, inplace = True)\n",
    "#adult_july2019"
   ]
  },
  {
   "cell_type": "markdown",
   "id": "2c4fb85d",
   "metadata": {},
   "source": [
    "**Data about the child's household.**"
   ]
  },
  {
   "cell_type": "code",
   "execution_count": null,
   "id": "acbbef89",
   "metadata": {},
   "outputs": [],
   "source": [
    "#create df with info relating to child's household\n",
    "householdinfo_july2019 = incomingjuly2019.iloc[0:, 5:10]\n",
    "#Rename columns\n",
    "householdinfo_july2019.columns = [[\"Adults\", \"Children\", \"Zip\", \"OMIT\", \"Avg_Income\"]]\n",
    "#Drop unessecary column with few data points\n",
    "householdinfo_july2019.drop(columns=[\"OMIT\"], inplace=True)\n",
    "#drop unnesscary row with response parameters\n",
    "householdinfo_july2019.drop([0], axis=0, inplace = True)\n",
    "#householdinfo_july2019"
   ]
  },
  {
   "cell_type": "markdown",
   "id": "644bff26",
   "metadata": {},
   "source": [
    "**Data about how parents found WPC.**"
   ]
  },
  {
   "cell_type": "code",
   "execution_count": null,
   "id": "2cd6f1f3",
   "metadata": {},
   "outputs": [],
   "source": [
    "## DF with info on how they found WPC\n",
    "how_found_WPC_july2019 = incomingjuly2019.iloc[1:, 120:127]\n",
    "how_found_WPC_july2019.columns = [[\"Sign/Poster/flyer\", \"Friend\", \"Website\", \"Social Media\", \"Other org\", \"Lafitte Fauborg Housing Office\", \"Other\"]]\n",
    "\n",
    "#~how_found_WPC_july2019.isna()  # Gives table of methods people used to find WPC"
   ]
  },
  {
   "cell_type": "markdown",
   "id": "2bc11ead",
   "metadata": {},
   "source": [
    "**Data about the childrens age and gender.**"
   ]
  },
  {
   "cell_type": "code",
   "execution_count": null,
   "id": "ba82cbeb",
   "metadata": {},
   "outputs": [],
   "source": [
    "child_July2019 = incomingjuly2019.iloc[1:, 12:21]\n",
    "\n",
    "child_July2019.columns = [[\"1st child age\",\"1st child's gender\",\"resp relationship to 1st child\",\"2nd child age\",\" 2nd child's gender\",\"resp relationship to 2nd child\",\"3rd child age\",\" 3rd child's gender\",\"resp relationship to 3rd child\"]]                   \n",
    "\n",
    "#child_July2019\n",
    "## this just tells gender and age of children + age of child 2, age child three\n",
    "# then relationship , relationship 2, other"
   ]
  },
  {
   "cell_type": "markdown",
   "id": "4e2fbb99",
   "metadata": {},
   "source": [
    "**Data about why parents have not applied for childcare.**"
   ]
  },
  {
   "cell_type": "code",
   "execution_count": null,
   "id": "f7dbffa0",
   "metadata": {},
   "outputs": [],
   "source": [
    "#create df with info about why parents have not applied for childcare\n",
    "nochildcare_july2019 = incomingjuly2019.iloc[0:, 31:39]\n",
    "#Rename columns\n",
    "nochildcare_july2019.columns = [[\"It is too expensive\", \"I feel my child is not old enough\", \"There is a lack of quality childhood care and education\",\"I use a nanny to care for my child\", \"I use a family member to care for my child\",\"Other  (please specify)\",\"Type of Program Applied for\",\"Are you currently on a waiting list for a program?\"]]\n",
    "#Drop unessecary column with few data points\n",
    "#householdinfo_july2019.drop(columns=[\"OMIT\"], inplace=True)\n",
    "#drop unnesscary row with response parameters\n",
    "nochildcare_july2019.drop([0], axis=0, inplace = True)\n",
    "#nochildcare_july2019"
   ]
  },
  {
   "cell_type": "markdown",
   "id": "dbf4a433",
   "metadata": {},
   "source": [
    "**Data about parents interact with their children before and after WP.**"
   ]
  },
  {
   "cell_type": "code",
   "execution_count": null,
   "id": "7bd8a6b2",
   "metadata": {},
   "outputs": [],
   "source": [
    "#create df with directly comparable info about how parents interact with their children before and after WePlay\n",
    "parent_child_behaviors_july2019 = incomingjuly2019[[\"Please think about each statement and how you currently feel\",\"Unnamed: 43\",\"Unnamed: 44\",\"Unnamed: 45\",\"Unnamed: 46\",\"Unnamed: 47\",'\"Since coming to the We PLAY Center I…\"',\"Unnamed: 87\",\"Unnamed: 88\",\"Unnamed: 89\",\"Unnamed: 90\",\"Unnamed: 91\"]]\n",
    "#Rename columns\n",
    "parent_child_behaviors_july2019.columns = [[\"Read to my child (Before WP)\",\"Play with my child (Before WP)\",\"Talk to my child (Before WP)\", \"Listen to my child (Before WP)\",\"Set limits with my child (Before WP)\",\"Yell at my child (Before WP)\",\"Read to my child (Since WP)\",\"Play with my child (Since WP)\",\"Talk to my child (Since WP)\",\"Listen to my child (Since WP)\",\"Set limits with my child (Since WP)\",\"Yell at my child (Since WP)\"]]\n",
    "#drop unnesscary row with response parameters\n",
    "parent_child_behaviors_july2019.drop([0], axis=0, inplace = True)\n",
    "#parent_child_behaviors_july2019"
   ]
  },
  {
   "cell_type": "markdown",
   "id": "0c45a78e",
   "metadata": {},
   "source": [
    "**Data about how parents feel they've grown since WP.**"
   ]
  },
  {
   "cell_type": "code",
   "execution_count": null,
   "id": "b96f88ab",
   "metadata": {},
   "outputs": [],
   "source": [
    "#create df with info about how parents feel they've grown since We Play\n",
    "since_WP_Parents_july2019 = incomingjuly2019[[\"After coming to the center, which of the following aspects have changed for you as a parent? Please choose one option for each statement.\",\"Unnamed: 62\",\"Unnamed: 63\",\"Unnamed: 64\",\"Unnamed: 65\",\"Unnamed: 66\",\"Unnamed: 67\",'\"Since coming to We PLAY Center…\"',\"Unnamed: 81\",\"Unnamed: 82\",\"Unnamed: 83\",\"Unnamed: 84\",\"Unnamed: 85\"]]\n",
    "#Rename columns\n",
    "since_WP_Parents_july2019.columns = [[\"My stress level as a parent...\",\"My knowledge about parenting support and resources in the community...\",\"My knowledge about my child’s development...\",\"My knowledge about how to foster my child’s development...\",\"My knowledge about nurturing and responsive parenting strategies...\",\"My knowledge about nutrition and breastfeeding...\",\"My confidence in my role as a parent...\",\"I engage with my child by repeating his/her words or sounds...\",\"I engage with my child in pretend play...\",\"I stand back and let my child work through problems...\",\"I engage in bonding activities with my child...\",\"I am better able to help my child uses age appropriate social skills...\",\"I am better able to support my child as he/she learns new skills...\"]]\n",
    "#drop unnesscary row with response parameters\n",
    "since_WP_Parents_july2019.drop([0], axis=0, inplace = True)\n",
    "#since_WP_Parents_july2019"
   ]
  },
  {
   "cell_type": "markdown",
   "id": "9402a6dd",
   "metadata": {},
   "source": [
    "**Data about how parents feel their children have grown since WP.**"
   ]
  },
  {
   "cell_type": "code",
   "execution_count": null,
   "id": "d00ea31d",
   "metadata": {},
   "outputs": [],
   "source": [
    "#create df with info about how parents feel their children have grown since We Play\n",
    "since_WP_child_july2019 = incomingjuly2019[[\"Since attending the We PLAY Center, which of the following aspects of your child's development have changed? Please choose one option for each statement.\",\"Unnamed: 58\",\"Unnamed: 59\",\"Unnamed: 60\"]]\n",
    "#Rename columns\n",
    "since_WP_child_july2019.columns = [[\"My child's early learning and cognitive skills...\",\"My child's early language abilities...\",\"My child's early social emotional skills...\", \"My child's school readiness...\"]]\n",
    "#drop unnesscary row with response parameters\n",
    "since_WP_child_july2019.drop([0], axis=0, inplace = True)\n",
    "#since_WP_child_july2019"
   ]
  },
  {
   "cell_type": "markdown",
   "id": "588da778",
   "metadata": {},
   "source": [
    "**Data about the parent's misc opinions on WP.**"
   ]
  },
  {
   "cell_type": "code",
   "execution_count": null,
   "id": "3de77b42",
   "metadata": {},
   "outputs": [],
   "source": [
    "#create df with parent's other opinions on WePlay\n",
    "other_WP_opinions_july2019 = incomingjuly2019[['\"The We PLAY Center...\"',\"Unnamed: 70\",\"Unnamed: 71\",\"Unnamed: 72\",\"Unnamed: 73\",'\"The We PLAY Center has...\"',\"Unnamed: 75\",\"Unnamed: 76\",\"Unnamed: 77\",\"Unnamed: 78\",\"Unnamed: 79\"]]\n",
    "#Rename columns\n",
    "other_WP_opinions_july2019.columns = [[\"Provides an enriched learning environment, provides educational toys\",\"Offers an adequate number of toys\",\"Creates a positive welcoming friendly atmosphere\", \"Staff is knowledgeable and answer questions willingly\",\"Staff is patient and empathetic\",\"Been helpful to my family\",\"Given me more confidence as a parent\",\"Helped me to become a better parent\",\"Provided me with positive parenting strategies\",\"Supported me in my role as a parent/caregiver\",\"Created a support system with other members of the We PLAY Center\"]]\n",
    "#drop unnesscary row with response parameters\n",
    "other_WP_opinions_july2019.drop([0], axis=0, inplace = True)\n",
    "#other_WP_opinions_july2019"
   ]
  },
  {
   "cell_type": "markdown",
   "id": "4b5b6922",
   "metadata": {},
   "source": [
    "**Data about what kind of information parents want more of from WP.**"
   ]
  },
  {
   "cell_type": "code",
   "execution_count": null,
   "id": "ac84b4b0",
   "metadata": {},
   "outputs": [],
   "source": [
    "#create df with survey info about what kind of info parents want more of\n",
    "desired_info_july2019 = incomingjuly2019[[\"Which of the following aspects would you like the We Play Center to address more often? Please select all that apply and use the space to write in any additional comments.\",\"Unnamed: 100\",\"Unnamed: 101\",\"Unnamed: 102\",\"Unnamed: 103\",\"Unnamed: 104\",\"Unnamed: 105\",\"Unnamed: 106\",\"Unnamed: 107\",\"Unnamed: 108\"]]\n",
    "#Rename columns\n",
    "desired_info_july2019.columns = [[\"Stress Relief\",\"Information about community resources\",\"Information about how to foster my child’s development\", \"Information about nurturing and responsive parenting strategies\",\"Information about mouthing (biting, putting objects in their mouth)\",\"Information about conflict resolution\",\"Information about sharing\",\"Information about nursing/ feeding\",\"Information about temper tantrums\",\"Information about sleeping\"]]\n",
    "#drop unnesscary row with response parameters\n",
    "#desired_info_july2019.drop([0], axis=0, inplace = True)\n",
    "#desired_info_july2019\n",
    "#~desired_info_july2019.isna()"
   ]
  },
  {
   "cell_type": "markdown",
   "id": "902e90cf",
   "metadata": {},
   "source": [
    "**Open response, what will keep people coming back to WP.**"
   ]
  },
  {
   "cell_type": "code",
   "execution_count": null,
   "id": "a66d75b1",
   "metadata": {},
   "outputs": [],
   "source": [
    "#create df with open response detailing what parents say will keep them coming back\n",
    "keep_coming_back_july2019 = incomingjuly2019[[\"What will keep you coming back to the We PLAY Center?\"]]\n",
    "#drop unnesscary row with response parameters\n",
    "#keep_coming_back_july2019.drop([0], axis=0, inplace = True)\n",
    "#keep_coming_back_july2019"
   ]
  },
  {
   "cell_type": "markdown",
   "id": "fb1bb389",
   "metadata": {},
   "source": [
    "## DF with incoming parent survey data from Nov 2019"
   ]
  },
  {
   "cell_type": "code",
   "execution_count": null,
   "id": "f3ee31c2",
   "metadata": {},
   "outputs": [],
   "source": [
    "#read in data for incoming parent relfections from july 2019\n",
    "incomingnov2019 = pd.read_excel(path + \"IncomingParentReflection-November2019\" + \".xlsx\")\n",
    "#display all columns\n",
    "pd.set_option('display.max_columns',None)\n",
    "#delete row full of test reponses\n",
    "incomingnov2019.drop([0], axis=0, inplace = True)\n",
    "\n",
    "incomingnov2019.head(3)"
   ]
  },
  {
   "cell_type": "markdown",
   "id": "29a9b7bf",
   "metadata": {},
   "source": [
    "**Data about the child's parent or guardian.**"
   ]
  },
  {
   "cell_type": "code",
   "execution_count": null,
   "id": "fc67e6ff",
   "metadata": {},
   "outputs": [],
   "source": [
    "#create df with information about adult bringing child in\n",
    "adult_nov2019 = incomingnov2019[[\"What is your gender?\",\"How old are you?\",\"Which of the following race/ethnicity categories best describes you?\",\"What is the highest level of education you have completed?\",\"What is your relationship to the child?\",\"How many times do you attend the We PLAY center in a typical month?\"]]\n",
    "#Rename columns \n",
    "adult_nov2019.columns = [[\"Resp_Gender\", \"Resp_Age\", \"Resp_Race\",\"highest_edu\",\"Resp_relationship_to_child\",\"visits_Monthly\"]]\n",
    "#adult_nov2019"
   ]
  },
  {
   "cell_type": "markdown",
   "id": "8556dd83",
   "metadata": {},
   "source": [
    "**Data about the child's household.**"
   ]
  },
  {
   "cell_type": "code",
   "execution_count": null,
   "id": "f91abf17",
   "metadata": {},
   "outputs": [],
   "source": [
    "#create df with info relating to child's household\n",
    "householdinfo_nov2019 = incomingnov2019.iloc[0:, 10:15]\n",
    "#Rename columns\n",
    "householdinfo_nov2019.columns = [[\"Adults\", \"Children\", \"Zip\", \"OMIT\", \"Avg_Income\"]]\n",
    "#Drop unessecary column with few data points\n",
    "householdinfo_nov2019.drop(columns=[\"OMIT\"], inplace=True)\n",
    "#drop unnesscary row with response parameters\n",
    "#householdinfo_nov2019.drop([0], axis=0, inplace = True)\n",
    "#householdinfo_nov2019"
   ]
  },
  {
   "cell_type": "markdown",
   "id": "d65b4ab9",
   "metadata": {},
   "source": [
    "**Data about how parents found WPC.**"
   ]
  },
  {
   "cell_type": "code",
   "execution_count": null,
   "id": "fe786cdd",
   "metadata": {},
   "outputs": [],
   "source": [
    "## DF with info on how they found WPC\n",
    "how_found_WPC_nov2019 = incomingnov2019.iloc[1:, 127:136]\n",
    "how_found_WPC_nov2019.columns = [[\"Sign/Poster/flyer\", \"Friend\",\"Family\", \"Website\", \"Social Media\", \"Other org\", \"Lafitte Fauborg Housing Office\", \"We PLAY Center Staff\",\"Other\"]]\n",
    "\n",
    "#~how_found_WPC_nov2019.isna()  # Gives table of methods people used to find WPC"
   ]
  },
  {
   "cell_type": "markdown",
   "id": "1167fc3b",
   "metadata": {},
   "source": [
    "**Data about the childrens age and gender.**"
   ]
  },
  {
   "cell_type": "code",
   "execution_count": null,
   "id": "89194a47",
   "metadata": {},
   "outputs": [],
   "source": [
    "child_nov2019 = incomingnov2019.iloc[1:, 17:33]\n",
    "child_nov2019.drop([\"Unnamed: 20\",\"How old is the 1st child?.1\",\"What is the 1st child's gender?\",\"What is your relationship to the 1st child?\",\"Unnamed: 24\",\"How old is the 1st child?\",\"What is the 1st child's gender?\",\"What is your relationship to the 1st child?.1\"], axis=1, inplace = True)\n",
    "child_nov2019.columns = [[\"1st child age\",\"1st child's gender\",\"1st resp relationship to child\",\"2nd child age\",\" 2nd child's gender\",\"resp relationship to 2nd child\",\"3rd child age\",\" 3rd child's gender\",\"resp relationship to 3rd child\"]]                   \n",
    "#child_nov2019\n",
    "\n",
    "## this just tells gender and age of children + age of child 2, age child three\n",
    "# then relationship , relationship 2, other"
   ]
  },
  {
   "cell_type": "markdown",
   "id": "b0e26dd2",
   "metadata": {},
   "source": [
    "**Data about why parents have not applied for childcare.**"
   ]
  },
  {
   "cell_type": "code",
   "execution_count": null,
   "id": "8ba72d82",
   "metadata": {},
   "outputs": [],
   "source": [
    "#create df with info about why parents have not applied for childcare\n",
    "nochildcare_nov2019 = incomingnov2019.iloc[0:, 34:42]\n",
    "#Rename columns\n",
    "nochildcare_nov2019.columns = [[\"It is too expensive\", \"I feel my child is not old enough\", \"There is a lack of quality childhood care and education\",\"I use a nanny to care for my child\", \"I use a family member to care for my child\",\"Other  (please specify)\",\"Type of Program Applied for\",\"Are you currently on a waiting list for a program?\"]]\n",
    "\n",
    "#nochildcare_nov2019"
   ]
  },
  {
   "cell_type": "markdown",
   "id": "bd9d05c2",
   "metadata": {},
   "source": [
    "**Data about parents interact with their children before and after WP.**"
   ]
  },
  {
   "cell_type": "code",
   "execution_count": null,
   "id": "807ae50f",
   "metadata": {},
   "outputs": [],
   "source": [
    "#create df with directly comparable info about how parents interact with their children before and after WePlay\n",
    "parent_child_behaviors_nov2019 = incomingnov2019[[\"Please think about each statement and how you currently feel\",\"Unnamed: 55\",\"Unnamed: 56\",\"Unnamed: 57\",\"Unnamed: 58\",\"Unnamed: 59\",'\"Since coming to the We PLAY Center I…\"',\"Unnamed: 99\",\"Unnamed: 100\",\"Unnamed: 101\",\"Unnamed: 102\",\"Unnamed: 103\"]]\n",
    "#Rename columns\n",
    "parent_child_behaviors_nov2019.columns = [[\"Read to my child (Before WP)\",\"Play with my child (Before WP)\",\"Talk to my child (Before WP)\", \"Listen to my child (Before WP)\",\"Set limits with my child (Before WP)\",\"Yell at my child (Before WP)\",\"Read to my child (Since WP)\",\"Play with my child (Since WP)\",\"Talk to my child (Since WP)\",\"Listen to my child (Since WP)\",\"Set limits with my child (Since WP)\",\"Yell at my child (Since WP)\"]]\n",
    "\n",
    "#parent_child_behaviors_nov2019"
   ]
  },
  {
   "cell_type": "markdown",
   "id": "7cdc1609",
   "metadata": {},
   "source": [
    "**Data about how parents feel they've grown since WP.**"
   ]
  },
  {
   "cell_type": "code",
   "execution_count": null,
   "id": "ad310224",
   "metadata": {},
   "outputs": [],
   "source": [
    "#create df with info about how parents feel they've grown since We Play\n",
    "since_WP_Parents_nov2019 = incomingnov2019[[\"After coming to the center, which of the following aspects have changed for you as a parent? Please choose one option for each statement.\",\"Unnamed: 75\",\"Unnamed: 75\",\"Unnamed: 76\",\"Unnamed: 77\",\"Unnamed: 78\",\"Unnamed: 79\",'\"Since coming to We PLAY Center…\"',\"Unnamed: 93\",\"Unnamed: 94\",\"Unnamed: 95\",\"Unnamed: 96\",\"Unnamed: 97\"]]\n",
    "#Rename columns\n",
    "since_WP_Parents_nov2019.columns = [[\"My stress level as a parent...\",\"My knowledge about parenting support and resources in the community...\",\"My knowledge about my child’s development...\",\"My knowledge about how to foster my child’s development...\",\"My knowledge about nurturing and responsive parenting strategies...\",\"My knowledge about nutrition and breastfeeding...\",\"My confidence in my role as a parent...\",\"I engage with my child by repeating his/her words or sounds...\",\"I engage with my child in pretend play...\",\"I stand back and let my child work through problems...\",\"I engage in bonding activities with my child...\",\"I am better able to help my child uses age appropriate social skills...\",\"I am better able to support my child as he/she learns new skills...\"]]\n",
    "\n",
    "#since_WP_Parents_nov2019"
   ]
  },
  {
   "cell_type": "markdown",
   "id": "c881494c",
   "metadata": {},
   "source": [
    "**Data about how parents feel their children have grown since WP.**"
   ]
  },
  {
   "cell_type": "code",
   "execution_count": null,
   "id": "3e9d81dc",
   "metadata": {},
   "outputs": [],
   "source": [
    "#create df with info about how parents feel their children have grown since We Play\n",
    "since_WP_child_nov2019 = incomingnov2019[[\"Since attending the We PLAY Center, which of the following aspects of your child's development have changed? Please choose one option for each statement.\",\"Unnamed: 70\",\"Unnamed: 71\",\"Unnamed: 72\"]]\n",
    "#Rename columns\n",
    "since_WP_child_nov2019.columns = [[\"My child's early learning and cognitive skills...\",\"My child's early language abilities...\",\"My child's early social emotional skills...\", \"My child's school readiness...\"]]\n",
    "#drop unnesscary row with response parameters\n",
    "#since_WP_child_nov2019.drop([0], axis=0, inplace = True)\n",
    "#since_WP_child_nov2019"
   ]
  },
  {
   "cell_type": "markdown",
   "id": "d411ceac",
   "metadata": {},
   "source": [
    "**Data about the parent's misc opinions on WP.**"
   ]
  },
  {
   "cell_type": "code",
   "execution_count": null,
   "id": "4a49ef6d",
   "metadata": {},
   "outputs": [],
   "source": [
    "#create df with parent's other opinions on WePlay\n",
    "other_WP_opinions_nov2019 = incomingnov2019[['\"The We PLAY Center...\"',\"Unnamed: 82\",\"Unnamed: 83\",\"Unnamed: 84\",\"Unnamed: 85\",'\"The We PLAY Center has...\"',\"Unnamed: 87\",\"Unnamed: 88\",\"Unnamed: 89\",\"Unnamed: 90\",\"Unnamed: 91\"]]\n",
    "#Rename columns\n",
    "other_WP_opinions_nov2019.columns = [[\"Provides an enriched learning environment, provides educational toys\",\"Offers an adequate number of toys\",\"Creates a positive welcoming friendly atmosphere\", \"Staff is knowledgeable and answer questions willingly\",\"Staff is patient and empathetic\",\"Been helpful to my family\",\"Given me more confidence as a parent\",\"Helped me to become a better parent\",\"Provided me with positive parenting strategies\",\"Supported me in my role as a parent/caregiver\",\"Created a support system with other members of the We PLAY Center\"]]\n",
    "#drop unnesscary row with response parameters\n",
    "#other_WP_opinions_nov2019.drop([0], axis=0, inplace = True)\n",
    "#other_WP_opinions_nov2019.head(5)"
   ]
  },
  {
   "cell_type": "markdown",
   "id": "cf97f8da",
   "metadata": {},
   "source": [
    "**Data about what kind of information parents want more of from WP.**"
   ]
  },
  {
   "cell_type": "code",
   "execution_count": null,
   "id": "fb853ce8",
   "metadata": {},
   "outputs": [],
   "source": [
    "#create df with survey info about what kind of info parents want more of\n",
    "desired_info_nov2019 = incomingnov2019[[\"Which of the following aspects would you like the We Play Center to address more often? Please select all that apply and use the space to write in any additional comments.\",\"Unnamed: 112\",\"Unnamed: 113\",\"Unnamed: 114\",\"Unnamed: 115\",\"Unnamed: 116\",\"Unnamed: 117\",\"Unnamed: 118\",\"Unnamed: 119\",\"Unnamed: 120\"]]\n",
    "#Rename columns\n",
    "desired_info_nov2019.columns = [[\"Stress Relief\",\"Information about community resources\",\"Information about how to foster my child’s development\", \"Information about nurturing and responsive parenting strategies\",\"Information about mouthing (biting, putting objects in their mouth)\",\"Information about conflict resolution\",\"Information about sharing\",\"Information about nursing/ feeding\",\"Information about temper tantrums\",\"Information about sleeping\"]]\n",
    "#desired_info_nov2019\n",
    "#~desired_info_nov2019.isna()"
   ]
  },
  {
   "cell_type": "markdown",
   "id": "75f8158a",
   "metadata": {},
   "source": [
    "**Open response, what will keep people coming back to WP.**"
   ]
  },
  {
   "cell_type": "code",
   "execution_count": null,
   "id": "816d3456",
   "metadata": {},
   "outputs": [],
   "source": [
    "#create df with open response detailing what parents say will keep them coming back\n",
    "keep_coming_back_nov2019 = incomingnov2019[[\"What will keep you coming back to the We PLAY Center?\"]]\n",
    "\n",
    "#keep_coming_back_nov2019"
   ]
  },
  {
   "cell_type": "markdown",
   "id": "4705be2e",
   "metadata": {},
   "source": [
    "## DF with incoming parent survey data from 2020"
   ]
  },
  {
   "cell_type": "code",
   "execution_count": null,
   "id": "4a7e55f3",
   "metadata": {},
   "outputs": [],
   "source": [
    "#read in data for incoming parent relfections from july 2019\n",
    "incoming2020 = pd.read_excel(path + \"IncomingParentReflectionForm2020\" + \".xlsx\")\n",
    "#display all columns\n",
    "pd.set_option('display.max_columns',None)\n",
    "#delete row full of test reponses\n",
    "incoming2020.drop([0], axis=0, inplace = True)\n",
    "\n",
    "incoming2020.head(3)"
   ]
  },
  {
   "cell_type": "markdown",
   "id": "9edc72cb",
   "metadata": {},
   "source": [
    "**Data about the child's parent or guardian.**"
   ]
  },
  {
   "cell_type": "code",
   "execution_count": null,
   "id": "d60c8150",
   "metadata": {},
   "outputs": [],
   "source": [
    "#create df with information about adult bringing child in\n",
    "adult_2020 = incoming2020[[\"What is your gender?\",\"How old are you?\",\"Which of the following race/ethnicity categories best describes you?\",\"What is the highest level of education you have completed?\",\"What is your relationship to the child?\"]]\n",
    "#Rename columns \n",
    "adult_2020.columns = [[\"Resp_Gender\", \"Resp_Age\", \"Resp_Race\",\"highest_edu\",\"Resp_relationship_to_child\"]]\n",
    "#delete row full of test reponses\n",
    "#adult_2020.drop([0], axis=0, inplace = True)\n",
    "#adult_2020"
   ]
  },
  {
   "cell_type": "markdown",
   "id": "f69b3328",
   "metadata": {},
   "source": [
    "**Data about the child's household.**"
   ]
  },
  {
   "cell_type": "code",
   "execution_count": null,
   "id": "1e5c5c2e",
   "metadata": {},
   "outputs": [],
   "source": [
    "#create df with info relating to child's household\n",
    "householdinfo_2020 = incoming2020.iloc[0:, 4:9]\n",
    "#Rename columns\n",
    "householdinfo_2020.columns = [[\"Adults\", \"Children\", \"Zip\", \"OMIT\", \"Avg_Income\"]]\n",
    "#Drop unessecary column with few data points\n",
    "householdinfo_2020.drop(columns=[\"OMIT\"], inplace=True)\n",
    "#drop unnesscary row with response parameters\n",
    "#householdinfo_nov2019.drop([0], axis=0, inplace = True)\n",
    "#householdinfo_2020"
   ]
  },
  {
   "cell_type": "markdown",
   "id": "7383e0c3",
   "metadata": {},
   "source": [
    "**Data about how parents found WPC.**"
   ]
  },
  {
   "cell_type": "code",
   "execution_count": null,
   "id": "9ca6d4c5",
   "metadata": {},
   "outputs": [],
   "source": [
    "## DF with info on how they found WPC\n",
    "how_found_WPC_2020 = incoming2020[[\"How did you find out about the We PLAY Center?\"]]\n",
    "#how_found_WPC_2020"
   ]
  },
  {
   "cell_type": "markdown",
   "id": "d7409c3c",
   "metadata": {},
   "source": [
    "**Data about the childrens age and gender.**"
   ]
  },
  {
   "cell_type": "code",
   "execution_count": null,
   "id": "cc36705e",
   "metadata": {},
   "outputs": [],
   "source": [
    "child_2020 = incoming2020[[\"How old is the 1st child?\",\"What is the 1st child's gender?\",\"What is your relationship to the 1st child?\",\"How old is the 2nd child?\",\"What is the 2nd child's gender?\",\"What is your relationship to the 2nd child?\"]]\n",
    "child_2020.columns = [[\"1st child age\",\"1st child's gender\",\"resp relationship to 1st child\",\"2nd child age\",\" 2nd child's gender\",\"resp relationship to 2nd child\"]]                   \n",
    "#child_2020\n",
    "\n",
    "## this just tells gender and age of children + age of child 2, age child three\n",
    "# then relationship , relationship 2, other"
   ]
  },
  {
   "cell_type": "markdown",
   "id": "1ba32437",
   "metadata": {},
   "source": [
    "**Data about why parents have not applied for childcare.**"
   ]
  },
  {
   "cell_type": "code",
   "execution_count": null,
   "id": "918e2adb",
   "metadata": {},
   "outputs": [],
   "source": [
    "#create df with info about why parents have not applied for childcare\n",
    "nochildcare_2020 = incoming2020.iloc[0:, 21:24]\n",
    "#Rename columns\n",
    "#nochildcare_2020.columns = [[\"It is too expensive\", \"I feel my child is not old enough\", \"There is a lack of quality childhood care and education\",\"I use a nanny to care for my child\", \"I use a family member to care for my child\",\"Other  (please specify)\",\"Type of Program Applied for\",\"Are you currently on a waiting list for a program?\"]]\n",
    "\n",
    "#nochildcare_2020"
   ]
  },
  {
   "cell_type": "markdown",
   "id": "49e7f481",
   "metadata": {},
   "source": [
    "**Data about parents interact with their children.**"
   ]
  },
  {
   "cell_type": "code",
   "execution_count": null,
   "id": "9496bc8f",
   "metadata": {},
   "outputs": [],
   "source": [
    "#create df with info about how parents interact with their children currently, Unfortunate they did not maintain the before and after WP\n",
    "parent_child_behaviors_2020 = incoming2020[[\"Please think about each statement and how you currently feel\",\"Unnamed: 36\",\"Unnamed: 37\",\"Unnamed: 38\",\"Unnamed: 39\",\"Unnamed: 40\"]]\n",
    "#Rename columns\n",
    "parent_child_behaviors_2020.columns = [[\"Read to my child (Currently)\",\"Play with my child (Currently)\",\"Talk to my child (Currently)\", \"Listen to my child (Currently)\",\"Set limits with my child (Currently)\",\"Yell at my child (Currently)\"]]\n",
    "\n",
    "#parent_child_behaviors_2020"
   ]
  },
  {
   "cell_type": "markdown",
   "id": "de2dcf88",
   "metadata": {},
   "source": [
    "**Data about how parents currently feel about their parenting skills and a few misc opinions**"
   ]
  },
  {
   "cell_type": "code",
   "execution_count": null,
   "id": "4b8f839e",
   "metadata": {},
   "outputs": [],
   "source": [
    "#create df with info about how parents feel they've grown since We Play\n",
    "currently_Parents_feel_2020 = incoming2020[[\"Think about each statement and how you currently feel .\",\"Unnamed: 42\",\"Unnamed: 43\",\"Unnamed: 44\",\"Unnamed: 45\",\"Unnamed: 46\",\"Unnamed: 47\",'\"Overall...\"',\"Unnamed: 25\",\"Unnamed: 26\",\"Unnamed: 27\",\"Unnamed: 28\",\"Unnamed: 29\",\"Unnamed: 30\",\"Unnamed: 31\",\"Unnamed: 32\",\"Unnamed: 33\",\"Unnamed: 34\"]]\n",
    "#Rename columns\n",
    "currently_Parents_feel_2020.columns = [[\"I stress about parenting...\",\"I use positive parenting strategies...\",\"I understand my child’s behavior...\",\"I am able to comfort my child when he/she is upset...\",\"I attend Parenting Learning Opportunities (workshop)...\",\"I feel overwhelmed with my child’s behavior...\",\"I feel my child is exposed to activities that stimulate his/her development...\",\"I feel confident as a parent\",\"I have access to resources to become a better parent\",\"I want to learn strategies to improve my parenting skills\",\"I understand child development\",\"I know age appropriate expectations for my child\",\"I know how to foster my child’s development\",\"I am knowledgeable about positive and nurturing parenting strategies\",\"I utilize positive parenting strategies\",\"I am supported in my role as a parent/caregiver\",\"I have a support system that consist of families with children of similar ages as my child\",\"I spend time with my child doing what he/she likes to do.\"]]\n",
    "\n",
    "#currently_Parents_feel_2020"
   ]
  },
  {
   "cell_type": "markdown",
   "id": "d4590cc8",
   "metadata": {},
   "source": [
    "**Data about what kind of information parents want more of from WP.**"
   ]
  },
  {
   "cell_type": "code",
   "execution_count": null,
   "id": "ab6b2b87",
   "metadata": {},
   "outputs": [],
   "source": [
    "#create df with survey info about what kind of info parents want more of\n",
    "desired_info_2020 = incoming2020[[\"Which of the following aspects would you like the We Play Center to address? Please select all that apply and use the space to write in any additional comments.\",\"Unnamed: 51\",\"Unnamed: 52\",\"Unnamed: 53\",\"Unnamed: 54\",\"Unnamed: 55\",\"Unnamed: 56\",\"Unnamed: 57\",\"Unnamed: 58\",\"Unnamed: 59\"]]\n",
    "#Rename columns\n",
    "desired_info_2020.columns = [[\"Stress Relief\",\"Information about community resources\",\"Information about how to foster my child’s development\", \"Information about nurturing and responsive parenting strategies\",\"Information about mouthing (biting, putting objects in their mouth)\",\"Information about conflict resolution\",\"Information about sharing\",\"Information about nursing/ feeding\",\"Information about temper tantrums\",\"Information about sleeping\"]]\n",
    "#desired_info_2020\n",
    "#~desired_info_2020.isna()"
   ]
  },
  {
   "cell_type": "markdown",
   "id": "dc7af66b",
   "metadata": {},
   "source": [
    "**Open response, what will keep people coming back to WP.**"
   ]
  },
  {
   "cell_type": "code",
   "execution_count": null,
   "id": "d0f554fa",
   "metadata": {},
   "outputs": [],
   "source": [
    "#create df with open response detailing what parents say will keep them coming back\n",
    "keep_coming_back_2020 = incoming2020[[\"What will keep you coming back to the We PLAY Center?\"]]\n",
    "\n",
    "#keep_coming_back_2020"
   ]
  },
  {
   "cell_type": "markdown",
   "id": "ca388b52",
   "metadata": {},
   "source": [
    "## Incoming - No Date"
   ]
  },
  {
   "cell_type": "code",
   "execution_count": null,
   "id": "03934a33",
   "metadata": {},
   "outputs": [],
   "source": [
    "incoming_data_XX = incomingnov2019 = pd.read_excel(path + \"IncomingParentReflection\" + \".xlsx\")\n",
    "incoming_data_XX"
   ]
  },
  {
   "cell_type": "markdown",
   "id": "7ea5eca6",
   "metadata": {},
   "source": [
    "# Automatic updating for Git Pages"
   ]
  },
  {
   "cell_type": "code",
   "execution_count": null,
   "id": "e403f00c",
   "metadata": {},
   "outputs": [],
   "source": [
    "# use gh-pages branch to display on rena's personal website\n",
    "!git checkout gh-pages"
   ]
  },
  {
   "cell_type": "code",
   "execution_count": null,
   "id": "138991a4",
   "metadata": {},
   "outputs": [],
   "source": [
    "# automatically create index.html\n",
    "# convert this file to HTML\n",
    "!jupyter nbconvert --to html MilestoneTwo.ipynb\n",
    "\n",
    "# Delete old index.html\n",
    "!rm index.html\n",
    "# move MilestoneTwo.html to index.html\n",
    "!mv MilestoneTwo.html index.html\n",
    "\n",
    "# Push to Rena's repo\n",
    "!git config --global user.name \"renarepenning\"\n",
    "!git config --global user.email \"rrepenning@tulane.edu\"\n",
    "!git add -A\n",
    "!git commit -m \"auto update index.html\"\n",
    "\n",
    "# !git push\n",
    "# must push manually?"
   ]
  },
  {
   "cell_type": "code",
   "execution_count": null,
   "id": "527363fb",
   "metadata": {},
   "outputs": [],
   "source": []
  },
  {
   "cell_type": "code",
   "execution_count": null,
   "id": "d8d1d844",
   "metadata": {},
   "outputs": [],
   "source": []
  }
 ],
 "metadata": {
  "kernelspec": {
   "display_name": "Python 3 (ipykernel)",
   "language": "python",
   "name": "python3"
  },
  "language_info": {
   "codemirror_mode": {
    "name": "ipython",
    "version": 3
   },
   "file_extension": ".py",
   "mimetype": "text/x-python",
   "name": "python",
   "nbconvert_exporter": "python",
   "pygments_lexer": "ipython3",
   "version": "3.9.6"
  }
 },
 "nbformat": 4,
 "nbformat_minor": 5
}
