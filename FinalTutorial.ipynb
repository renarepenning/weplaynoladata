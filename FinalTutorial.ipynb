{
 "cells": [
  {
   "cell_type": "markdown",
   "id": "31d555f4",
   "metadata": {},
   "source": [
    "https://www.renarepenning.com/weplaynoladata/"
   ]
  },
  {
   "cell_type": "markdown",
   "id": "9bc23895",
   "metadata": {},
   "source": [
    "## Rena Repenning and Eddy Salazar"
   ]
  },
  {
   "cell_type": "markdown",
   "id": "707ea308",
   "metadata": {},
   "source": [
    "# Project Plan\n",
    "\n",
    "\n",
    "## *Updated by rena 12/8 4:30p*\n",
    "https://docs.google.com/document/d/1V47KzrvPq6YNUBH-4N6mWy_EH556zvRhAlRZV9M2-sM/edit\n"
   ]
  },
  {
   "cell_type": "markdown",
   "id": "e79caecc",
   "metadata": {},
   "source": [
    "### Data \n",
    "1. We Play Data [<sup>1</sup>](#fn1)\n",
    "    Provided by Christine Neely"
   ]
  },
  {
   "cell_type": "markdown",
   "id": "1df729ac",
   "metadata": {},
   "source": [
    "### Explanation & Model Proposition\n",
    "We are inspired by The We Play center's mission: \"to offer a safe place to play while engaging in activities that promote brain development.\" \n",
    "Melanie Richardson expressed a need for statistical evidence of We Play's importance."
   ]
  },
  {
   "cell_type": "markdown",
   "id": "2bbbaad5",
   "metadata": {},
   "source": [
    "First, we manually removed empty columns and rows from the five excel files.\n",
    "Then, we broke apart sheets to make data frames adressing a single concern. During service learning Melanie and Christine heard our Milestone Two plan and asked for **XXXXXXX**\n",
    "\n",
    "**XXX explain four surveys are weird time frames, sameish columns, and then fam survey is vaugley similar XX**\n",
    "\n",
    "After looking at all the available data *we intend to model*:\n",
    "* Use data regarding existing and desired parenting skills to inform WePLAY's curriculum\n",
    "* Identify why people chose WePLAY over alternative forms of childcare/early education\n",
    "\n",
    "\n",
    "Graphing pie charts is difficult, and code intensive, in pandas and matplotlib. Writing three of our own ETL functions increased our efficiency and cutdown on lines of code. We added functions to plot pie charts easily, grab column labels, and take numerical series and plot a bar chart and print summary stats. These will allow us to analyze the rest of the data in a much more efficient fashion."
   ]
  },
  {
   "cell_type": "markdown",
   "id": "ac19ef5f",
   "metadata": {},
   "source": [
    "### Collaboration Plan\n",
    "Rena and Eddy will utilize this repository to simultaneously edit the project. \n",
    "We plan on connecting over Zoom as needed and keeping constant communication over instant message. Also, we are both able to meet after class on Thursdays.\n",
    "When convinient, we will export notebooks to Google Colabs to support simultaneous editing. \n",
    "(This is easily done using a Colabs Chrome extension).\n",
    "While re organizing our final product we used a GoogleDoc to simultaneouslt outline and plan."
   ]
  },
  {
   "cell_type": "markdown",
   "id": "c36ad3d1",
   "metadata": {},
   "source": [
    "### Footnotes\n",
    "<span id=\"fn1\"> 1. WePLAY data was last downloaded on October 25th, 2021. We could not use a live link because of spaces in filenames.</span>"
   ]
  },
  {
   "cell_type": "markdown",
   "id": "33c4ee8c",
   "metadata": {},
   "source": [
    "# Exploring WePLAY Survey Results"
   ]
  },
  {
   "cell_type": "markdown",
   "id": "a01835fc",
   "metadata": {},
   "source": [
    "Provided by Christine Neely from WePlay by Training Grounds nola. Data last accessed on October 25th."
   ]
  },
  {
   "cell_type": "markdown",
   "id": "1717d831",
   "metadata": {},
   "source": [
    "##### Imports as needed"
   ]
  },
  {
   "cell_type": "code",
   "execution_count": 2,
   "id": "91306a69",
   "metadata": {
    "scrolled": true
   },
   "outputs": [],
   "source": [
    "import pandas as pd\n",
    "import matplotlib.pyplot as plt\n",
    "import numpy as np\n",
    "from matplotlib import cm\n",
    "#!pip3 install openpyxl # package to open xlsx files"
   ]
  },
  {
   "cell_type": "markdown",
   "id": "1528cbcb",
   "metadata": {},
   "source": [
    "Separate paths to accomodate for our local environments"
   ]
  },
  {
   "cell_type": "code",
   "execution_count": 3,
   "id": "e5f7ea31",
   "metadata": {},
   "outputs": [],
   "source": [
    "renapath = \"../notebooks/_data/WePlayData/CleanedWPC\"\n",
    "edpath = \"./_data/WePlayData/CleanedWPC\"\n",
    "\n",
    "# PATH -- set path variable \n",
    "path = renapath  # path to manually cleaned excels"
   ]
  },
  {
   "cell_type": "markdown",
   "id": "50f39cb3",
   "metadata": {},
   "source": [
    "# Extraction, Transform, and Loading Key Functions\n",
    "\n",
    "### Pie chart plotting functions\n",
    "#### **plotPies**\n",
    "\n",
    "* df= dataframe to graph\n",
    "* cols = the df's columns to be used as titles; can pass in `getLabels(df)`\n",
    "* labels = labels for sections\n",
    "* allLabelsSame = if True, make a list of labels' to get same format for all label inputs\n",
    "* isNAct = if we use .isna() before value counts\n",
    "For now, we will leave legends repeating because that function pairs names and values correctly.\n",
    "\n",
    "#### **getLabels**\n",
    "* returns a list of lists of values for each column, using pandas.unique"
   ]
  },
  {
   "cell_type": "code",
   "execution_count": 4,
   "id": "f9c45a13",
   "metadata": {},
   "outputs": [],
   "source": [
    "#     cs=cm.Set1(np.arange(40)/40.) # for colors  colors=cs,\n",
    "\n",
    "\n",
    "#Pie chare citation: https://matplotlib.org/stable/gallery/pie_and_polar_charts/pie_features.html\n",
    "import math\n",
    "def plotPies(df, labels, allLabelsSame, isNAct, ishoriz=True):\n",
    "    cols = df.columns\n",
    "    # create matplotlib axis\n",
    "    if ishoriz:\n",
    "        fig1, ax1 = plt.subplots(nrows=1,ncols=len(cols),figsize=(20,15))\n",
    "    else:\n",
    "        fig1, ax1 = plt.subplots(nrows=len(cols),ncols=1,figsize=(20,15))\n",
    "        \n",
    "    # if all labels are the same we make a cols long list of them --> accomodate dif label inputs\n",
    "    if allLabelsSame:\n",
    "        labels = [labels]*len(cols)\n",
    "    keys = [] #print key above all instead of individually\n",
    "    for i, c in enumerate(df.columns): # incanse our graph titles are going to be differend\n",
    "        if isNAct:#if we want to plot using is na\n",
    "            wedges = ax1[i].pie(df[c].isna().value_counts(), autopct='%1.1f%%', shadow=True, startangle=90)#labels=labels[i],\n",
    "        else:\n",
    "            wedges = ax1[i].pie(df[c].value_counts(), autopct='%1.1f%%', shadow=True, startangle=90)#labels=labels[i],\n",
    "        \n",
    "        ax1[i].set_title(str(i+1))\n",
    "        if isinstance(cols[i],str):\n",
    "            keys += [str(i+1) +\". \"+ cols[i]]\n",
    "        else:\n",
    "            keys += [str(i+1) +\". \"+ cols[i][0]]\n",
    "        \n",
    "        ax1[i].axis('equal')\n",
    "        # label individually\n",
    "        if allLabelsSame == False:\n",
    "            ax1[i].legend(wedges[0], labels[i],\n",
    "                  title=\"Legend\", # must plot a unique legend for each to keep value/label pairs uniform\n",
    "                  loc=\"upper left\",\n",
    "                  bbox_to_anchor=(1, 0, 0.5, 1))\n",
    "    # label for all to save space\n",
    "    if allLabelsSame:\n",
    "        ax1[0].legend(wedges[0], labels[0],\n",
    "                      title=\"Legend\", # must plot a unique legend for each to keep value/label pairs uniform\n",
    "                      loc=\"upper left\",\n",
    "                      bbox_to_anchor=(1, 0, 0.5, 1))\n",
    "    print(\"KEYS:\")\n",
    "    for k in keys:\n",
    "        print(k)\n",
    "    plt.show()\n",
    "    \n"
   ]
  },
  {
   "cell_type": "code",
   "execution_count": 8,
   "id": "ccd4e120",
   "metadata": {},
   "outputs": [],
   "source": [
    "def getLabels(df):    \n",
    "    labels = [\"x\"]*len(df.columns)\n",
    "    for i, c in enumerate(df.columns):\n",
    "        labels[i] = df[c].unique()\n",
    "    return labels\n",
    "    # will return nan"
   ]
  },
  {
   "cell_type": "markdown",
   "id": "18283be2",
   "metadata": {},
   "source": [
    "### Displaying barchart for numeric variables"
   ]
  },
  {
   "cell_type": "code",
   "execution_count": 9,
   "id": "1c0c60f2",
   "metadata": {},
   "outputs": [],
   "source": [
    "def printCatBars(df, key, att, printStats=True):\n",
    "    # att -- > is df.col_name attribute for calling summary stat functions\n",
    "    '''type(df[key].mean())'''\n",
    "    p = df[key].value_counts()\n",
    "    p.sort_index(inplace=True)\n",
    "    p.plot.bar(align=\"center\", color=\"pink\")\n",
    "    \n",
    "    if printStats: #adjust for qualitative data\n",
    "        # convert numeric values\n",
    "        df[key].apply(pd.to_numeric, errors='coerce')\n",
    "        print(\"SUMMARY STATS\\n\",\"AVG: \", att.mean()[0],\"\\nMax,Min: \",att.min()[0],\",\",att.max()[0])\n",
    "\n",
    "    "
   ]
  },
  {
   "cell_type": "markdown",
   "id": "b2267092",
   "metadata": {},
   "source": [
    "### Plotting batches of aggregated data, with option to add in bar chart"
   ]
  },
  {
   "cell_type": "code",
   "execution_count": 10,
   "id": "b97ff21e",
   "metadata": {},
   "outputs": [],
   "source": [
    "# add here once finished"
   ]
  },
  {
   "cell_type": "markdown",
   "id": "480040e2",
   "metadata": {},
   "source": [
    "## Family Survey Data"
   ]
  },
  {
   "cell_type": "markdown",
   "id": "f0188f6c",
   "metadata": {},
   "source": [
    "##### Responses about the familes attending WePLAY\n",
    "NOTE: this section must be read in order to avoid dropping bar graph columns\n",
    "\n",
    "* FamilySurvey.xlsx data was collected between Jan-Aug 2019"
   ]
  },
  {
   "cell_type": "code",
   "execution_count": null,
   "id": "3a598425",
   "metadata": {},
   "outputs": [],
   "source": [
    "familySurveyDf = pd.read_excel(path + \"FamilySurvey\" + \".xlsx\")\n",
    "\n",
    "print(\"Notes: -- Adults means over 19  -- Children means under 18 -- Resp = Respondant\\n\")\n",
    "adult_FDa = familySurveyDf.iloc[1:, :5]\n",
    "adult_FDa.columns = [[\"Resp_Gender\", \"Resp_Age\", \"Resp_Race\", \"Children\", \"AdultsAtHome\"]]\n",
    "adult_FDb = familySurveyDf.iloc[1:, 5:10]\n",
    "adult_FDb.columns = [[\"Zip\", \"OMIT\", \"Avg_Income\", \"highest_edu\", \"visits_Monthly\"]]\n",
    "adult_FDb.drop(columns=[\"OMIT\"], inplace=True)#,level=level)\n"
   ]
  },
  {
   "cell_type": "markdown",
   "id": "49721bf1",
   "metadata": {},
   "source": [
    "Zipcodes"
   ]
  },
  {
   "cell_type": "code",
   "execution_count": null,
   "id": "87bb803c",
   "metadata": {},
   "outputs": [],
   "source": [
    "printCatBars(adult_FDb, \"Zip\", adult_FDb.Zip, False)"
   ]
  },
  {
   "cell_type": "markdown",
   "id": "98e9c008",
   "metadata": {},
   "source": [
    "#### There is a wide distribution of ages of parents bringing their children to We Play but it is centered around the mid thirties\n"
   ]
  },
  {
   "cell_type": "code",
   "execution_count": null,
   "id": "de903e44",
   "metadata": {},
   "outputs": [],
   "source": [
    "printCatBars(adult_FDa, \"Resp_Age\", adult_FDa.Resp_Age)"
   ]
  },
  {
   "cell_type": "markdown",
   "id": "02063379",
   "metadata": {},
   "source": [
    "#### Most households attending WePlay have two adults in them"
   ]
  },
  {
   "cell_type": "code",
   "execution_count": null,
   "id": "0f20c2e0",
   "metadata": {},
   "outputs": [],
   "source": [
    "printCatBars(adult_FDa, \"AdultsAtHome\", adult_FDa.AdultsAtHome)"
   ]
  },
  {
   "cell_type": "code",
   "execution_count": null,
   "id": "2308cdaa",
   "metadata": {},
   "outputs": [],
   "source": [
    "# drop columns to plot bars\n",
    "adult_FDa.drop(columns=[\"Resp_Age\", \"AdultsAtHome\"], inplace=True)\n",
    "labels=getLabels(adult_FDa)\n",
    "plotPies(adult_FDa, labels, False, False, True)\n",
    "\n",
    "adult_FDb.drop(columns=[\"Zip\"], inplace=True) # drop columns to plot bars\n",
    "labels=getLabels(adult_FDb)\n",
    "plotPies(adult_FDb, labels, False, False, True)"
   ]
  },
  {
   "cell_type": "markdown",
   "id": "65948afb",
   "metadata": {},
   "source": [
    "Looking more closely at income, we see that most attendees make ??\n",
    "\n",
    "** Need to re order these!! **"
   ]
  },
  {
   "cell_type": "code",
   "execution_count": null,
   "id": "44b2871a",
   "metadata": {},
   "outputs": [],
   "source": [
    "printCatBars(adult_FDb, \"Avg_Income\", adult_FDb.Avg_Income, False)"
   ]
  },
  {
   "cell_type": "markdown",
   "id": "4cb2575e",
   "metadata": {},
   "source": [
    "## new section ??"
   ]
  },
  {
   "cell_type": "markdown",
   "id": "3f042afb",
   "metadata": {},
   "source": [
    "#### Info about how parents found the we play center, showing the succesful usage of multiple channels for attracting familes\n",
    "Word of mouth is WePlay's best advertisement, by far!"
   ]
  },
  {
   "cell_type": "code",
   "execution_count": null,
   "id": "396b84fd",
   "metadata": {},
   "outputs": [],
   "source": [
    "how_found_WPC = familySurveyDf.iloc[1:, 10:17]\n",
    "how_found_WPC.columns = [\"Sign/Poster/flyer\", \"Friend\", \"Website\", \"Social Media\", \"Other org\", \"Laf-Fau Housing Office\", \"Other\"]\n",
    "plotPies(how_found_WPC, [\"Yes\", \"No\"], True, True)\n"
   ]
  },
  {
   "cell_type": "markdown",
   "id": "d0cbbc0b",
   "metadata": {},
   "source": [
    "#### Demographics of children that are brought to the weplay center"
   ]
  },
  {
   "cell_type": "code",
   "execution_count": null,
   "id": "01bade64",
   "metadata": {},
   "outputs": [],
   "source": [
    "child_FD = familySurveyDf.iloc[1:, 17:24] # combined 18/19 into 17 manually\n",
    "child_FD.columns = [\"Gender\", \"Age\", \"age2\", \"age3\", \"parent\", \"age4\", \"misc\"]\n",
    "child_FD.drop(columns=[\"age2\", \"age3\", \"age4\", \"misc\", \"parent\"], inplace=True)\n",
    "child_FD[\"Gender\"][~(child_FD.Gender == 'Male' ) & ~(child_FD.Gender == 'Female')] = np.nan\n",
    "\n",
    "labels=getLabels(child_FD)\n",
    "plotPies(child_FD, labels, False, False)\n"
   ]
  },
  {
   "cell_type": "markdown",
   "id": "c70c3b5b",
   "metadata": {},
   "source": [
    "### Parenting Skills"
   ]
  },
  {
   "cell_type": "markdown",
   "id": "5e613b8b",
   "metadata": {},
   "source": [
    "#### \"Please share the number of days in a typical week that you engage in the following activities\""
   ]
  },
  {
   "cell_type": "code",
   "execution_count": null,
   "id": "b48fc9de",
   "metadata": {},
   "outputs": [],
   "source": [
    "daysActivitys_FD = familySurveyDf.iloc[1:, 24:27]\n",
    "daysActivitys_FD.columns = [\"Read Stories\", \"Play Music or Sing\", \n",
    "                     \"Engage in language building activities\"]\n",
    "labels = ['Never', 'Every day', '1-2 days', '3-6 days']\n",
    "\n",
    "plotPies(daysActivitys_FD, labels, True, False)"
   ]
  },
  {
   "cell_type": "code",
   "execution_count": null,
   "id": "d0437abf",
   "metadata": {},
   "outputs": [],
   "source": [
    "daysActivitys_FD = familySurveyDf.iloc[1:, 27:29]\n",
    "daysActivitys_FD.columns = ['Engage in play', 'Create opportunities for your child to \"practice\" self control']\n",
    "plotPies(daysActivitys_FD, getLabels(daysActivitys_FD), False, False)\n"
   ]
  },
  {
   "cell_type": "markdown",
   "id": "c249c81b",
   "metadata": {},
   "source": [
    "#### Please state how strongly you agree with the following statements"
   ]
  },
  {
   "cell_type": "code",
   "execution_count": null,
   "id": "201c1636",
   "metadata": {},
   "outputs": [],
   "source": [
    "parenting_FD = familySurveyDf.iloc[1:, 29:34]\n",
    "parenting_FD.columns = ['I respond quickly to my child\\'s cries', 'I am able to comfort my child when he/she is upset',\n",
    " 'I know the meaning of my child\\'s signals (cry, turning away, rubbing eyes)',\n",
    " 'I step back and encourage my child to work through problems',\n",
    " 'I am able to follow my child\\'s lead during playtime']\n",
    "cols = parenting_FD.columns\n",
    "labels = ['Mostly agree', 'Somewhat agree', 'neither agree nor disagree',\n",
    "       'Strongly agree', 'Mostly disagree', 'Strongly disagree','Somewhat disagree']\n",
    "plotPies(parenting_FD, labels, True, False)\n"
   ]
  },
  {
   "cell_type": "markdown",
   "id": "268a1975",
   "metadata": {},
   "source": [
    "#### Parents vary in how they discipline. Below are some strategies parents used to discipline their children during the last 7 days:"
   ]
  },
  {
   "cell_type": "code",
   "execution_count": null,
   "id": "45cb66a5",
   "metadata": {},
   "outputs": [],
   "source": [
    "discipline_FD = familySurveyDf.iloc[0:, 34:42]\n",
    "discipline_FD.columns = ['Raising your voice or yelling', 'Spanked/Slapped', 'Took away a toy or treats', 'Positive Reinforcement', 'Offered choices', 'Time-out', 'Explained why his/her behavior is not appropriate', 'Recognized and regulated your feelings']\n",
    "labels = [\"Never\", \"Always\", \"Very Often\", \"Sometimes\", \"Rarely\"]\n",
    "plotPies(discipline_FD,  labels, True, False)"
   ]
  },
  {
   "cell_type": "markdown",
   "id": "41f08045",
   "metadata": {},
   "source": [
    "#### The We PLAY Center strives to create a welcoming environment with toys and caring, knowledgable staff. How well do parents think We Play meets these goals?"
   ]
  },
  {
   "cell_type": "code",
   "execution_count": null,
   "id": "0fee85d9",
   "metadata": {},
   "outputs": [],
   "source": [
    "environmentstatements_FD = familySurveyDf.iloc[1:, 42:48]\n",
    "labels = ['Strongly agree','Strongly disagree', 'Mostly agree',\n",
    "       'Neither disagree nor agree', 'Somewhat agree',\n",
    "       'Somewhat disagree']\n",
    "environmentstatements_FD.columns = familySurveyDf.iloc[0, 42:48]\n",
    "plotPies(environmentstatements_FD, labels, True, False)"
   ]
  },
  {
   "cell_type": "markdown",
   "id": "e4103956",
   "metadata": {},
   "source": [
    "#### We Play strives to help parents and children grow. The questions below help to illustrate how well We Play is fulfilling those goals:"
   ]
  },
  {
   "cell_type": "code",
   "execution_count": null,
   "id": "51203e24",
   "metadata": {},
   "outputs": [],
   "source": [
    "attendance_feedback = familySurveyDf.iloc[1:, 48:53]\n",
    "labels = ['Strongly agree','Strongly disagree', 'Mostly agree',\n",
    "       'Neither disagree nor agree', 'Somewhat agree',\n",
    "       'Somewhat disagree']\n",
    "attendance_feedback.columns = familySurveyDf.iloc[0, 48:53]\n",
    "plotPies(attendance_feedback, labels, True, False)"
   ]
  },
  {
   "cell_type": "markdown",
   "id": "fac6a504",
   "metadata": {},
   "source": [
    "#### Below are written responses from families on what will keep them returning to the We Play Center. A commonality between many of the responses is the love for the staff at the WePlay Center."
   ]
  },
  {
   "cell_type": "code",
   "execution_count": null,
   "id": "3970edd1",
   "metadata": {},
   "outputs": [],
   "source": [
    "weplay_review = familySurveyDf.iloc[1:, 56:58]\n",
    "labels = getLabels(weplay_review)\n",
    "print(\"What will keep you coming back to the We PLAY Center?:\\n\")\n",
    "print(labels[0][1:])"
   ]
  },
  {
   "cell_type": "code",
   "execution_count": null,
   "id": "7932287a",
   "metadata": {},
   "outputs": [],
   "source": [
    "print(\"What aspect of the We PLAY Center do you find most helpful?:\\n\")\n",
    "print(labels[1][1:])"
   ]
  },
  {
   "cell_type": "markdown",
   "id": "e94de147",
   "metadata": {},
   "source": [
    "## Incoming Parent Reflections"
   ]
  },
  {
   "cell_type": "markdown",
   "id": "425bc43d",
   "metadata": {},
   "source": [
    "We had four surveys that were the same etc etc etc etc etc"
   ]
  },
  {
   "cell_type": "code",
   "execution_count": 11,
   "id": "32eb519c",
   "metadata": {},
   "outputs": [],
   "source": [
    "'''FXN'''\n",
    "# poss store the column names in the excel to avoid passing label??\n",
    "\n",
    "# plotBars -> plots a bar graph if we send in col, attribute\n",
    "def plotSection(cols, i1, i2, plotBars=\"key\"):\n",
    "    df = allIncoming.iloc[1:, i1:i2]\n",
    "    df.columns = [cols]\n",
    "    #if plotBars == \"key\":\n",
    "    plotPies(df, getLabels(df), False, False, True)\n",
    "    \n",
    "    if plotBars != \"key\":\n",
    "        print(\"Taking a closer look at \",plotBars,\":\")\n",
    "        printCatBars(df, plotBars, df[plotBars], False)"
   ]
  },
  {
   "cell_type": "code",
   "execution_count": 27,
   "id": "afa5056f",
   "metadata": {},
   "outputs": [
    {
     "name": "stdout",
     "output_type": "stream",
     "text": [
      "Notes: -- Adults means over 19  -- Children means under 18 -- Resp = Respondant\n",
      "\n"
     ]
    }
   ],
   "source": [
    "# JULY BATCH\n",
    "incomingjuly2019 = pd.read_excel(path + \"IncomingParentReflection-July2019\" + \".xlsx\")\n",
    "incomingjuly2019.drop([1], axis=0, inplace = True) #delete row full of test reponses\n",
    "# NOV BATCH\n",
    "incomingnov2019 = pd.read_excel(path + \"IncomingParentReflection-November2019\" + \".xlsx\")\n",
    "incomingnov2019.drop([0], axis=0, inplace = True)\n",
    "# 2020 BATCG\n",
    "incoming2020 = pd.read_excel(path + \"IncomingParentReflectionForm2020\" + \".xlsx\")\n",
    "incoming2020.drop([0], axis=0, inplace = True)\n",
    "# UNDATED BATCH\n",
    "incoming_data_undated = pd.read_excel(path + \"IncomingParentReflection\" + \".xlsx\")\n",
    "pd.set_option('display.max_columns',None) #display all columns\n",
    "# Create DF of all similar surveys\n",
    "allIncoming = pd.concat([incomingjuly2019, incomingnov2019.iloc[1:,:], incoming2020.iloc[1:,:], incoming_data_undated.iloc[1:,:]], ignore_index=True)\n",
    "            \n",
    "print(\"Notes: -- Adults means over 19  -- Children means under 18 -- Resp = Respondant\\n\")\n",
    "#allIncoming.iloc[:, 38:]"
   ]
  },
  {
   "cell_type": "code",
   "execution_count": 16,
   "id": "5b3924a6",
   "metadata": {},
   "outputs": [],
   "source": [
    "#plotSection([\"Resp_Gender\", \"Resp_Age\", \"Resp_Race\"], 1, 4, \"Resp_Age\")"
   ]
  },
  {
   "cell_type": "code",
   "execution_count": 17,
   "id": "3a82691f",
   "metadata": {},
   "outputs": [],
   "source": [
    "#plotSection([\"Adults\", \"Children\", \"Zip\"], 5, 8, \"Zip\")"
   ]
  },
  {
   "cell_type": "code",
   "execution_count": 18,
   "id": "2b75875d",
   "metadata": {},
   "outputs": [],
   "source": [
    "#plotSection([\"Income\", \"Highest Level of education\"], 9, 11)   "
   ]
  },
  {
   "cell_type": "code",
   "execution_count": 29,
   "id": "07daca92",
   "metadata": {},
   "outputs": [
    {
     "name": "stdout",
     "output_type": "stream",
     "text": [
      "Q: Which of the following are reasons that you have not applied for childcare?\n",
      "Please select all that apply. (\"No\" label means option wasn't selected)\n",
      "KEYS:\n",
      "1. I feel my child is not old enough\n",
      "2. There is a lack of quality childhood care\n",
      "3. I use a nanny\n",
      "4. I use a family member\n",
      "5. Other\n",
      "6. What type of childcare program is it?\n",
      "7. Are you currently on a waitlist for the childcare program you applied to?\n"
     ]
    },
    {
     "data": {
      "image/png": "[encoded data removed]",
      "text/plain": [
       "<Figure size 1440x1080 with 7 Axes>"
      ]
     },
     "metadata": {},
     "output_type": "display_data"
    }
   ],
   "source": [
    "print(\"Q: Which of the following are reasons that you have not applied for childcare?\\nPlease select all that apply. (\\\"No\\\" label means option wasn't selected)\")\n",
    "\n",
    "c = [\n",
    "    \"I feel my child is not old enough\",\n",
    "    \"There is a lack of quality childhood care\",\n",
    "    \"I use a nanny\",\n",
    "    \"I use a family member\",\n",
    "    \"Other\",\n",
    "    \"What type of childcare program is it?\",\n",
    "    \"Are you currently on a waitlist for the childcare program you applied to?\",\n",
    "\n",
    "]\n",
    "plotSection(c, 30, 37)   "
   ]
  },
  {
   "cell_type": "code",
   "execution_count": null,
   "id": "98b18606",
   "metadata": {},
   "outputs": [],
   "source": []
  },
  {
   "cell_type": "code",
   "execution_count": null,
   "id": "8d01c644",
   "metadata": {},
   "outputs": [],
   "source": []
  },
  {
   "cell_type": "code",
   "execution_count": null,
   "id": "0fdc136d",
   "metadata": {},
   "outputs": [],
   "source": []
  },
  {
   "cell_type": "code",
   "execution_count": null,
   "id": "4ad36436",
   "metadata": {},
   "outputs": [],
   "source": []
  },
  {
   "cell_type": "markdown",
   "id": "79d99861",
   "metadata": {},
   "source": [
    "### DF with incoming parent survey data for July 2019\n",
    "\n",
    "** THIS IS A BUNCH AND WE CAN PROB GET MORE FROM THIS? **"
   ]
  },
  {
   "cell_type": "code",
   "execution_count": null,
   "id": "3c958bb7",
   "metadata": {},
   "outputs": [],
   "source": [
    "#incomingjuly2019"
   ]
  },
  {
   "cell_type": "markdown",
   "id": "9a7d36bf",
   "metadata": {},
   "source": [
    "**Data about the child's parent or guardian.**"
   ]
  },
  {
   "cell_type": "code",
   "execution_count": null,
   "id": "72d736a4",
   "metadata": {},
   "outputs": [],
   "source": [
    "#create df with information about adult bringing child in\n",
    "adult_july2019 = incomingjuly2019[[\"What is your gender?\",\"How old are you?\",\"Which of the following race/ethnicity categories best describes you?\",\"What is the highest level of education you have completed?\",\"What is your relationship to the child?\",\"How many times do you attend the We PLAY center in a typical month?\"]]\n",
    "#Rename columns \n",
    "adult_july2019.columns = [[\"Resp_Gender\", \"Resp_Age\", \"Resp_Race\",\"highest_edu\",\"Resp_relationship_to_child\",\"visits_Monthly\"]]\n",
    "#drop unnessecary column with few data points\n",
    "#adult_july2019.drop([0], axis=0, inplace = True)\n",
    "\n",
    "\n",
    "plotPies(adult_july2019, getLabels(adult_july2019), False, False)\n"
   ]
  },
  {
   "cell_type": "markdown",
   "id": "85b3e0e6",
   "metadata": {},
   "source": [
    "**Data about the child's household.**"
   ]
  },
  {
   "cell_type": "code",
   "execution_count": null,
   "id": "928501e6",
   "metadata": {},
   "outputs": [],
   "source": [
    "#create df with info relating to child's household\n",
    "householdinfo_july2019 = incomingjuly2019.iloc[0:, 5:10]\n",
    "#Rename columns\n",
    "householdinfo_july2019.columns = [[\"Adults\", \"Children\", \"Zip\", \"OMIT\", \"Avg_Income\"]]\n",
    "#Drop unessecary column with few data points\n",
    "householdinfo_july2019.drop(columns=[\"OMIT\"], inplace=True)\n",
    "#drop unnesscary row with response parameters\n",
    "householdinfo_july2019.drop([0], axis=0, inplace = True)\n",
    "#householdinfo_july2019\n",
    "\n",
    "plotPies(householdinfo_july2019, getLabels(householdinfo_july2019), False, False)"
   ]
  },
  {
   "cell_type": "markdown",
   "id": "b93aea2b",
   "metadata": {},
   "source": [
    "**Data about how parents found WPC.**"
   ]
  },
  {
   "cell_type": "code",
   "execution_count": null,
   "id": "934cb488",
   "metadata": {},
   "outputs": [],
   "source": [
    "## DF with info on how they found WPC\n",
    "how_found_WPC_july2019 = incomingjuly2019.iloc[1:, 120:127]\n",
    "how_found_WPC_july2019.columns = [[\"Sign/Poster/flyer\", \"Friend\", \"Website\", \"Social Media\", \"Other org\", \"Lafitte Fauborg Housing Office\", \"Other\"]]\n",
    "#~how_found_WPC_july2019.isna()  # Gives table of methods people used to find WPC"
   ]
  },
  {
   "cell_type": "markdown",
   "id": "e2ed8b22",
   "metadata": {},
   "source": [
    "**Data about the childrens age and gender.**"
   ]
  },
  {
   "cell_type": "code",
   "execution_count": null,
   "id": "4d546baa",
   "metadata": {},
   "outputs": [],
   "source": [
    "child_July2019 = incomingjuly2019.iloc[1:, 12:21]\n",
    "\n",
    "child_July2019.columns = [[\"1st child age\",\"1st child's gender\",\"resp relationship to 1st child\",\"2nd child age\",\" 2nd child's gender\",\"resp relationship to 2nd child\",\"3rd child age\",\" 3rd child's gender\",\"resp relationship to 3rd child\"]]                   \n",
    "\n",
    "#child_July2019\n",
    "## this just tells gender and age of children + age of child 2, age child three\n",
    "# then relationship , relationship 2, other"
   ]
  },
  {
   "cell_type": "markdown",
   "id": "dae336d2",
   "metadata": {},
   "source": [
    "**Data about why parents have not applied for childcare.**"
   ]
  },
  {
   "cell_type": "code",
   "execution_count": null,
   "id": "da74c400",
   "metadata": {},
   "outputs": [],
   "source": [
    "#create df with info about why parents have not applied for childcare\n",
    "nochildcare_july2019 = incomingjuly2019.iloc[0:, 31:39]\n",
    "#Rename columns\n",
    "nochildcare_july2019.columns = [[\"It is too expensive\", \"I feel my child is not old enough\", \"There is a lack of quality childhood care and education\",\"I use a nanny to care for my child\", \"I use a family member to care for my child\",\"Other  (please specify)\",\"Type of Program Applied for\",\"Are you currently on a waiting list for a program?\"]]\n",
    "#Drop unessecary column with few data points\n",
    "#householdinfo_july2019.drop(columns=[\"OMIT\"], inplace=True)\n",
    "#drop unnesscary row with response parameters\n",
    "nochildcare_july2019.drop([0], axis=0, inplace = True)\n",
    "nochildcare_july2019"
   ]
  },
  {
   "cell_type": "markdown",
   "id": "2ec10c50",
   "metadata": {},
   "source": [
    "**Data about parents interact with their children before and after WP.**"
   ]
  },
  {
   "cell_type": "code",
   "execution_count": null,
   "id": "dae59989",
   "metadata": {},
   "outputs": [],
   "source": [
    "#create df with directly comparable info about how parents interact with their children before and after WePlay\n",
    "parent_child_behaviors_july2019 = incomingjuly2019[[\"Please think about each statement and how you currently feel\",\"Unnamed: 52\",\"Unnamed: 53\",\"Unnamed: 54\",\"Unnamed: 55\",\"Unnamed: 56\",'\"Since coming to the We PLAY Center I…\"',\"Unnamed: 96\",\"Unnamed: 97\",\"Unnamed: 98\",\"Unnamed: 99\",\"Unnamed: 100\"]]\n",
    "#Rename columns\n",
    "parent_child_behaviors_july2019.columns = [[\"Read to my child (Before WP)\",\"Play with my child (Before WP)\",\"Talk to my child (Before WP)\", \"Listen to my child (Before WP)\",\"Set limits with my child (Before WP)\",\"Yell at my child (Before WP)\",\"Read to my child (Since WP)\",\"Play with my child (Since WP)\",\"Talk to my child (Since WP)\",\"Listen to my child (Since WP)\",\"Set limits with my child (Since WP)\",\"Yell at my child (Since WP)\"]]\n",
    "#drop unnesscary row with response parameters\n",
    "parent_child_behaviors_july2019.drop([0], axis=0, inplace = True)\n",
    "#parent_child_behaviors_july2019"
   ]
  },
  {
   "cell_type": "markdown",
   "id": "cecb28c1",
   "metadata": {},
   "source": [
    "**Data about how parents feel they've grown since WP.**"
   ]
  },
  {
   "cell_type": "code",
   "execution_count": null,
   "id": "67195033",
   "metadata": {},
   "outputs": [],
   "source": [
    "#create df with info about how parents feel they've grown since We Play\n",
    "since_WP_Parents_july2019 = incomingjuly2019[[\"After coming to the center, which of the following aspects have changed for you as a parent? Please choose one option for each statement.\",\"Unnamed: 71\",\"Unnamed: 72\",\"Unnamed: 73\",\"Unnamed: 74\",\"Unnamed: 75\",\"Unnamed: 76\",'\"Since coming to We PLAY Center…\"',\"Unnamed: 90\",\"Unnamed: 91\",\"Unnamed: 92\",\"Unnamed: 93\",\"Unnamed: 94\"]]\n",
    "#Rename columns\n",
    "since_WP_Parents_july2019.columns = [[\"My stress level as a parent...\",\"My knowledge about parenting support and resources in the community...\",\"My knowledge about my child’s development...\",\"My knowledge about how to foster my child’s development...\",\"My knowledge about nurturing and responsive parenting strategies...\",\"My knowledge about nutrition and breastfeeding...\",\"My confidence in my role as a parent...\",\"I engage with my child by repeating his/her words or sounds...\",\"I engage with my child in pretend play...\",\"I stand back and let my child work through problems...\",\"I engage in bonding activities with my child...\",\"I am better able to help my child uses age appropriate social skills...\",\"I am better able to support my child as he/she learns new skills...\"]]\n",
    "#drop unnesscary row with response parameters\n",
    "since_WP_Parents_july2019.drop([0], axis=0, inplace = True)\n",
    "#since_WP_Parents_july2019"
   ]
  },
  {
   "cell_type": "markdown",
   "id": "5934e756",
   "metadata": {},
   "source": [
    "**Data about how parents feel their children have grown since WP.**"
   ]
  },
  {
   "cell_type": "code",
   "execution_count": null,
   "id": "53e6b918",
   "metadata": {},
   "outputs": [],
   "source": [
    "#create df with info about how parents feel their children have grown since We Play\n",
    "since_WP_child_july2019 = incomingjuly2019[[\"Since attending the We PLAY Center, which of the following aspects of your child's development have changed? Please choose one option for each statement.\",\"Unnamed: 58\",\"Unnamed: 59\",\"Unnamed: 60\"]]\n",
    "#Rename columns\n",
    "since_WP_child_july2019.columns = [[\"My child's early learning and cognitive skills...\",\"My child's early language abilities...\",\"My child's early social emotional skills...\", \"My child's school readiness...\"]]\n",
    "#drop unnesscary row with response parameters\n",
    "since_WP_child_july2019.drop([0], axis=0, inplace = True)\n",
    "#since_WP_child_july2019"
   ]
  },
  {
   "cell_type": "markdown",
   "id": "b3b857e6",
   "metadata": {},
   "source": [
    "**Data about the parent's misc opinions on WP.**"
   ]
  },
  {
   "cell_type": "code",
   "execution_count": null,
   "id": "52429423",
   "metadata": {},
   "outputs": [],
   "source": [
    "#create df with parent's other opinions on WePlay\n",
    "other_WP_opinions_july2019 = incomingjuly2019[['\"The We PLAY Center...\"',\"Unnamed: 79\",\"Unnamed: 80\",\"Unnamed: 81\",\"Unnamed: 82\",'\"The We PLAY Center has...\"',\"Unnamed: 84\",\"Unnamed: 85\",\"Unnamed: 86\",\"Unnamed: 87\",\"Unnamed: 88\"]]\n",
    "#Rename columns\n",
    "other_WP_opinions_july2019.columns = [[\"Provides an enriched learning environment, provides educational toys\",\"Offers an adequate number of toys\",\"Creates a positive welcoming friendly atmosphere\", \"Staff is knowledgeable and answer questions willingly\",\"Staff is patient and empathetic\",\"Been helpful to my family\",\"Given me more confidence as a parent\",\"Helped me to become a better parent\",\"Provided me with positive parenting strategies\",\"Supported me in my role as a parent/caregiver\",\"Created a support system with other members of the We PLAY Center\"]]\n",
    "#drop unnesscary row with response parameters\n",
    "other_WP_opinions_july2019.drop([0], axis=0, inplace = True)\n",
    "#other_WP_opinions_july2019"
   ]
  },
  {
   "cell_type": "markdown",
   "id": "753da7dc",
   "metadata": {},
   "source": [
    "**Data about what kind of information parents want more of from WP.**"
   ]
  },
  {
   "cell_type": "code",
   "execution_count": null,
   "id": "5f76021d",
   "metadata": {},
   "outputs": [],
   "source": [
    "#create df with survey info about what kind of info parents want more of\n",
    "desired_info_july2019 = incomingjuly2019[[\"Which of the following aspects would you like the We Play Center to address more often? Please select all that apply and use the space to write in any additional comments.\",\"Unnamed: 109\",\"Unnamed: 110\",\"Unnamed: 111\",\"Unnamed: 112\",\"Unnamed: 113\",\"Unnamed: 114\",\"Unnamed: 115\",\"Unnamed: 116\",\"Unnamed: 117\"]]\n",
    "#Rename columns\n",
    "desired_info_july2019.columns = [[\"Stress Relief\",\"Information about community resources\",\"Information about how to foster my child’s development\", \"Information about nurturing and responsive parenting strategies\",\"Information about mouthing (biting, putting objects in their mouth)\",\"Information about conflict resolution\",\"Information about sharing\",\"Information about nursing/ feeding\",\"Information about temper tantrums\",\"Information about sleeping\"]]\n",
    "desired_info_july2019 = ~desired_info_july2019.isna()\n",
    "\n",
    "print('\"Which of the following aspects would you like the We Play Center to address more often?\\n')\n",
    "plotPies(desired_info_july2019, [\"True\", \"False\"], True, False)"
   ]
  },
  {
   "cell_type": "markdown",
   "id": "1519b0be",
   "metadata": {},
   "source": [
    "**Open response, what will keep people coming back to WP.**"
   ]
  },
  {
   "cell_type": "code",
   "execution_count": null,
   "id": "fb5bb50c",
   "metadata": {},
   "outputs": [],
   "source": [
    "#create df with open response detailing what parents say will keep them coming back\n",
    "keep_coming_back_july2019 = incomingjuly2019[[\"What will keep you coming back to the We PLAY Center?\"]]\n",
    "#drop unnesscary row with response parameters\n",
    "#keep_coming_back_july2019.drop([0], axis=0, inplace = True)\n",
    "#keep_coming_back_july2019"
   ]
  },
  {
   "cell_type": "markdown",
   "id": "84d2af05",
   "metadata": {},
   "source": [
    "### DF with incoming parent survey data from Nov 2019"
   ]
  },
  {
   "cell_type": "code",
   "execution_count": null,
   "id": "7711e52f",
   "metadata": {},
   "outputs": [],
   "source": [
    "'''#read in data for incoming parent relfections from july 2019\n",
    "incomingnov2019 = pd.read_excel(path + \"IncomingParentReflection-November2019\" + \".xlsx\")\n",
    "#display all columns\n",
    "pd.set_option('display.max_columns',None)\n",
    "\n",
    "#incomingnov2019.head(3)'''"
   ]
  },
  {
   "cell_type": "markdown",
   "id": "4089cd45",
   "metadata": {},
   "source": [
    "**Data about the child's parent or guardian.**"
   ]
  },
  {
   "cell_type": "code",
   "execution_count": null,
   "id": "ecbc148c",
   "metadata": {},
   "outputs": [],
   "source": [
    "#create df with information about adult bringing child in\n",
    "adult_nov2019 = incomingnov2019[[\"What is your gender?\",\"How old are you?\",\"Which of the following race/ethnicity categories best describes you?\",\"What is the highest level of education you have completed?\",\"What is your relationship to the child?\",\"How many times do you attend the We PLAY center in a typical month?\"]]\n",
    "#Rename columns \n",
    "adult_nov2019.columns = [[\"Resp_Gender\", \"Resp_Age\", \"Resp_Race\",\"highest_edu\",\"Resp_relationship_to_child\",\"visits_Monthly\"]]\n",
    "#adult_nov2019"
   ]
  },
  {
   "cell_type": "markdown",
   "id": "048220c3",
   "metadata": {},
   "source": [
    "**Data about the child's household.**"
   ]
  },
  {
   "cell_type": "code",
   "execution_count": null,
   "id": "4802caed",
   "metadata": {},
   "outputs": [],
   "source": [
    "#create df with info relating to child's household\n",
    "householdinfo_nov2019 = incomingnov2019.iloc[0:, 10:15]\n",
    "#Rename columns\n",
    "householdinfo_nov2019.columns = [[\"Adults\", \"Children\", \"Zip\", \"OMIT\", \"Avg_Income\"]]\n",
    "#Drop unessecary column with few data points\n",
    "householdinfo_nov2019.drop(columns=[\"OMIT\"], inplace=True)\n",
    "#drop unnesscary row with response parameters\n",
    "#householdinfo_nov2019.drop([0], axis=0, inplace = True)\n",
    "#householdinfo_nov2019"
   ]
  },
  {
   "cell_type": "markdown",
   "id": "46b045e1",
   "metadata": {},
   "source": [
    "**Data about how parents found WPC.**"
   ]
  },
  {
   "cell_type": "code",
   "execution_count": null,
   "id": "ff59bf06",
   "metadata": {},
   "outputs": [],
   "source": [
    "## DF with info on how they found WPC\n",
    "how_found_WPC_nov2019 = incomingnov2019.iloc[1:, 127:136]\n",
    "how_found_WPC_nov2019.columns = [[\"Sign/Poster/flyer\", \"Friend\",\"Family\", \"Website\", \"Social Media\", \"Other org\", \"Lafitte Fauborg Housing Office\", \"We PLAY Center Staff\",\"Other\"]]\n",
    "\n",
    "#~how_found_WPC_nov2019.isna()  # Gives table of methods people used to find WPC"
   ]
  },
  {
   "cell_type": "markdown",
   "id": "7172f740",
   "metadata": {},
   "source": [
    "**Data about the childrens age and gender.**"
   ]
  },
  {
   "cell_type": "code",
   "execution_count": null,
   "id": "438c158d",
   "metadata": {},
   "outputs": [],
   "source": [
    "child_nov2019 = incomingnov2019.iloc[1:, 17:33]\n",
    "child_nov2019.drop([\"Unnamed: 20\",\"How old is the 1st child?.1\",\"What is the 1st child's gender?\",\"What is your relationship to the 1st child?\",\"Unnamed: 24\",\"How old is the 1st child?\",\"What is the 1st child's gender?\",\"What is your relationship to the 1st child?.1\"], axis=1, inplace = True)\n",
    "child_nov2019.columns = [[\"1st child age\",\"1st child's gender\",\"1st resp relationship to child\",\"2nd child age\",\" 2nd child's gender\",\"resp relationship to 2nd child\",\"3rd child age\",\" 3rd child's gender\",\"resp relationship to 3rd child\"]]                   \n",
    "#child_nov2019\n",
    "\n",
    "## this just tells gender and age of children + age of child 2, age child three\n",
    "# then relationship , relationship 2, other"
   ]
  },
  {
   "cell_type": "markdown",
   "id": "8662f5b1",
   "metadata": {},
   "source": [
    "**Data about why parents have not applied for childcare.**"
   ]
  },
  {
   "cell_type": "code",
   "execution_count": null,
   "id": "cf1f4d79",
   "metadata": {},
   "outputs": [],
   "source": [
    "#create df with info about why parents have not applied for childcare\n",
    "nochildcare_nov2019 = incomingnov2019.iloc[0:, 34:42]\n",
    "#Rename columns\n",
    "nochildcare_nov2019.columns = [[\"It is too expensive\", \"I feel my child is not old enough\", \"There is a lack of quality childhood care and education\",\"I use a nanny to care for my child\", \"I use a family member to care for my child\",\"Other  (please specify)\",\"Type of Program Applied for\",\"Are you currently on a waiting list for a program?\"]]\n",
    "\n",
    "# nochildcare_nov2019"
   ]
  },
  {
   "cell_type": "markdown",
   "id": "03f50909",
   "metadata": {},
   "source": [
    "**Data about parents interact with their children before and after WP.**"
   ]
  },
  {
   "cell_type": "code",
   "execution_count": null,
   "id": "f2e9983a",
   "metadata": {},
   "outputs": [],
   "source": [
    "#create df with directly comparable info about how parents interact with their children before and after WePlay\n",
    "parent_child_behaviors_nov2019 = incomingnov2019[[\"Please think about each statement and how you currently feel\",\"Unnamed: 59\",\"Unnamed: 60\",\"Unnamed: 61\",\"Unnamed: 62\",\"Unnamed: 63\",'\"Since coming to the We PLAY Center I…\"',\"Unnamed: 97\",\"Unnamed: 98\",\"Unnamed: 99\",\"Unnamed: 100\",\"Unnamed: 101\"]]\n",
    "#Rename columns\n",
    "parent_child_behaviors_nov2019.columns = [[\"Read to my child (Before WP)\",\"Play with my child (Before WP)\",\"Talk to my child (Before WP)\", \"Listen to my child (Before WP)\",\"Set limits with my child (Before WP)\",\"Yell at my child (Before WP)\",\"Read to my child (Since WP)\",\"Play with my child (Since WP)\",\"Talk to my child (Since WP)\",\"Listen to my child (Since WP)\",\"Set limits with my child (Since WP)\",\"Yell at my child (Since WP)\"]]\n",
    "\n",
    "# parent_child_behaviors_nov2019"
   ]
  },
  {
   "cell_type": "markdown",
   "id": "309431ad",
   "metadata": {},
   "source": [
    "**Data about how parents feel they've grown since WP.**"
   ]
  },
  {
   "cell_type": "code",
   "execution_count": null,
   "id": "59a1cbb0",
   "metadata": {},
   "outputs": [],
   "source": [
    "#create df with info about how parents feel they've grown since We Play\n",
    "since_WP_Parents_nov2019a = incomingnov2019[[\"After coming to the center, which of the following aspects have changed for you as a parent? Please choose one option for each statement.\",\"Unnamed: 78\",\"Unnamed: 79\",\"Unnamed: 80\",\"Unnamed: 81\",\"Unnamed: 82\",\"Unnamed: 83\"]]\n",
    "since_WP_Parents_nov2019b = incomingnov2019[['\"Since coming to We PLAY Center…\"',\"Unnamed: 97\",\"Unnamed: 98\",\"Unnamed: 99\",\"Unnamed: 100\",\"Unnamed: 101\"]]\n",
    "# Rename columns\n",
    "since_WP_Parents_nov2019a.columns = [[\"My stress level as a parent...\",\"My knowledge about parenting support and resources in the community...\",\"My knowledge about my child’s development...\",\"My knowledge about how to foster my child’s development...\",\"My knowledge about nurturing and responsive parenting strategies...\",\"My knowledge about nutrition and breastfeeding...\",\"My confidence in my role as a parent...\"]]\n",
    "since_WP_Parents_nov2019b.columns =[[\"I engage with my child by repeating his/her words or sounds...\",\"I engage with my child in pretend play...\",\"I stand back and let my child work through problems...\",\"I engage in bonding activities with my child...\",\"I am better able to help my child uses age appropriate social skills...\",\"I am better able to support my child as he/she learns new skills...\"]]\n",
    "# plot seperately so labeling is nic\n",
    "\n",
    "plotPies(since_WP_Parents_nov2019a, [\"Increased significantly\", \"Somewhat decreased\"], True, True)\n",
    "plotPies(since_WP_Parents_nov2019b, [\"More often\", \"The same\"], True, True)\n",
    "\n"
   ]
  },
  {
   "cell_type": "markdown",
   "id": "fcb284b3",
   "metadata": {},
   "source": [
    "**Data about how parents feel their children have grown since WP.**"
   ]
  },
  {
   "cell_type": "code",
   "execution_count": null,
   "id": "c7c34629",
   "metadata": {},
   "outputs": [],
   "source": [
    "#create df with info about how parents feel their children have grown since We Play\n",
    "since_WP_child_nov2019 = incomingnov2019[[\"Since attending the We PLAY Center, which of the following aspects of your child's development have changed? Please choose one option for each statement.\",\"Unnamed: 74\",\"Unnamed: 75\",\"Unnamed: 76\"]]\n",
    "#Rename columns\n",
    "since_WP_child_nov2019.columns = [[\"My child's early learning and cognitive skills...\",\"My child's early language abilities...\",\"My child's early social emotional skills...\", \"My child's school readiness...\"]]\n",
    "#drop unnesscary row with response parameters\n",
    "#since_WP_child_nov2019.drop([0], axis=0, inplace = True)\n",
    "#since_WP_child_nov2019"
   ]
  },
  {
   "cell_type": "markdown",
   "id": "f294efff",
   "metadata": {},
   "source": [
    "**Data about the parent's misc opinions on WP.**"
   ]
  },
  {
   "cell_type": "code",
   "execution_count": null,
   "id": "d9d8913a",
   "metadata": {},
   "outputs": [],
   "source": [
    "#create df with parent's other opinions on WePlay\n",
    "other_WP_opinions_nov2019 = incomingnov2019[['\"The We PLAY Center...\"',\"Unnamed: 86\",\"Unnamed: 87\",\"Unnamed: 88\",\"Unnamed: 89\",'\"The We PLAY Center has...\"',\"Unnamed: 91\",\"Unnamed: 92\",\"Unnamed: 93\",\"Unnamed: 94\",\"Unnamed: 95\"]]\n",
    "#Rename columns\n",
    "other_WP_opinions_nov2019.columns = [[\"Provides an enriched learning environment, provides educational toys\",\"Offers an adequate number of toys\",\"Creates a positive welcoming friendly atmosphere\", \"Staff is knowledgeable and answer questions willingly\",\"Staff is patient and empathetic\",\"Been helpful to my family\",\"Given me more confidence as a parent\",\"Helped me to become a better parent\",\"Provided me with positive parenting strategies\",\"Supported me in my role as a parent/caregiver\",\"Created a support system with other members of the We PLAY Center\"]]\n",
    "#drop unnesscary row with response parameters\n",
    "#other_WP_opinions_nov2019.drop([0], axis=0, inplace = True)\n",
    "other_WP_opinions_nov2019\n",
    "\n",
    "plotPies(other_WP_opinions_nov2019, [\"Strongly agree\", \"Neutral\", \"No opinion\"], True, False)\n",
    "    "
   ]
  },
  {
   "cell_type": "markdown",
   "id": "f431cdea",
   "metadata": {},
   "source": [
    "**Data about what kind of information parents want more of from WP.**"
   ]
  },
  {
   "cell_type": "code",
   "execution_count": null,
   "id": "8d89af90",
   "metadata": {},
   "outputs": [],
   "source": [
    "#create df with survey info about what kind of info parents want more of\n",
    "desired_info_nov2019 = incomingnov2019[[\"Which of the following aspects would you like the We Play Center to address more often? Please select all that apply and use the space to write in any additional comments.\",\"Unnamed: 116\",\"Unnamed: 117\",\"Unnamed: 118\",\"Unnamed: 119\",\"Unnamed: 120\",\"Unnamed: 121\",\"Unnamed: 122\",\"Unnamed: 123\",\"Unnamed: 124\"]]\n",
    "#Rename columns\n",
    "desired_info_nov2019.columns = [[\"Stress Relief\",\"Information about community resources\",\"Information about how to foster my child’s development\", \"Information about nurturing and responsive parenting strategies\",\"Information about mouthing (biting, putting objects in their mouth)\",\"Information about conflict resolution\",\"Information about sharing\",\"Information about nursing/ feeding\",\"Information about temper tantrums\",\"Information about sleeping\"]]\n",
    "#desired_info_nov2019\n",
    "#~desired_info_nov2019.isna()"
   ]
  },
  {
   "cell_type": "markdown",
   "id": "4409b9bf",
   "metadata": {},
   "source": [
    "**Open response, what will keep people coming back to WP.**"
   ]
  },
  {
   "cell_type": "code",
   "execution_count": null,
   "id": "60e81126",
   "metadata": {},
   "outputs": [],
   "source": [
    "#create df with open response detailing what parents say will keep them coming back\n",
    "keep_coming_back_nov2019 = incomingnov2019[[\"What will keep you coming back to the We PLAY Center?\"]]\n",
    "\n",
    "#keep_coming_back_nov2019"
   ]
  },
  {
   "cell_type": "markdown",
   "id": "7f8c28dd",
   "metadata": {},
   "source": [
    "### DF with incoming parent survey data from 2020"
   ]
  },
  {
   "cell_type": "code",
   "execution_count": null,
   "id": "95f483e0",
   "metadata": {},
   "outputs": [],
   "source": [
    "\n",
    "# incoming2020.head(1)"
   ]
  },
  {
   "cell_type": "code",
   "execution_count": null,
   "id": "14a7e1f2",
   "metadata": {},
   "outputs": [],
   "source": [
    "incoming2020caregiver = incoming2020[[\"What is your gender?\", \"How old are you?\", \"Which of the following race/ethnicity categories best describes you?\",\"Please select the range that describes your household's average annual income (including wages, child support, government benefits/financial assistance)\", \"What is the highest level of education you have completed?\"]]\n",
    "incoming2020caregiver\n",
    "\n",
    "plotPies(incoming2020caregiver, getLabels(incoming2020caregiver), False, False, False)\n",
    "    "
   ]
  },
  {
   "cell_type": "markdown",
   "id": "2d42b422",
   "metadata": {},
   "source": [
    "**Data about the child's parent or guardian.**"
   ]
  },
  {
   "cell_type": "code",
   "execution_count": null,
   "id": "3785412c",
   "metadata": {},
   "outputs": [],
   "source": [
    "#create df with information about adult bringing child in\n",
    "adult_2020 = incoming2020[[\"What is your gender?\",\"How old are you?\",\"Which of the following race/ethnicity categories best describes you?\",\"What is the highest level of education you have completed?\",\"What is your relationship to the child?\"]]\n",
    "#Rename columns \n",
    "adult_2020.columns = [[\"Resp_Gender\", \"Resp_Age\", \"Resp_Race\",\"highest_edu\",\"Resp_relationship_to_child\"]]\n",
    "#delete row full of test reponses\n",
    "#adult_2020.drop([0], axis=0, inplace = True)\n",
    "#adult_2020"
   ]
  },
  {
   "cell_type": "markdown",
   "id": "3fc7060c",
   "metadata": {},
   "source": [
    "**Data about the child's household.**"
   ]
  },
  {
   "cell_type": "code",
   "execution_count": null,
   "id": "59f37525",
   "metadata": {},
   "outputs": [],
   "source": [
    "#create df with info relating to child's household\n",
    "householdinfo_2020 = incoming2020.iloc[0:, 4:9]\n",
    "#Rename columns\n",
    "householdinfo_2020.columns = [[\"Adults\", \"Children\", \"Zip\", \"OMIT\", \"Avg_Income\"]]\n",
    "#Drop unessecary column with few data points\n",
    "householdinfo_2020.drop(columns=[\"OMIT\"], inplace=True)\n",
    "#drop unnesscary row with response parameters\n",
    "#householdinfo_nov2019.drop([0], axis=0, inplace = True)\n",
    "#householdinfo_2020"
   ]
  },
  {
   "cell_type": "markdown",
   "id": "054683da",
   "metadata": {},
   "source": [
    "**Data about how parents found WPC.**"
   ]
  },
  {
   "cell_type": "code",
   "execution_count": null,
   "id": "570bfb1f",
   "metadata": {},
   "outputs": [],
   "source": [
    "## DF with info on how they found WPC\n",
    "how_found_WPC_2020 = incoming2020[[\"How did you find out about the We PLAY Center?\"]]\n",
    "#how_found_WPC_2020"
   ]
  },
  {
   "cell_type": "markdown",
   "id": "792c2b2b",
   "metadata": {},
   "source": [
    "**Data about the childrens age and gender.**"
   ]
  },
  {
   "cell_type": "code",
   "execution_count": null,
   "id": "90500e59",
   "metadata": {},
   "outputs": [],
   "source": [
    "child_2020 = incoming2020[[\"How old is the 1st child?\",\"What is the 1st child's gender?\",\"What is your relationship to the 1st child?\",\"How old is the 2nd child?\",\"What is the 2nd child's gender?\",\"What is your relationship to the 2nd child?\"]]\n",
    "child_2020.columns = [[\"1st child age\",\"1st child's gender\",\"resp relationship to 1st child\",\"2nd child age\",\" 2nd child's gender\",\"resp relationship to 2nd child\"]]                   \n",
    "#child_2020\n",
    "\n",
    "## this just tells gender and age of children + age of child 2, age child three\n",
    "# then relationship , relationship 2, other"
   ]
  },
  {
   "cell_type": "markdown",
   "id": "650bec23",
   "metadata": {},
   "source": [
    "**Data about why parents have not applied for childcare.**"
   ]
  },
  {
   "cell_type": "code",
   "execution_count": null,
   "id": "da202c04",
   "metadata": {},
   "outputs": [],
   "source": [
    "#create df with info about why parents have not applied for childcare\n",
    "nochildcare_2020 = incoming2020.iloc[0:, 21:24]\n",
    "#Rename columns\n",
    "#nochildcare_2020.columns = [[\"It is too expensive\", \"I feel my child is not old enough\", \"There is a lack of quality childhood care and education\",\"I use a nanny to care for my child\", \"I use a family member to care for my child\",\"Other  (please specify)\",\"Type of Program Applied for\",\"Are you currently on a waiting list for a program?\"]]\n",
    "\n",
    "#nochildcare_2020"
   ]
  },
  {
   "cell_type": "markdown",
   "id": "13a0759b",
   "metadata": {},
   "source": [
    "**Data about parents interact with their children.**"
   ]
  },
  {
   "cell_type": "code",
   "execution_count": null,
   "id": "7063044c",
   "metadata": {},
   "outputs": [],
   "source": [
    "#create df with info about how parents interact with their children currently, Unfortunate they did not maintain the before and after WP\n",
    "parent_child_behaviors_2020 = incoming2020[[\"Please think about each statement and how you currently feel\",\"Unnamed: 36\",\"Unnamed: 37\",\"Unnamed: 38\",\"Unnamed: 39\",\"Unnamed: 40\"]]\n",
    "#Rename columns\n",
    "parent_child_behaviors_2020.columns = [[\"Read to my child (Currently)\",\"Play with my child (Currently)\",\"Talk to my child (Currently)\", \"Listen to my child (Currently)\",\"Set limits with my child (Currently)\",\"Yell at my child (Currently)\"]]\n",
    "\n",
    "#parent_child_behaviors_2020"
   ]
  },
  {
   "cell_type": "markdown",
   "id": "fcff76a9",
   "metadata": {},
   "source": [
    "**Data about how parents currently feel about their parenting skills and a few misc opinions**"
   ]
  },
  {
   "cell_type": "code",
   "execution_count": null,
   "id": "68c20bd9",
   "metadata": {},
   "outputs": [],
   "source": [
    "#create df with info about how parents feel they've grown since We Play\n",
    "currently_Parents_feel_2020 = incoming2020[[\"Think about each statement and how you currently feel .\",\"Unnamed: 42\",\"Unnamed: 43\",\"Unnamed: 44\",\"Unnamed: 45\",\"Unnamed: 46\",\"Unnamed: 47\",'\"Overall...\"',\"Unnamed: 25\",\"Unnamed: 26\",\"Unnamed: 27\",\"Unnamed: 28\",\"Unnamed: 29\",\"Unnamed: 30\",\"Unnamed: 31\",\"Unnamed: 32\",\"Unnamed: 33\",\"Unnamed: 34\"]]\n",
    "#Rename columns\n",
    "currently_Parents_feel_2020.columns = [[\"I stress about parenting...\",\"I use positive parenting strategies...\",\"I understand my child’s behavior...\",\"I am able to comfort my child when he/she is upset...\",\"I attend Parenting Learning Opportunities (workshop)...\",\"I feel overwhelmed with my child’s behavior...\",\"I feel my child is exposed to activities that stimulate his/her development...\",\"I feel confident as a parent\",\"I have access to resources to become a better parent\",\"I want to learn strategies to improve my parenting skills\",\"I understand child development\",\"I know age appropriate expectations for my child\",\"I know how to foster my child’s development\",\"I am knowledgeable about positive and nurturing parenting strategies\",\"I utilize positive parenting strategies\",\"I am supported in my role as a parent/caregiver\",\"I have a support system that consist of families with children of similar ages as my child\",\"I spend time with my child doing what he/she likes to do.\"]]\n",
    "\n",
    "#currently_Parents_feel_2020"
   ]
  },
  {
   "cell_type": "markdown",
   "id": "da2695b2",
   "metadata": {},
   "source": [
    "**Data about what kind of information parents want more of from WP.**"
   ]
  },
  {
   "cell_type": "code",
   "execution_count": null,
   "id": "53adab2f",
   "metadata": {},
   "outputs": [],
   "source": [
    "#create df with survey info about what kind of info parents want more of\n",
    "desired_info_2020 = incoming2020[[\"Which of the following aspects would you like the We Play Center to address? Please select all that apply and use the space to write in any additional comments.\",\"Unnamed: 51\",\"Unnamed: 52\",\"Unnamed: 53\",\"Unnamed: 54\",\"Unnamed: 55\",\"Unnamed: 56\",\"Unnamed: 57\",\"Unnamed: 58\",\"Unnamed: 59\"]]\n",
    "#Rename columns\n",
    "desired_info_2020.columns = [[\"Stress Relief\",\"Information about community resources\",\"Information about how to foster my child’s development\", \"Information about nurturing and responsive parenting strategies\",\"Information about mouthing (biting, putting objects in their mouth)\",\"Information about conflict resolution\",\"Information about sharing\",\"Information about nursing/ feeding\",\"Information about temper tantrums\",\"Information about sleeping\"]]\n",
    "desired_info_2020\n",
    "#~desired_info_2020.isna()"
   ]
  },
  {
   "cell_type": "markdown",
   "id": "92de7f61",
   "metadata": {},
   "source": [
    "**Open response, what will keep people coming back to WP.**"
   ]
  },
  {
   "cell_type": "code",
   "execution_count": null,
   "id": "676abe04",
   "metadata": {},
   "outputs": [],
   "source": [
    "#create df with open response detailing what parents say will keep them coming back\n",
    "keep_coming_back_2020 = incoming2020[[\"What will keep you coming back to the We PLAY Center?\"]]\n",
    "\n",
    "#keep_coming_back_2020"
   ]
  },
  {
   "cell_type": "code",
   "execution_count": null,
   "id": "2de8cc92",
   "metadata": {},
   "outputs": [],
   "source": [
    "'''\n",
    "allIncoming = pd.concat([incomingjuly2019, incomingnov2019.iloc[1:,:], incoming2020.iloc[1:,:], incoming_data_undated.iloc[1:,:]], ignore_index=True)\n",
    "\n",
    "# ^ run this before to store allIncoming\n",
    "# poss store the column names in the excel to avoid passing label??\n",
    "def plotSection(cols, i1, i2):\n",
    "    df = allIncoming.iloc[1:, i1:i2]\n",
    "    df.columns = [cols]\n",
    "\n",
    "    plotPies(df, getLabels(df), False, False, True)\n",
    "    return 0\n",
    "    # how are we going to plot bars tho?\n",
    "  \n",
    "plotSection([\"Resp_Gender\", \"Resp_Age\", \"Resp_Race\"], 1, 4)\n",
    "plotSection([\"Adults\", \"Children\", \"Zip\"], 5, 8)\n",
    "plotSection([\"Income\", \"Highest Level of education\"], 9, 11)   \n",
    "\n",
    "print(\"Notes: -- Adults means over 19  -- Children means under 18 -- Resp = Respondant\\n\")\n",
    "'''code from above --> turning into a function\n",
    "allIncoming_1 = allIncoming.iloc[1:, 1:4]\n",
    "allIncoming_1.columns = [[\"Resp_Gender\", \"Resp_Age\", \"Resp_Race\"]]                    \n",
    "allIncoming_2 = allIncoming.iloc[1:, 5:8]\n",
    "allIncoming_2.columns = [[\"Adults\", \"Children\", \"Zip\"]]\n",
    "allIncoming_3 = allIncoming.iloc[1:, 9:11]\n",
    "allIncoming_3.columns = [[\"Income\", \"Highest Level of education\"]] '''\n",
    "\n",
    "# printCatBars(adult_FDb, \"Zip\", adult_FDb.Zip, False)\n",
    "# printCatBars(adult_FDa, \"Resp_Age\", adult_FDa.Resp_Age)\n",
    "# printCatBars(adult_FDa, \"AdultsAtHome\", adult_FDa.AdultsAtHome)\n",
    "\n",
    "# drop columns to plot bars\n",
    "## adult_FDa.drop(columns=[\"Resp_Age\", \"AdultsAtHome\"], inplace=True)'''"
   ]
  },
  {
   "cell_type": "markdown",
   "id": "2c7b830e",
   "metadata": {},
   "source": [
    "# Automatic updating for Git Pages\n",
    "Use gh-pages branch to display on Rena's personal website"
   ]
  },
  {
   "cell_type": "code",
   "execution_count": null,
   "id": "ad6d014a",
   "metadata": {},
   "outputs": [],
   "source": [
    "# # make sure to push changes from main first!\n",
    "# !git checkout gh-pages\n",
    "!git pull #update gh-pages with stuff from main"
   ]
  },
  {
   "cell_type": "markdown",
   "id": "1f6ce049",
   "metadata": {},
   "source": [
    "### automatically create index.html"
   ]
  },
  {
   "cell_type": "code",
   "execution_count": null,
   "id": "5faa5a74",
   "metadata": {
    "scrolled": true
   },
   "outputs": [],
   "source": [
    "# convert this file to HTML\n",
    "!jupyter nbconvert --to html FinalTutorial.ipynb\n",
    "\n",
    "# Delete old index.html\n",
    "!rm index.html\n",
    "# move MilestoneTwo.html to index.html\n",
    "!mv FinalTutorial.html index.html\n",
    "\n",
    "# Push to Rena's repo\n",
    "!git config --global user.name \"renarepenning\"\n",
    "!git config --global user.email \"rrepenning@tulane.edu\"\n",
    "!git add -A\n",
    "!git commit -m \"auto update index.html\"\n",
    "\n",
    "# !git push\n",
    "# must push manually!"
   ]
  },
  {
   "cell_type": "markdown",
   "id": "616b66d2",
   "metadata": {},
   "source": [
    "Make sure to checkout main before going back to work!"
   ]
  }
 ],
 "metadata": {
  "kernelspec": {
   "display_name": "Python 3 (ipykernel)",
   "language": "python",
   "name": "python3"
  },
  "language_info": {
   "codemirror_mode": {
    "name": "ipython",
    "version": 3
   },
   "file_extension": ".py",
   "mimetype": "text/x-python",
   "name": "python",
   "nbconvert_exporter": "python",
   "pygments_lexer": "ipython3",
   "version": "3.9.6"
  }
 },
 "nbformat": 4,
 "nbformat_minor": 5
}
