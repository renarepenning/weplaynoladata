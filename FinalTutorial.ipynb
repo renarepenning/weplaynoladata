{
 "cells": [
  {
   "cell_type": "markdown",
   "id": "31d555f4",
   "metadata": {},
   "source": [
    "https://www.renarepenning.com/weplaynoladata/"
   ]
  },
  {
   "cell_type": "markdown",
   "id": "9bc23895",
   "metadata": {},
   "source": [
    "## Rena Repenning and Eddy Salazar"
   ]
  },
  {
   "cell_type": "markdown",
   "id": "707ea308",
   "metadata": {},
   "source": [
    "# Project Plan\n",
    "\n",
    "\n",
    "## *Updated by rena 12/12*\n",
    "https://docs.google.com/document/d/1V47KzrvPq6YNUBH-4N6mWy_EH556zvRhAlRZV9M2-sM/edit\n"
   ]
  },
  {
   "cell_type": "markdown",
   "id": "e79caecc",
   "metadata": {},
   "source": [
    "### Data \n",
    "1. We Play Data [<sup>1</sup>](#fn1)\n",
    "    Provided by Christine Neely"
   ]
  },
  {
   "cell_type": "markdown",
   "id": "1df729ac",
   "metadata": {},
   "source": [
    "### Explanation & Model Proposition\n",
    "We are inspired by The We Play center's mission: \"to offer a safe place to play while engaging in activities that promote brain development.\" \n",
    "Melanie Richardson expressed a need for statistical evidence of We Play's importance."
   ]
  },
  {
   "cell_type": "markdown",
   "id": "2bbbaad5",
   "metadata": {},
   "source": [
    "First, we manually removed empty columns and rows from the five excel files.\n",
    "Then, we broke apart sheets to make data frames adressing a single concern. During service learning Melanie and Christine heard our Milestone Two plan and asked for **XXXXXXX**\n",
    "\n",
    "**XXX explain four surveys are weird time frames, sameish columns, and then fam survey is vaugley similar XX**\n",
    "\n",
    "After looking at all the available data *we intend to model*:\n",
    "* Use data regarding existing and desired parenting skills to inform WePLAY's curriculum\n",
    "* Identify why people chose WePLAY over alternative forms of childcare/early education\n",
    "\n",
    "\n",
    "Graphing pie charts is difficult, and code intensive, in pandas and matplotlib. Writing three of our own ETL functions increased our efficiency and cutdown on lines of code. We added functions to plot pie charts easily, grab column labels, and take numerical series and plot a bar chart and print summary stats. These will allow us to analyze the rest of the data in a much more efficient fashion."
   ]
  },
  {
   "cell_type": "markdown",
   "id": "ac19ef5f",
   "metadata": {},
   "source": [
    "### Collaboration Plan\n",
    "Rena and Eddy will utilize this repository to simultaneously edit the project. \n",
    "We plan on connecting over Zoom as needed and keeping constant communication over instant message. Also, we are both able to meet after class on Thursdays.\n",
    "When convinient, we will export notebooks to Google Colabs to support simultaneous editing. \n",
    "(This is easily done using a Colabs Chrome extension).\n",
    "While re organizing our final product we used a GoogleDoc to simultaneouslt outline and plan."
   ]
  },
  {
   "cell_type": "markdown",
   "id": "c36ad3d1",
   "metadata": {},
   "source": [
    "### Footnotes\n",
    "<span id=\"fn1\"> 1. WePLAY data was last downloaded on October 25th, 2021. We could not use a live link because of spaces in filenames.</span>"
   ]
  },
  {
   "cell_type": "markdown",
   "id": "33c4ee8c",
   "metadata": {},
   "source": [
    "# Exploring WePLAY Survey Results"
   ]
  },
  {
   "cell_type": "markdown",
   "id": "a01835fc",
   "metadata": {},
   "source": [
    "Provided by Christine Neely from WePlay by Training Grounds nola. Data last accessed on October 25th."
   ]
  },
  {
   "cell_type": "markdown",
   "id": "1717d831",
   "metadata": {},
   "source": [
    "##### Imports as needed"
   ]
  },
  {
   "cell_type": "code",
   "execution_count": 5,
   "id": "91306a69",
   "metadata": {
    "scrolled": true
   },
   "outputs": [
    {
     "data": {
      "text/plain": [
       "'import pandas as pd\\nimport matplotlib.pyplot as plt\\nimport numpy as np\\n#from matplotlib import cm\\n!pip3 install geopandas\\n!pip3 install descartes\\nimport geopandas as gpd\\n!pip3 install openpyxl # package to open xlsx files\\n'"
      ]
     },
     "execution_count": 5,
     "metadata": {},
     "output_type": "execute_result"
    }
   ],
   "source": [
    "'''import pandas as pd\n",
    "import matplotlib.pyplot as plt\n",
    "import numpy as np\n",
    "import math\n",
    "#from matplotlib import cm\n",
    "!pip3 install geopandas\n",
    "!pip3 install descartes\n",
    "import geopandas as gpd\n",
    "!pip3 install openpyxl # package to open xlsx files\n",
    "'''"
   ]
  },
  {
   "cell_type": "markdown",
   "id": "1528cbcb",
   "metadata": {},
   "source": [
    "Separate paths to accomodate for our local environments"
   ]
  },
  {
   "cell_type": "code",
   "execution_count": 6,
   "id": "e5f7ea31",
   "metadata": {},
   "outputs": [],
   "source": [
    "renapath = \"../notebooks/_data/WePlayData/CleanedWPC\"\n",
    "edpath = \"./_data/WePlayData/CleanedWPC\"\n",
    "\n",
    "# PATH -- set path variable \n",
    "path = renapath  # path to manually cleaned excels"
   ]
  },
  {
   "cell_type": "markdown",
   "id": "50f39cb3",
   "metadata": {},
   "source": [
    "# Extraction, Transform, and Loading Key Functions\n",
    "\n",
    "#### **plotPies**\n",
    "\n",
    "* df= dataframe to graph\n",
    "* cols = the df's columns to be used as titles; can pass in `getLabels(df)`\n",
    "* labels = labels for sections\n",
    "* allLabelsSame = if True, make a list of labels' to get same format for all label inputs\n",
    "* isNAct = if we use .isna() before value counts\n",
    "For now, we will leave legends repeating because that function pairs names and values correctly.\n",
    "\n",
    "#### printCatBars\n",
    "* df\n",
    "* key\n",
    "* att (like df.key, but pandas doesn't allow .key in place of .attribute to calculate summary stats\n",
    "* printStats=True\n",
    "\n",
    "#### printHorizBars\n",
    "* df \n",
    "* key\n",
    "\n",
    "#### plotSection\n",
    "* cols\n",
    "* i1\n",
    "* i2\n",
    "* plotBars=\"key\"\n",
    "* plotBarsHoriz=False\n",
    "* pie=True\n",
    "\n",
    "#### **getLabels**\n",
    "* returns a list of lists of values for each column, using pandas.unique"
   ]
  },
  {
   "cell_type": "code",
   "execution_count": 7,
   "id": "f9c45a13",
   "metadata": {},
   "outputs": [],
   "source": [
    "#     cs=cm.Set1(np.arange(40)/40.) # for colors  colors=cs,\n",
    "\n",
    "#Pie chart citation: https://matplotlib.org/stable/gallery/pie_and_polar_charts/pie_features.html\n",
    "\n",
    "def plotPies(df, labels, allLabelsSame, isNAct, ishoriz=True):\n",
    "    cols = df.columns\n",
    "    # create matplotlib axis\n",
    "    if ishoriz:\n",
    "        fig1, ax1 = plt.subplots(nrows=1,ncols=len(cols),figsize=(20,15))\n",
    "    else:\n",
    "        fig1, ax1 = plt.subplots(nrows=len(cols),ncols=1,figsize=(20,15))\n",
    "        \n",
    "    # if all labels are the same we make a cols long list of them --> accomodate dif label inputs\n",
    "    if allLabelsSame:\n",
    "        labels = [labels]*len(cols)\n",
    "    keys = [] #print key above all instead of individually\n",
    "    for i, c in enumerate(df.columns): # incanse our graph titles are going to be differend\n",
    "        if isNAct:#if we want to plot using is na\n",
    "            wedges = ax1[i].pie(df[c].isna().value_counts(), autopct='%1.1f%%', shadow=True, startangle=90)#labels=labels[i],\n",
    "        else:\n",
    "            wedges = ax1[i].pie(df[c].value_counts(), autopct='%1.1f%%', shadow=True, startangle=90)#labels=labels[i],\n",
    "        \n",
    "        ax1[i].set_title(str(i+1))\n",
    "        if isinstance(cols[i],str):\n",
    "            keys += [str(i+1) +\". \"+ cols[i]]\n",
    "        else:\n",
    "            keys += [str(i+1) +\". \"+ cols[i][0]]\n",
    "        \n",
    "        ax1[i].axis('equal')\n",
    "        # label individually, when we must\n",
    "        if allLabelsSame == False:\n",
    "            ax1[i].legend(wedges[0], labels[i],\n",
    "                  title=\"Legend\", # must plot a unique legend for each to keep value/label pairs uniform\n",
    "                  loc=\"upper left\",\n",
    "                  bbox_to_anchor=(1, 0, 0.5, 1))\n",
    "        \n",
    "    # label for all to save space\n",
    "    if allLabelsSame:\n",
    "        ax1[0].legend(wedges[0], labels[0],\n",
    "                      title=\"Legend\", # must plot a unique legend for each to keep value/label pairs uniform\n",
    "                      loc=\"upper left\",\n",
    "                      bbox_to_anchor=(1, 0, 0.5, 1))\n",
    "    # Label each graph - matplot title is messy\n",
    "    print(\"KEYS:\")\n",
    "    for k in keys:\n",
    "        print(k)\n",
    "    plt.show()\n",
    "    \n"
   ]
  },
  {
   "cell_type": "code",
   "execution_count": 8,
   "id": "ccd4e120",
   "metadata": {},
   "outputs": [],
   "source": [
    "def getLabels(df):    \n",
    "    labels = [\"x\"]*len(df.columns)\n",
    "    for i, c in enumerate(df.columns):\n",
    "        labels[i] = df[c].unique()\n",
    "    return labels\n",
    "    # will return nan"
   ]
  },
  {
   "cell_type": "markdown",
   "id": "18283be2",
   "metadata": {},
   "source": [
    "### Displaying barchart and summary stats for numeric variables"
   ]
  },
  {
   "cell_type": "code",
   "execution_count": 9,
   "id": "1c0c60f2",
   "metadata": {},
   "outputs": [],
   "source": [
    "def printCatBars(df, key, att, printStats=True):\n",
    "    # att -- > is df.col_name attribute for calling summary stat functions\n",
    "    p = df[key].value_counts()\n",
    "    p.sort_index(inplace=True)\n",
    "    p.plot.bar(align=\"center\", color=\"pink\")\n",
    "    \n",
    "    if printStats: #adjust for qualitative data\n",
    "        # convert numeric values\n",
    "        df[key].apply(pd.to_numeric, errors='coerce')\n",
    "        print(\"SUMMARY STATS\\n\",\"AVG: \", att.mean()[0],\"\\nMax,Min: \",att.min()[0],\",\",att.max()[0])\n",
    "\n",
    "# printing horizontal bar charts for x values with long labels\n",
    "def printHorizBars(df, key):\n",
    "    p = df[key].value_counts()\n",
    "    p.sort_index(inplace=True)\n",
    "    p.plot.barh(align=\"center\", color=\"pink\")\n",
    "    "
   ]
  },
  {
   "cell_type": "markdown",
   "id": "737a1ea9",
   "metadata": {},
   "source": [
    "### Plotting batches of aggregated data, with option to add in bar chart"
   ]
  },
  {
   "cell_type": "code",
   "execution_count": 19,
   "id": "9ceae3c4",
   "metadata": {},
   "outputs": [],
   "source": [
    "# poss store the column names in the excel to avoid passing label??\n",
    "\n",
    "# plotBars -> plots a bar graph if we send in col, attribute\n",
    "def plotSection(cols, i1, i2, plotBars=\"key\", plotBarsHoriz=False, pie=True, isNAct=False):\n",
    "    df = allIncoming.iloc[1:, i1:i2]\n",
    "    df.columns = [cols]\n",
    "    \n",
    "    if (pie) and (plotBarsHoriz==False):\n",
    "        # use labels function if non-bin question. else we make it T/f\n",
    "        if isNAct == False:\n",
    "            plotPies(df, getLabels(df), False, isNAct, True)\n",
    "        else:\n",
    "            plotPies(df, [\"True\", \"False\"], True, isNAct, True)\n",
    "    if plotBars != \"key\":\n",
    "        if plotBarsHoriz == False:\n",
    "            print(\"Taking a closer look at \",plotBars,\":\")\n",
    "            printCatBars(df, plotBars, df[plotBars], False)\n",
    "        else:\n",
    "            printHorizBars(df, plotBars)"
   ]
  },
  {
   "cell_type": "markdown",
   "id": "78700ff6",
   "metadata": {},
   "source": [
    "# Incoming Family Data\n",
    "### Four spreadsheets aggregated\n",
    "Explain method, etc"
   ]
  },
  {
   "cell_type": "code",
   "execution_count": 20,
   "id": "dd917c64",
   "metadata": {},
   "outputs": [
    {
     "name": "stdout",
     "output_type": "stream",
     "text": [
      "Notes: -- Adults means over 19  -- Children means under 18 -- Resp = Respondant\n",
      "\n"
     ]
    }
   ],
   "source": [
    "# JULY BATCH\n",
    "incomingjuly2019 = pd.read_excel(path + \"IncomingParentReflection-July2019\" + \".xlsx\")\n",
    "incomingjuly2019[\"Sheet\"] = \"July19\"\n",
    "incomingjuly2019.drop([1], axis=0, inplace = True) #delete row full of test reponses\n",
    "# NOV BATCH\n",
    "incomingnov2019 = pd.read_excel(path + \"IncomingParentReflection-November2019\" + \".xlsx\")\n",
    "incomingnov2019[\"Sheet\"] = \"Nov19\"\n",
    "incomingnov2019.drop([0], axis=0, inplace = True)\n",
    "# 2020 BATCH\n",
    "incoming2020 = pd.read_excel(path + \"IncomingParentReflectionForm2020\" + \".xlsx\")\n",
    "incoming2020[\"Sheet\"] = \"2020\"\n",
    "incoming2020.drop([0], axis=0, inplace = True)\n",
    "# UNDATED BATCH\n",
    "incoming_undated = pd.read_excel(path + \"IncomingParentReflection\" + \".xlsx\")\n",
    "incoming_undated[\"Sheet\"] = \"NoDate\"\n",
    "# Create DF of all similar surveys\n",
    "pd.set_option('display.max_columns',None) #display all columns\n",
    "allIncoming = pd.concat([incomingjuly2019, incomingnov2019.iloc[1:,:], incoming2020.iloc[1:,:], incoming_undated.iloc[1:,:]], ignore_index=True)\n",
    "            \n",
    "print(\"Notes: -- Adults means over 19  -- Children means under 18 -- Resp = Respondant\\n\")\n"
   ]
  },
  {
   "cell_type": "code",
   "execution_count": 21,
   "id": "aa29e0c5",
   "metadata": {},
   "outputs": [
    {
     "data": {
      "text/plain": [
       "July19    64\n",
       "Nov19     51\n",
       "NoDate    21\n",
       "2020      10\n",
       "Name: Sheet, dtype: int64"
      ]
     },
     "execution_count": 21,
     "metadata": {},
     "output_type": "execute_result"
    }
   ],
   "source": [
    "allIncoming[\"Sheet\"].value_counts()"
   ]
  },
  {
   "cell_type": "code",
   "execution_count": 66,
   "id": "92490874",
   "metadata": {},
   "outputs": [
    {
     "data": {
      "text/plain": [
       "'Graph/display date distribution somehow (by month)?'"
      ]
     },
     "execution_count": 66,
     "metadata": {},
     "output_type": "execute_result"
    }
   ],
   "source": [
    "from datetime import datetime\n",
    "'''this only casts as nans '''\n",
    "allIncoming.Date.unique()\n",
    "allIncoming['Date'].describe()\n",
    "\n",
    "dates = str(pd.DatetimeIndex(allIncoming['Date'][1:]).month)# + str(pd.DatetimeIndex(allIncoming['Date'][1:]).year)\n",
    "# plotSection(\"Date\", 0, 1, pie=False, plotBars=\"Date\", plotBarsHoriz=True) \n",
    "# dates = allIncoming['Date'][1:].dt.to_period('M')\n",
    "\n",
    "#https://stackoverflow.com/questions/25146121/extracting-just-month-and-year-separately-from-pandas-datetime-column\n",
    "'''Graph/display date distribution somehow (by month)?'''\n"
   ]
  },
  {
   "cell_type": "markdown",
   "id": "20b2e344",
   "metadata": {},
   "source": [
    "### Survey Respondant information"
   ]
  },
  {
   "cell_type": "code",
   "execution_count": 15,
   "id": "91ca837d",
   "metadata": {},
   "outputs": [
    {
     "data": {
      "text/plain": [
       "'Survey Respondant Info'"
      ]
     },
     "execution_count": 15,
     "metadata": {},
     "output_type": "execute_result"
    }
   ],
   "source": [
    "# plotSection([\"Resp_Gender\", \"Resp_Age\", \"Resp_Race\"], 1, 4, \"Resp_Age\")\n",
    "'''Survey Respondant Info'''"
   ]
  },
  {
   "cell_type": "code",
   "execution_count": null,
   "id": "fa1d29ce",
   "metadata": {},
   "outputs": [],
   "source": [
    "#plotSection([\"Adults\", \"Children\", \"Zip\"], 5, 8, \"Zip\")\n",
    "'''Home info: # Adults, # Children, Zip'''"
   ]
  },
  {
   "cell_type": "code",
   "execution_count": null,
   "id": "c7ae5515",
   "metadata": {},
   "outputs": [],
   "source": [
    "#plotSection([\"Income\", \"Highest Level of education\"], 9, 11)\n",
    "'''Respondant Demographic'''"
   ]
  },
  {
   "cell_type": "markdown",
   "id": "2d7b29e3",
   "metadata": {},
   "source": [
    "Information about children brought to WePLAY"
   ]
  },
  {
   "cell_type": "code",
   "execution_count": null,
   "id": "fed45c45",
   "metadata": {},
   "outputs": [],
   "source": [
    "childDemo = allIncoming[[\"How old is the 1st child?\",\"What is the 1st child's gender?\",\"What is your relationship to the 1st child?\",\"How old is the 2nd child?\",\"What is the 2nd child's gender?\",\"What is your relationship to the 2nd child?\"]]\n",
    "childDemo.columns = [[\"1st child age\",\"1st child's gender\",\"resp relationship to 1st child\",\"2nd child age\",\" 2nd child's gender\",\"resp relationship to 2nd child\"]]                   \n",
    "# childDemo\n",
    "\n",
    "## this just tells gender and age of children + age of child 2, age child three\n",
    "# then relationship , relationship 2, other"
   ]
  },
  {
   "cell_type": "markdown",
   "id": "d364dbc5",
   "metadata": {},
   "source": [
    "### How and why WPC"
   ]
  },
  {
   "cell_type": "markdown",
   "id": "dbfd4857",
   "metadata": {},
   "source": [
    "Respondant's reasoning for attending WePLAY versus other forms of early childhood education"
   ]
  },
  {
   "cell_type": "code",
   "execution_count": null,
   "id": "70cccc3a",
   "metadata": {},
   "outputs": [],
   "source": [
    "# print(\"Q: Which of the following are reasons that you have not applied for childcare?\\nPlease select all that apply. (\\\"No\\\" label means option wasn't selected)\")\n",
    "# c = [\n",
    "#     \"I feel my child is not old enough\",\n",
    "#     \"There is a lack of quality childhood care\",\n",
    "#     \"I use a nanny\",\n",
    "#     \"I use a family member\",\n",
    "#     \"Other\",\n",
    "#     \"What type of childcare program is it?\"]\n",
    "# plotSection(c, 30, 36)   "
   ]
  },
  {
   "cell_type": "code",
   "execution_count": 13,
   "id": "8ea653b9",
   "metadata": {},
   "outputs": [
    {
     "data": {
      "text/plain": [
       "'Why have you not applied to day care?'"
      ]
     },
     "execution_count": 13,
     "metadata": {},
     "output_type": "execute_result"
    }
   ],
   "source": [
    "# plotSection(\"x\", 36, 37, pie=False, plotBars=\"x\", plotBarsHoriz=True) \n",
    "'''Why have you not applied to day care?'''"
   ]
  },
  {
   "cell_type": "code",
   "execution_count": 14,
   "id": "b3851b83",
   "metadata": {},
   "outputs": [
    {
     "data": {
      "text/plain": [
       "'Where else have you sought child care'"
      ]
     },
     "execution_count": 14,
     "metadata": {},
     "output_type": "execute_result"
    }
   ],
   "source": [
    "# plotSection(\"y\", 37, 38, pie=False, plotBars=\"y\", plotBarsHoriz=True) \n",
    "'''Where else have you sought child care'''"
   ]
  },
  {
   "cell_type": "code",
   "execution_count": 60,
   "id": "010936de",
   "metadata": {},
   "outputs": [
    {
     "data": {
      "text/plain": [
       "'How respondants found the WePLAY center'"
      ]
     },
     "execution_count": 60,
     "metadata": {},
     "output_type": "execute_result"
    }
   ],
   "source": [
    "# cols = [\"Sign/Poster/flyer\", \"Friend\", \"Website\", \"Social Media\", \"Other org\"]#, \"Lafitte Fauborg Housing Office\"]\n",
    "# plotSection(cols, 120, 125, isNAct=True) \n",
    "# print(\"Other: \")\n",
    "# allIncoming.iloc[:,126].unique()[2:]\n",
    "'''How respondants found the WePLAY center'''"
   ]
  },
  {
   "cell_type": "markdown",
   "id": "b7079472",
   "metadata": {},
   "source": [
    "### Parenting: Concerns, strengths, and progress"
   ]
  },
  {
   "cell_type": "markdown",
   "id": "44a578c2",
   "metadata": {},
   "source": [
    "Using plot pies rather than plot sections to repurpose code we created before aggregating all four sets"
   ]
  },
  {
   "cell_type": "code",
   "execution_count": 79,
   "id": "b2eec3a4",
   "metadata": {},
   "outputs": [],
   "source": [
    "#create df with directly comparable info about how parents interact with their children before and after WePlay\n",
    "parent_child_behaviorsa = allIncoming[[\"Please think about each statement and how you currently feel\",\"Unnamed: 59\",\"Unnamed: 60\",\"Unnamed: 61\",\"Unnamed: 62\",\"Unnamed: 63\"]]\n",
    "parent_child_behaviorsb = allIncoming[['\"Since coming to the We PLAY Center I…\"',\"Unnamed: 97\",\"Unnamed: 98\",\"Unnamed: 99\",\"Unnamed: 100\",\"Unnamed: 101\"]]\n",
    "parent_child_behaviorsa.drop([0], axis=0, inplace = True)\n",
    "parent_child_behaviorsb.drop([0], axis=0, inplace = True)\n",
    "parent_child_behaviorsa.columns = [[\"Read to my child (Before WP)\",\"Play with my child (Before WP)\",\"Talk to my child (Before WP)\", \"Listen to my child (Before WP)\",\"Set limits with my child (Before WP)\",\"Yell at my child (Before WP)\"]]\n",
    "parent_child_behaviorsb.columns = [[\"Read to my child (Since WP)\",\"Play with my child (Since WP)\",\"Talk to my child (Since WP)\",\"Listen to my child (Since WP)\",\"Set limits with my child (Since WP)\",\"Yell at my child (Since WP)\"]]\n",
    "#print(\"Parent/child interaction before WePLAY\")\n",
    "#plotPies(parent_child_behaviorsa, getLabels(parent_child_behaviorsa), False, False, ishoriz=True)\n",
    "#print(\"Parent/child interaction after WePLAY\")\n",
    "#plotPies(parent_child_behaviorsb, getLabels(parent_child_behaviorsb), False, False, ishoriz=True)\n"
   ]
  },
  {
   "cell_type": "markdown",
   "id": "6040cce1",
   "metadata": {},
   "source": [
    "How parents see their parenting"
   ]
  },
  {
   "cell_type": "code",
   "execution_count": 86,
   "id": "3dd0c7ab",
   "metadata": {},
   "outputs": [],
   "source": [
    "# #create df with info about how parents feel they've grown since We Play\n",
    "# currently_Parents_feel = allIncoming[[\"Think about each statement and how you currently feel .\",\"Unnamed: 42\",\"Unnamed: 43\",\"Unnamed: 44\",\"Unnamed: 45\",\"Unnamed: 46\",\"Unnamed: 47\",'\"Overall...\"',\"Unnamed: 25\",\"Unnamed: 26\",\"Unnamed: 27\",\"Unnamed: 28\",\"Unnamed: 29\",\"Unnamed: 30\",\"Unnamed: 31\",\"Unnamed: 32\",\"Unnamed: 33\",\"Unnamed: 34\"]]\n",
    "# #Rename columns\n",
    "# currently_Parents_feel.columns = [[\"I stress about parenting...\",\"I use positive parenting strategies...\",\"I understand my child’s behavior...\",\"I am able to comfort my child when he/she is upset...\",\"I attend Parenting Learning Opportunities (workshop)...\",\"I feel overwhelmed with my child’s behavior...\",\"I feel my child is exposed to activities that stimulate his/her development...\",\"I feel confident as a parent\",\"I have access to resources to become a better parent\",\"I want to learn strategies to improve my parenting skills\",\"I understand child development\",\"I know age appropriate expectations for my child\",\"I know how to foster my child’s development\",\"I am knowledgeable about positive and nurturing parenting strategies\",\"I utilize positive parenting strategies\",\"I am supported in my role as a parent/caregiver\",\"I have a support system that consist of families with children of similar ages as my child\",\"I spend time with my child doing what he/she likes to do.\"]]\n",
    "\n",
    "# currently_Parents_feel"
   ]
  },
  {
   "cell_type": "markdown",
   "id": "5cbffdbb",
   "metadata": {},
   "source": [
    "How parents have grown since the WePLAY"
   ]
  },
  {
   "cell_type": "code",
   "execution_count": null,
   "id": "fb1ff9d2",
   "metadata": {},
   "outputs": [],
   "source": [
    "#create df with info about how parents feel they've grown since We Play\n",
    "since_WP_Parents_july2019 = incomingjuly2019[[\"After coming to the center, which of the following aspects have changed for you as a parent? Please choose one option for each statement.\",\"Unnamed: 71\",\"Unnamed: 72\",\"Unnamed: 73\",\"Unnamed: 74\",\"Unnamed: 75\",\"Unnamed: 76\",'\"Since coming to We PLAY Center…\"',\"Unnamed: 90\",\"Unnamed: 91\",\"Unnamed: 92\",\"Unnamed: 93\",\"Unnamed: 94\"]]\n",
    "#Rename columns\n",
    "since_WP_Parents_july2019.columns = [[\"My stress level as a parent...\",\"My knowledge about parenting support and resources in the community...\",\"My knowledge about my child’s development...\",\"My knowledge about how to foster my child’s development...\",\"My knowledge about nurturing and responsive parenting strategies...\",\"My knowledge about nutrition and breastfeeding...\",\"My confidence in my role as a parent...\",\"I engage with my child by repeating his/her words or sounds...\",\"I engage with my child in pretend play...\",\"I stand back and let my child work through problems...\",\"I engage in bonding activities with my child...\",\"I am better able to help my child uses age appropriate social skills...\",\"I am better able to support my child as he/she learns new skills...\"]]\n",
    "#drop unnesscary row with response parameters\n",
    "since_WP_Parents_july2019.drop([0], axis=0, inplace = True)\n",
    "#since_WP_Parents_july2019\n",
    "\n",
    "\n",
    "#create df with info about how parents feel they've grown since We Play\n",
    "since_WP_Parents_nov2019a = incomingnov2019[[\"After coming to the center, which of the following aspects have changed for you as a parent? Please choose one option for each statement.\",\"Unnamed: 78\",\"Unnamed: 79\",\"Unnamed: 80\",\"Unnamed: 81\",\"Unnamed: 82\",\"Unnamed: 83\"]]\n",
    "since_WP_Parents_nov2019b = incomingnov2019[['\"Since coming to We PLAY Center…\"',\"Unnamed: 97\",\"Unnamed: 98\",\"Unnamed: 99\",\"Unnamed: 100\",\"Unnamed: 101\"]]\n",
    "# Rename columns\n",
    "since_WP_Parents_nov2019a.columns = [[\"My stress level as a parent...\",\"My knowledge about parenting support and resources in the community...\",\"My knowledge about my child’s development...\",\"My knowledge about how to foster my child’s development...\",\"My knowledge about nurturing and responsive parenting strategies...\",\"My knowledge about nutrition and breastfeeding...\",\"My confidence in my role as a parent...\"]]\n",
    "since_WP_Parents_nov2019b.columns =[[\"I engage with my child by repeating his/her words or sounds...\",\"I engage with my child in pretend play...\",\"I stand back and let my child work through problems...\",\"I engage in bonding activities with my child...\",\"I am better able to help my child uses age appropriate social skills...\",\"I am better able to support my child as he/she learns new skills...\"]]\n",
    "# plot seperately so labeling is nic\n",
    "\n",
    "plotPies(since_WP_Parents_nov2019a, [\"Increased significantly\", \"Somewhat decreased\"], True, True)\n",
    "plotPies(since_WP_Parents_nov2019b, [\"More often\", \"The same\"], True, True)\n"
   ]
  },
  {
   "cell_type": "markdown",
   "id": "74a52402",
   "metadata": {},
   "source": [
    "How children have grown since WePlay"
   ]
  },
  {
   "cell_type": "code",
   "execution_count": null,
   "id": "1a855952",
   "metadata": {},
   "outputs": [],
   "source": [
    "#create df with info about how parents feel their children have grown since We Play\n",
    "since_WP_child_july2019 = incomingjuly2019[[\"Since attending the We PLAY Center, which of the following aspects of your child's development have changed? Please choose one option for each statement.\",\"Unnamed: 58\",\"Unnamed: 59\",\"Unnamed: 60\"]]\n",
    "#Rename columns\n",
    "since_WP_child_july2019.columns = [[\"My child's early learning and cognitive skills...\",\"My child's early language abilities...\",\"My child's early social emotional skills...\", \"My child's school readiness...\"]]\n",
    "#drop unnesscary row with response parameters\n",
    "since_WP_child_july2019.drop([0], axis=0, inplace = True)\n",
    "#since_WP_child_july2019"
   ]
  },
  {
   "cell_type": "markdown",
   "id": "92b034e6",
   "metadata": {},
   "source": [
    "### Parent reviews and needs"
   ]
  },
  {
   "cell_type": "markdown",
   "id": "d82aaa01",
   "metadata": {},
   "source": [
    "XXX"
   ]
  },
  {
   "cell_type": "markdown",
   "id": "b3e64daa",
   "metadata": {},
   "source": [
    "Data on what kind of info parents want more of from WP"
   ]
  },
  {
   "cell_type": "code",
   "execution_count": 91,
   "id": "3ab915ef",
   "metadata": {},
   "outputs": [
    {
     "name": "stdout",
     "output_type": "stream",
     "text": [
      "\"Which of the following aspects would you like the We Play Center to address more often?\n",
      "\n"
     ]
    }
   ],
   "source": [
    "#create df with survey info about what kind of info parents want more of\n",
    "desired_info = allIncoming[[\"Which of the following aspects would you like the We Play Center to address more often? Please select all that apply and use the space to write in any additional comments.\",\"Unnamed: 109\",\"Unnamed: 110\",\"Unnamed: 111\",\"Unnamed: 112\",\"Unnamed: 113\",\"Unnamed: 114\",\"Unnamed: 115\",\"Unnamed: 116\",\"Unnamed: 117\"]]\n",
    "#Rename columns\n",
    "desired_info.columns = [[\"Stress Relief\",\"Information about community resources\",\"Information about how to foster my child’s development\", \"Information about nurturing and responsive parenting strategies\",\"Information about mouthing (biting, putting objects in their mouth)\",\"Information about conflict resolution\",\"Information about sharing\",\"Information about nursing/ feeding\",\"Information about temper tantrums\",\"Information about sleeping\"]]\n",
    "desired_info = ~desired_info.isna()\n",
    "\n",
    "print('\"Which of the following aspects would you like the We Play Center to address more often?\\n')\n",
    "#plotPies(desired_info, [\"True\", \"False\"], True, False)\n"
   ]
  },
  {
   "cell_type": "code",
   "execution_count": 96,
   "id": "a717b487",
   "metadata": {},
   "outputs": [
    {
     "name": "stdout",
     "output_type": "stream",
     "text": [
      "KEYS:\n",
      "1. Provides an enriched learning environment, provides educational toys\n",
      "2. Offers an adequate number of toys\n",
      "3. Creates a positive welcoming friendly atmosphere\n",
      "4. Staff is knowledgeable and answer questions willingly\n",
      "5. Staff is patient and empathetic\n",
      "6. Been helpful to my family\n",
      "7. Given me more confidence as a parent\n",
      "8. Helped me to become a better parent\n",
      "9. Provided me with positive parenting strategies\n",
      "10. Supported me in my role as a parent/caregiver\n",
      "11. Created a support system with other members of the We PLAY Center\n"
     ]
    },
    {
     "data": {
      "image/png": "[encoded data removed]",
      "text/plain": [
       "<Figure size 1440x1080 with 11 Axes>"
      ]
     },
     "metadata": {},
     "output_type": "display_data"
    }
   ],
   "source": [
    "#create df with parent's other opinions on WePlay\n",
    "other_WP_opinions = allIncoming[['\"The We PLAY Center...\"',\"Unnamed: 86\",\"Unnamed: 87\",\"Unnamed: 88\",\"Unnamed: 89\",'\"The We PLAY Center has...\"',\"Unnamed: 91\",\"Unnamed: 92\",\"Unnamed: 93\",\"Unnamed: 94\",\"Unnamed: 95\"]]\n",
    "#Rename columns\n",
    "other_WP_opinions.columns = [[\"Provides an enriched learning environment, provides educational toys\",\"Offers an adequate number of toys\",\"Creates a positive welcoming friendly atmosphere\", \"Staff is knowledgeable and answer questions willingly\",\"Staff is patient and empathetic\",\"Been helpful to my family\",\"Given me more confidence as a parent\",\"Helped me to become a better parent\",\"Provided me with positive parenting strategies\",\"Supported me in my role as a parent/caregiver\",\"Created a support system with other members of the We PLAY Center\"]]\n",
    "#drop unnesscary row with response parameters\n",
    "\n",
    "plotPies(other_WP_opinions, [\"Strongly agree\", \"Neutral\", \"No opinion\"], True, False)\n",
    "\n",
    "## messy labeling here"
   ]
  },
  {
   "cell_type": "markdown",
   "id": "71e569d4",
   "metadata": {},
   "source": [
    "Open response - what will keep people coming back?"
   ]
  },
  {
   "cell_type": "code",
   "execution_count": null,
   "id": "ea2f93c2",
   "metadata": {},
   "outputs": [],
   "source": [
    "#create df with open response detailing what parents say will keep them coming back\n",
    "keep_coming_back = allIncoming[[\"What will keep you coming back to the We PLAY Center?\"]]\n",
    "#keep_coming_back\n"
   ]
  },
  {
   "cell_type": "code",
   "execution_count": null,
   "id": "0c42dcd5",
   "metadata": {},
   "outputs": [],
   "source": []
  },
  {
   "cell_type": "markdown",
   "id": "4c24b75f",
   "metadata": {},
   "source": [
    "# Family Survey Data"
   ]
  },
  {
   "cell_type": "markdown",
   "id": "f0188f6c",
   "metadata": {},
   "source": [
    "##### Responses about the familes attending WePLAY\n",
    "NOTE: this section must be read in order to avoid dropping bar graph columns\n",
    "\n",
    "* FamilySurvey.xlsx data was collected between Jan-Aug 2019"
   ]
  },
  {
   "cell_type": "code",
   "execution_count": null,
   "id": "3a598425",
   "metadata": {},
   "outputs": [],
   "source": [
    "familySurveyDf = pd.read_excel(path + \"FamilySurvey\" + \".xlsx\")\n",
    "\n",
    "print(\"Notes: -- Adults means over 19  -- Children means under 18 -- Resp = Respondant\\n\")\n",
    "adult_FDa = familySurveyDf.iloc[1:, :5]\n",
    "adult_FDa.columns = [[\"Resp_Gender\", \"Resp_Age\", \"Resp_Race\", \"Children\", \"AdultsAtHome\"]]\n",
    "adult_FDb = familySurveyDf.iloc[1:, 5:10]\n",
    "adult_FDb.columns = [[\"Zip\", \"OMIT\", \"Avg_Income\", \"highest_edu\", \"visits_Monthly\"]]\n",
    "adult_FDb.drop(columns=[\"OMIT\"], inplace=True)#,level=level)\n"
   ]
  },
  {
   "cell_type": "markdown",
   "id": "49721bf1",
   "metadata": {},
   "source": [
    "Zipcodes"
   ]
  },
  {
   "cell_type": "code",
   "execution_count": null,
   "id": "87bb803c",
   "metadata": {},
   "outputs": [],
   "source": [
    "printCatBars(adult_FDb, \"Zip\", adult_FDb.Zip, False)"
   ]
  },
  {
   "cell_type": "markdown",
   "id": "98e9c008",
   "metadata": {},
   "source": [
    "#### There is a wide distribution of ages of parents bringing their children to We Play but it is centered around the mid thirties\n"
   ]
  },
  {
   "cell_type": "code",
   "execution_count": null,
   "id": "de903e44",
   "metadata": {},
   "outputs": [],
   "source": [
    "printCatBars(adult_FDa, \"Resp_Age\", adult_FDa.Resp_Age)"
   ]
  },
  {
   "cell_type": "markdown",
   "id": "02063379",
   "metadata": {},
   "source": [
    "#### Most households attending WePlay have two adults in them"
   ]
  },
  {
   "cell_type": "code",
   "execution_count": null,
   "id": "0f20c2e0",
   "metadata": {},
   "outputs": [],
   "source": [
    "printCatBars(adult_FDa, \"AdultsAtHome\", adult_FDa.AdultsAtHome)"
   ]
  },
  {
   "cell_type": "code",
   "execution_count": null,
   "id": "2308cdaa",
   "metadata": {},
   "outputs": [],
   "source": [
    "# drop columns to plot bars\n",
    "adult_FDa.drop(columns=[\"Resp_Age\", \"AdultsAtHome\"], inplace=True)\n",
    "labels=getLabels(adult_FDa)\n",
    "plotPies(adult_FDa, labels, False, False, True)\n",
    "\n",
    "adult_FDb.drop(columns=[\"Zip\"], inplace=True) # drop columns to plot bars\n",
    "labels=getLabels(adult_FDb)\n",
    "plotPies(adult_FDb, labels, False, False, True)"
   ]
  },
  {
   "cell_type": "markdown",
   "id": "65948afb",
   "metadata": {},
   "source": [
    "Looking more closely at income, we see that most attendees make ??\n",
    "\n",
    "** Need to re order these!! **"
   ]
  },
  {
   "cell_type": "code",
   "execution_count": 74,
   "id": "44b2871a",
   "metadata": {},
   "outputs": [
    {
     "ename": "NameError",
     "evalue": "name 'adult_FDb' is not defined",
     "output_type": "error",
     "traceback": [
      "\u001b[0;31m---------------------------------------------------------------------------\u001b[0m",
      "\u001b[0;31mNameError\u001b[0m                                 Traceback (most recent call last)",
      "\u001b[0;32m/tmp/ipykernel_32/72571421.py\u001b[0m in \u001b[0;36m<module>\u001b[0;34m\u001b[0m\n\u001b[0;32m----> 1\u001b[0;31m \u001b[0mprintCatBars\u001b[0m\u001b[0;34m(\u001b[0m\u001b[0madult_FDb\u001b[0m\u001b[0;34m,\u001b[0m \u001b[0;34m\"Avg_Income\"\u001b[0m\u001b[0;34m,\u001b[0m \u001b[0madult_FDb\u001b[0m\u001b[0;34m.\u001b[0m\u001b[0mAvg_Income\u001b[0m\u001b[0;34m,\u001b[0m \u001b[0;32mFalse\u001b[0m\u001b[0;34m)\u001b[0m\u001b[0;34m\u001b[0m\u001b[0;34m\u001b[0m\u001b[0m\n\u001b[0m",
      "\u001b[0;31mNameError\u001b[0m: name 'adult_FDb' is not defined"
     ]
    }
   ],
   "source": [
    "printCatBars(adult_FDb, \"Avg_Income\", adult_FDb.Avg_Income, False)"
   ]
  },
  {
   "cell_type": "markdown",
   "id": "4cb2575e",
   "metadata": {},
   "source": [
    "## new section ??"
   ]
  },
  {
   "cell_type": "markdown",
   "id": "3f042afb",
   "metadata": {},
   "source": [
    "#### Info about how parents found the we play center, showing the succesful usage of multiple channels for attracting familes\n",
    "Word of mouth is WePlay's best advertisement, by far!"
   ]
  },
  {
   "cell_type": "code",
   "execution_count": null,
   "id": "396b84fd",
   "metadata": {},
   "outputs": [],
   "source": [
    "how_found_WPC = familySurveyDf.iloc[1:, 10:17]\n",
    "how_found_WPC.columns = [\"Sign/Poster/flyer\", \"Friend\", \"Website\", \"Social Media\", \"Other org\", \"Laf-Fau Housing Office\", \"Other\"]\n",
    "plotPies(how_found_WPC, [\"Yes\", \"No\"], True, True)\n"
   ]
  },
  {
   "cell_type": "markdown",
   "id": "d0cbbc0b",
   "metadata": {},
   "source": [
    "#### Demographics of children that are brought to the weplay center"
   ]
  },
  {
   "cell_type": "code",
   "execution_count": null,
   "id": "01bade64",
   "metadata": {},
   "outputs": [],
   "source": [
    "child_FD = familySurveyDf.iloc[1:, 17:24] # combined 18/19 into 17 manually\n",
    "child_FD.columns = [\"Gender\", \"Age\", \"age2\", \"age3\", \"parent\", \"age4\", \"misc\"]\n",
    "child_FD.drop(columns=[\"age2\", \"age3\", \"age4\", \"misc\", \"parent\"], inplace=True)\n",
    "child_FD[\"Gender\"][~(child_FD.Gender == 'Male' ) & ~(child_FD.Gender == 'Female')] = np.nan\n",
    "\n",
    "labels=getLabels(child_FD)\n",
    "plotPies(child_FD, labels, False, False)\n"
   ]
  },
  {
   "cell_type": "markdown",
   "id": "c70c3b5b",
   "metadata": {},
   "source": [
    "### Parenting Skills"
   ]
  },
  {
   "cell_type": "markdown",
   "id": "5e613b8b",
   "metadata": {},
   "source": [
    "#### \"Please share the number of days in a typical week that you engage in the following activities\""
   ]
  },
  {
   "cell_type": "code",
   "execution_count": null,
   "id": "b48fc9de",
   "metadata": {},
   "outputs": [],
   "source": [
    "daysActivitys_FD = familySurveyDf.iloc[1:, 24:27]\n",
    "daysActivitys_FD.columns = [\"Read Stories\", \"Play Music or Sing\", \n",
    "                     \"Engage in language building activities\"]\n",
    "labels = ['Never', 'Every day', '1-2 days', '3-6 days']\n",
    "\n",
    "plotPies(daysActivitys_FD, labels, True, False)"
   ]
  },
  {
   "cell_type": "code",
   "execution_count": null,
   "id": "d0437abf",
   "metadata": {},
   "outputs": [],
   "source": [
    "daysActivitys_FD = familySurveyDf.iloc[1:, 27:29]\n",
    "daysActivitys_FD.columns = ['Engage in play', 'Create opportunities for your child to \"practice\" self control']\n",
    "plotPies(daysActivitys_FD, getLabels(daysActivitys_FD), False, False)\n"
   ]
  },
  {
   "cell_type": "markdown",
   "id": "c249c81b",
   "metadata": {},
   "source": [
    "#### Please state how strongly you agree with the following statements"
   ]
  },
  {
   "cell_type": "code",
   "execution_count": null,
   "id": "201c1636",
   "metadata": {},
   "outputs": [],
   "source": [
    "parenting_FD = familySurveyDf.iloc[1:, 29:34]\n",
    "parenting_FD.columns = ['I respond quickly to my child\\'s cries', 'I am able to comfort my child when he/she is upset',\n",
    " 'I know the meaning of my child\\'s signals (cry, turning away, rubbing eyes)',\n",
    " 'I step back and encourage my child to work through problems',\n",
    " 'I am able to follow my child\\'s lead during playtime']\n",
    "cols = parenting_FD.columns\n",
    "labels = ['Mostly agree', 'Somewhat agree', 'neither agree nor disagree',\n",
    "       'Strongly agree', 'Mostly disagree', 'Strongly disagree','Somewhat disagree']\n",
    "plotPies(parenting_FD, labels, True, False)\n"
   ]
  },
  {
   "cell_type": "markdown",
   "id": "268a1975",
   "metadata": {},
   "source": [
    "#### Parents vary in how they discipline. Below are some strategies parents used to discipline their children during the last 7 days:"
   ]
  },
  {
   "cell_type": "code",
   "execution_count": null,
   "id": "45cb66a5",
   "metadata": {},
   "outputs": [],
   "source": [
    "discipline_FD = familySurveyDf.iloc[0:, 34:42]\n",
    "discipline_FD.columns = ['Raising your voice or yelling', 'Spanked/Slapped', 'Took away a toy or treats', 'Positive Reinforcement', 'Offered choices', 'Time-out', 'Explained why his/her behavior is not appropriate', 'Recognized and regulated your feelings']\n",
    "labels = [\"Never\", \"Always\", \"Very Often\", \"Sometimes\", \"Rarely\"]\n",
    "plotPies(discipline_FD,  labels, True, False)"
   ]
  },
  {
   "cell_type": "markdown",
   "id": "41f08045",
   "metadata": {},
   "source": [
    "#### The We PLAY Center strives to create a welcoming environment with toys and caring, knowledgable staff. How well do parents think We Play meets these goals?"
   ]
  },
  {
   "cell_type": "code",
   "execution_count": null,
   "id": "0fee85d9",
   "metadata": {},
   "outputs": [],
   "source": [
    "environmentstatements_FD = familySurveyDf.iloc[1:, 42:48]\n",
    "labels = ['Strongly agree','Strongly disagree', 'Mostly agree',\n",
    "       'Neither disagree nor agree', 'Somewhat agree',\n",
    "       'Somewhat disagree']\n",
    "environmentstatements_FD.columns = familySurveyDf.iloc[0, 42:48]\n",
    "plotPies(environmentstatements_FD, labels, True, False)"
   ]
  },
  {
   "cell_type": "markdown",
   "id": "e4103956",
   "metadata": {},
   "source": [
    "#### We Play strives to help parents and children grow. The questions below help to illustrate how well We Play is fulfilling those goals:"
   ]
  },
  {
   "cell_type": "code",
   "execution_count": null,
   "id": "51203e24",
   "metadata": {},
   "outputs": [],
   "source": [
    "attendance_feedback = familySurveyDf.iloc[1:, 48:53]\n",
    "labels = ['Strongly agree','Strongly disagree', 'Mostly agree',\n",
    "       'Neither disagree nor agree', 'Somewhat agree',\n",
    "       'Somewhat disagree']\n",
    "attendance_feedback.columns = familySurveyDf.iloc[0, 48:53]\n",
    "\n",
    "plotPies(attendance_feedback, labels, True, False)"
   ]
  },
  {
   "cell_type": "markdown",
   "id": "fac6a504",
   "metadata": {},
   "source": [
    "#### Below are written responses from families on what will keep them returning to the We Play Center. A commonality between many of the responses is the love for the staff at the WePlay Center."
   ]
  },
  {
   "cell_type": "code",
   "execution_count": null,
   "id": "3970edd1",
   "metadata": {},
   "outputs": [],
   "source": [
    "weplay_review = familySurveyDf.iloc[1:, 56:58]\n",
    "labels = getLabels(weplay_review)\n",
    "print(\"What will keep you coming back to the We PLAY Center?:\\n\")\n",
    "print(labels[0][1:])"
   ]
  },
  {
   "cell_type": "code",
   "execution_count": null,
   "id": "7932287a",
   "metadata": {},
   "outputs": [],
   "source": [
    "print(\"What aspect of the We PLAY Center do you find most helpful?:\\n\")\n",
    "print(labels[1][1:])"
   ]
  },
  {
   "cell_type": "markdown",
   "id": "e94de147",
   "metadata": {},
   "source": [
    "## OLD from incoming surveys"
   ]
  },
  {
   "cell_type": "markdown",
   "id": "74368ac3",
   "metadata": {},
   "source": [
    "moved up ^"
   ]
  },
  {
   "cell_type": "code",
   "execution_count": null,
   "id": "ea3e0907",
   "metadata": {},
   "outputs": [],
   "source": []
  },
  {
   "cell_type": "markdown",
   "id": "79d99861",
   "metadata": {},
   "source": [
    "### DF with incoming parent survey data for July 2019\n",
    "** THIS IS A BUNCH AND WE CAN PROB GET MORE FROM THIS? **\n",
    "\n",
    "these can go into plot section using keys and columns as labels"
   ]
  },
  {
   "cell_type": "markdown",
   "id": "2ec10c50",
   "metadata": {},
   "source": [
    "**Data about parents interact with their children before and after WP.**"
   ]
  },
  {
   "cell_type": "code",
   "execution_count": null,
   "id": "dae59989",
   "metadata": {},
   "outputs": [],
   "source": [
    "'''#create df with directly comparable info about how parents interact with their children before and after WePlay\n",
    "parent_child_behaviors_july2019 = incomingjuly2019[[\"Please think about each statement and how you currently feel\",\"Unnamed: 52\",\"Unnamed: 53\",\"Unnamed: 54\",\"Unnamed: 55\",\"Unnamed: 56\",'\"Since coming to the We PLAY Center I…\"',\"Unnamed: 96\",\"Unnamed: 97\",\"Unnamed: 98\",\"Unnamed: 99\",\"Unnamed: 100\"]]\n",
    "#Rename columns\n",
    "parent_child_behaviors_july2019.columns = [[\"Read to my child (Before WP)\",\"Play with my child (Before WP)\",\"Talk to my child (Before WP)\", \"Listen to my child (Before WP)\",\"Set limits with my child (Before WP)\",\"Yell at my child (Before WP)\",\"Read to my child (Since WP)\",\"Play with my child (Since WP)\",\"Talk to my child (Since WP)\",\"Listen to my child (Since WP)\",\"Set limits with my child (Since WP)\",\"Yell at my child (Since WP)\"]]\n",
    "#drop unnesscary row with response parameters\n",
    "parent_child_behaviors_july2019.drop([0], axis=0, inplace = True)\n",
    "#parent_child_behaviors_july2019'''"
   ]
  },
  {
   "cell_type": "markdown",
   "id": "cecb28c1",
   "metadata": {},
   "source": [
    "**Data about how parents feel they've grown since WP.**"
   ]
  },
  {
   "cell_type": "code",
   "execution_count": null,
   "id": "67195033",
   "metadata": {},
   "outputs": [],
   "source": [
    "'''#create df with info about how parents feel they've grown since We Play\n",
    "since_WP_Parents_july2019 = incomingjuly2019[[\"After coming to the center, which of the following aspects have changed for you as a parent? Please choose one option for each statement.\",\"Unnamed: 71\",\"Unnamed: 72\",\"Unnamed: 73\",\"Unnamed: 74\",\"Unnamed: 75\",\"Unnamed: 76\",'\"Since coming to We PLAY Center…\"',\"Unnamed: 90\",\"Unnamed: 91\",\"Unnamed: 92\",\"Unnamed: 93\",\"Unnamed: 94\"]]\n",
    "#Rename columns\n",
    "since_WP_Parents_july2019.columns = [[\"My stress level as a parent...\",\"My knowledge about parenting support and resources in the community...\",\"My knowledge about my child’s development...\",\"My knowledge about how to foster my child’s development...\",\"My knowledge about nurturing and responsive parenting strategies...\",\"My knowledge about nutrition and breastfeeding...\",\"My confidence in my role as a parent...\",\"I engage with my child by repeating his/her words or sounds...\",\"I engage with my child in pretend play...\",\"I stand back and let my child work through problems...\",\"I engage in bonding activities with my child...\",\"I am better able to help my child uses age appropriate social skills...\",\"I am better able to support my child as he/she learns new skills...\"]]\n",
    "#drop unnesscary row with response parameters\n",
    "since_WP_Parents_july2019.drop([0], axis=0, inplace = True)\n",
    "#since_WP_Parents_july2019'''"
   ]
  },
  {
   "cell_type": "markdown",
   "id": "5934e756",
   "metadata": {},
   "source": [
    "**Data about how parents feel their children have grown since WP.**"
   ]
  },
  {
   "cell_type": "code",
   "execution_count": null,
   "id": "53e6b918",
   "metadata": {},
   "outputs": [],
   "source": [
    "'''#create df with info about how parents feel their children have grown since We Play\n",
    "since_WP_child_july2019 = incomingjuly2019[[\"Since attending the We PLAY Center, which of the following aspects of your child's development have changed? Please choose one option for each statement.\",\"Unnamed: 58\",\"Unnamed: 59\",\"Unnamed: 60\"]]\n",
    "#Rename columns\n",
    "since_WP_child_july2019.columns = [[\"My child's early learning and cognitive skills...\",\"My child's early language abilities...\",\"My child's early social emotional skills...\", \"My child's school readiness...\"]]\n",
    "#drop unnesscary row with response parameters\n",
    "since_WP_child_july2019.drop([0], axis=0, inplace = True)\n",
    "#since_WP_child_july2019'''"
   ]
  },
  {
   "cell_type": "markdown",
   "id": "b3b857e6",
   "metadata": {},
   "source": [
    "**Data about the parent's misc opinions on WP.**"
   ]
  },
  {
   "cell_type": "code",
   "execution_count": null,
   "id": "52429423",
   "metadata": {},
   "outputs": [],
   "source": [
    "#create df with parent's other opinions on WePlay\n",
    "other_WP_opinions_july2019 = incomingjuly2019[['\"The We PLAY Center...\"',\"Unnamed: 79\",\"Unnamed: 80\",\"Unnamed: 81\",\"Unnamed: 82\",'\"The We PLAY Center has...\"',\"Unnamed: 84\",\"Unnamed: 85\",\"Unnamed: 86\",\"Unnamed: 87\",\"Unnamed: 88\"]]\n",
    "#Rename columns\n",
    "other_WP_opinions_july2019.columns = [[\"Provides an enriched learning environment, provides educational toys\",\"Offers an adequate number of toys\",\"Creates a positive welcoming friendly atmosphere\", \"Staff is knowledgeable and answer questions willingly\",\"Staff is patient and empathetic\",\"Been helpful to my family\",\"Given me more confidence as a parent\",\"Helped me to become a better parent\",\"Provided me with positive parenting strategies\",\"Supported me in my role as a parent/caregiver\",\"Created a support system with other members of the We PLAY Center\"]]\n",
    "#drop unnesscary row with response parameters\n",
    "other_WP_opinions_july2019.drop([0], axis=0, inplace = True)\n",
    "#other_WP_opinions_july2019"
   ]
  },
  {
   "cell_type": "markdown",
   "id": "753da7dc",
   "metadata": {},
   "source": [
    "**Data about what kind of information parents want more of from WP.**"
   ]
  },
  {
   "cell_type": "code",
   "execution_count": 59,
   "id": "5f76021d",
   "metadata": {},
   "outputs": [
    {
     "name": "stdout",
     "output_type": "stream",
     "text": [
      "\"Which of the following aspects would you like the We Play Center to address more often?\n",
      "\n"
     ]
    }
   ],
   "source": [
    "#create df with survey info about what kind of info parents want more of\n",
    "desired_info_july2019 = incomingjuly2019[[\"Which of the following aspects would you like the We Play Center to address more often? Please select all that apply and use the space to write in any additional comments.\",\"Unnamed: 109\",\"Unnamed: 110\",\"Unnamed: 111\",\"Unnamed: 112\",\"Unnamed: 113\",\"Unnamed: 114\",\"Unnamed: 115\",\"Unnamed: 116\",\"Unnamed: 117\"]]\n",
    "#Rename columns\n",
    "desired_info_july2019.columns = [[\"Stress Relief\",\"Information about community resources\",\"Information about how to foster my child’s development\", \"Information about nurturing and responsive parenting strategies\",\"Information about mouthing (biting, putting objects in their mouth)\",\"Information about conflict resolution\",\"Information about sharing\",\"Information about nursing/ feeding\",\"Information about temper tantrums\",\"Information about sleeping\"]]\n",
    "desired_info_july2019 = ~desired_info_july2019.isna()\n",
    "\n",
    "print('\"Which of the following aspects would you like the We Play Center to address more often?\\n')\n",
    "#plotPies(desired_info_july2019, [\"True\", \"False\"], True, False)"
   ]
  },
  {
   "cell_type": "markdown",
   "id": "1519b0be",
   "metadata": {},
   "source": [
    "**Open response, what will keep people coming back to WP.**"
   ]
  },
  {
   "cell_type": "code",
   "execution_count": null,
   "id": "fb5bb50c",
   "metadata": {},
   "outputs": [],
   "source": [
    "#create df with open response detailing what parents say will keep them coming back\n",
    "keep_coming_back_july2019 = incomingjuly2019[[\"What will keep you coming back to the We PLAY Center?\"]]\n",
    "#drop unnesscary row with response parameters\n",
    "#keep_coming_back_july2019.drop([0], axis=0, inplace = True)\n",
    "#keep_coming_back_july2019"
   ]
  },
  {
   "cell_type": "markdown",
   "id": "84d2af05",
   "metadata": {},
   "source": [
    "### DF with incoming parent survey data from Nov 2019"
   ]
  },
  {
   "cell_type": "markdown",
   "id": "7172f740",
   "metadata": {},
   "source": [
    "**Data about the childrens age and gender.**"
   ]
  },
  {
   "cell_type": "code",
   "execution_count": null,
   "id": "438c158d",
   "metadata": {},
   "outputs": [],
   "source": [
    "child_nov2019 = incomingnov2019.iloc[1:, 17:33]\n",
    "child_nov2019.drop([\"Unnamed: 20\",\"How old is the 1st child?.1\",\"What is the 1st child's gender?\",\"What is your relationship to the 1st child?\",\"Unnamed: 24\",\"How old is the 1st child?\",\"What is the 1st child's gender?\",\"What is your relationship to the 1st child?.1\"], axis=1, inplace = True)\n",
    "child_nov2019.columns = [[\"1st child age\",\"1st child's gender\",\"1st resp relationship to child\",\"2nd child age\",\" 2nd child's gender\",\"resp relationship to 2nd child\",\"3rd child age\",\" 3rd child's gender\",\"resp relationship to 3rd child\"]]                   \n",
    "#child_nov2019\n",
    "\n",
    "## this just tells gender and age of children + age of child 2, age child three\n",
    "# then relationship , relationship 2, other"
   ]
  },
  {
   "cell_type": "markdown",
   "id": "03f50909",
   "metadata": {},
   "source": [
    "updated for all **Data about parents interact with their children before and after WP.**"
   ]
  },
  {
   "cell_type": "code",
   "execution_count": 80,
   "id": "f2e9983a",
   "metadata": {},
   "outputs": [
    {
     "data": {
      "text/plain": [
       "'#create df with directly comparable info about how parents interact with their children before and after WePlay\\nparent_child_behaviors = allIncoming[[\"Please think about each statement and how you currently feel\",\"Unnamed: 59\",\"Unnamed: 60\",\"Unnamed: 61\",\"Unnamed: 62\",\"Unnamed: 63\",\\'\"Since coming to the We PLAY Center I…\"\\',\"Unnamed: 97\",\"Unnamed: 98\",\"Unnamed: 99\",\"Unnamed: 100\",\"Unnamed: 101\"]]\\n#Rename columns\\nparent_child_behaviors.columns = [[\"Read to my child (Before WP)\",\"Play with my child (Before WP)\",\"Talk to my child (Before WP)\", \"Listen to my child (Before WP)\",\"Set limits with my child (Before WP)\",\"Yell at my child (Before WP)\",\"Read to my child (Since WP)\",\"Play with my child (Since WP)\",\"Talk to my child (Since WP)\",\"Listen to my child (Since WP)\",\"Set limits with my child (Since WP)\",\"Yell at my child (Since WP)\"]]\\n\\nplotPies(parent_child_behaviors, getLabels(parent_child_behaviors), False, False, ishoriz=False)'"
      ]
     },
     "execution_count": 80,
     "metadata": {},
     "output_type": "execute_result"
    }
   ],
   "source": [
    "'''#create df with directly comparable info about how parents interact with their children before and after WePlay\n",
    "parent_child_behaviors = allIncoming[[\"Please think about each statement and how you currently feel\",\"Unnamed: 59\",\"Unnamed: 60\",\"Unnamed: 61\",\"Unnamed: 62\",\"Unnamed: 63\",'\"Since coming to the We PLAY Center I…\"',\"Unnamed: 97\",\"Unnamed: 98\",\"Unnamed: 99\",\"Unnamed: 100\",\"Unnamed: 101\"]]\n",
    "#Rename columns\n",
    "parent_child_behaviors.columns = [[\"Read to my child (Before WP)\",\"Play with my child (Before WP)\",\"Talk to my child (Before WP)\", \"Listen to my child (Before WP)\",\"Set limits with my child (Before WP)\",\"Yell at my child (Before WP)\",\"Read to my child (Since WP)\",\"Play with my child (Since WP)\",\"Talk to my child (Since WP)\",\"Listen to my child (Since WP)\",\"Set limits with my child (Since WP)\",\"Yell at my child (Since WP)\"]]\n",
    "\n",
    "plotPies(parent_child_behaviors, getLabels(parent_child_behaviors), False, False, ishoriz=False)'''"
   ]
  },
  {
   "cell_type": "markdown",
   "id": "309431ad",
   "metadata": {},
   "source": [
    "**Data about how parents feel they've grown since WP.**"
   ]
  },
  {
   "cell_type": "code",
   "execution_count": null,
   "id": "59a1cbb0",
   "metadata": {},
   "outputs": [],
   "source": [
    "#create df with info about how parents feel they've grown since We Play\n",
    "since_WP_Parents_nov2019a = incomingnov2019[[\"After coming to the center, which of the following aspects have changed for you as a parent? Please choose one option for each statement.\",\"Unnamed: 78\",\"Unnamed: 79\",\"Unnamed: 80\",\"Unnamed: 81\",\"Unnamed: 82\",\"Unnamed: 83\"]]\n",
    "since_WP_Parents_nov2019b = incomingnov2019[['\"Since coming to We PLAY Center…\"',\"Unnamed: 97\",\"Unnamed: 98\",\"Unnamed: 99\",\"Unnamed: 100\",\"Unnamed: 101\"]]\n",
    "# Rename columns\n",
    "since_WP_Parents_nov2019a.columns = [[\"My stress level as a parent...\",\"My knowledge about parenting support and resources in the community...\",\"My knowledge about my child’s development...\",\"My knowledge about how to foster my child’s development...\",\"My knowledge about nurturing and responsive parenting strategies...\",\"My knowledge about nutrition and breastfeeding...\",\"My confidence in my role as a parent...\"]]\n",
    "since_WP_Parents_nov2019b.columns =[[\"I engage with my child by repeating his/her words or sounds...\",\"I engage with my child in pretend play...\",\"I stand back and let my child work through problems...\",\"I engage in bonding activities with my child...\",\"I am better able to help my child uses age appropriate social skills...\",\"I am better able to support my child as he/she learns new skills...\"]]\n",
    "# plot seperately so labeling is nic\n",
    "\n",
    "plotPies(since_WP_Parents_nov2019a, [\"Increased significantly\", \"Somewhat decreased\"], True, True)\n",
    "plotPies(since_WP_Parents_nov2019b, [\"More often\", \"The same\"], True, True)\n",
    "\n"
   ]
  },
  {
   "cell_type": "markdown",
   "id": "fcb284b3",
   "metadata": {},
   "source": [
    "**Data about how parents feel their children have grown since WP.**"
   ]
  },
  {
   "cell_type": "code",
   "execution_count": null,
   "id": "c7c34629",
   "metadata": {},
   "outputs": [],
   "source": [
    "#create df with info about how parents feel their children have grown since We Play\n",
    "since_WP_child_nov2019 = incomingnov2019[[\"Since attending the We PLAY Center, which of the following aspects of your child's development have changed? Please choose one option for each statement.\",\"Unnamed: 74\",\"Unnamed: 75\",\"Unnamed: 76\"]]\n",
    "#Rename columns\n",
    "since_WP_child_nov2019.columns = [[\"My child's early learning and cognitive skills...\",\"My child's early language abilities...\",\"My child's early social emotional skills...\", \"My child's school readiness...\"]]\n",
    "#drop unnesscary row with response parameters\n",
    "#since_WP_child_nov2019.drop([0], axis=0, inplace = True)\n",
    "#since_WP_child_nov2019"
   ]
  },
  {
   "cell_type": "markdown",
   "id": "f294efff",
   "metadata": {},
   "source": [
    "updated for all -- **Data about the parent's misc opinions on WP.**"
   ]
  },
  {
   "cell_type": "code",
   "execution_count": 78,
   "id": "d9d8913a",
   "metadata": {},
   "outputs": [],
   "source": [
    "#create df with parent's other opinions on WePlay\n",
    "other_WP_opinions = allIncoming[['\"The We PLAY Center...\"',\"Unnamed: 86\",\"Unnamed: 87\",\"Unnamed: 88\",\"Unnamed: 89\",'\"The We PLAY Center has...\"',\"Unnamed: 91\",\"Unnamed: 92\",\"Unnamed: 93\",\"Unnamed: 94\",\"Unnamed: 95\"]]\n",
    "#Rename columns\n",
    "other_WP_opinions.columns = [[\"Provides an enriched learning environment, provides educational toys\",\"Offers an adequate number of toys\",\"Creates a positive welcoming friendly atmosphere\", \"Staff is knowledgeable and answer questions willingly\",\"Staff is patient and empathetic\",\"Been helpful to my family\",\"Given me more confidence as a parent\",\"Helped me to become a better parent\",\"Provided me with positive parenting strategies\",\"Supported me in my role as a parent/caregiver\",\"Created a support system with other members of the We PLAY Center\"]]\n",
    "#drop unnesscary row with response parameters\n",
    "\n",
    "#plotPies(other_WP_opinions, [\"Strongly agree\", \"Neutral\", \"No opinion\"], True, False)\n",
    "    "
   ]
  },
  {
   "cell_type": "markdown",
   "id": "f431cdea",
   "metadata": {},
   "source": [
    "UPDATED for all: **Data about what kind of information parents want more of from WP.**"
   ]
  },
  {
   "cell_type": "code",
   "execution_count": 76,
   "id": "8d89af90",
   "metadata": {},
   "outputs": [],
   "source": [
    "#desired_info_nov2019\n",
    "#~desired_info_nov2019.isna()\n",
    "\n",
    "#create df with survey info about what kind of info parents want more of\n",
    "desired_info = allIncoming[[\"Which of the following aspects would you like the We Play Center to address more often? Please select all that apply and use the space to write in any additional comments.\",\"Unnamed: 116\",\"Unnamed: 117\",\"Unnamed: 118\",\"Unnamed: 119\",\"Unnamed: 120\",\"Unnamed: 121\",\"Unnamed: 122\",\"Unnamed: 123\",\"Unnamed: 124\"]]\n",
    "#Rename columns\n",
    "desired_info.columns = [[\"Stress Relief\",\"Information about community resources\",\"Information about how to foster my child’s development\", \"Information about nurturing and responsive parenting strategies\",\"Information about mouthing (biting, putting objects in their mouth)\",\"Information about conflict resolution\",\"Information about sharing\",\"Information about nursing/ feeding\",\"Information about temper tantrums\",\"Information about sleeping\"]]\n",
    "\n",
    "\n",
    "# plotPies(desired_info, [\"Strongly agree\", \"Neutral\", \"No opinion\"], True, False)\n",
    "    "
   ]
  },
  {
   "cell_type": "markdown",
   "id": "4409b9bf",
   "metadata": {},
   "source": [
    "updated for all --**Open response, what will keep people coming back to WP.**"
   ]
  },
  {
   "cell_type": "code",
   "execution_count": 79,
   "id": "60e81126",
   "metadata": {},
   "outputs": [],
   "source": [
    "#create df with open response detailing what parents say will keep them coming back\n",
    "keep_coming_back = allIncoming[[\"What will keep you coming back to the We PLAY Center?\"]]\n",
    "\n",
    "#keep_coming_back"
   ]
  },
  {
   "cell_type": "markdown",
   "id": "7f8c28dd",
   "metadata": {},
   "source": [
    "### DF with incoming parent survey data from 2020"
   ]
  },
  {
   "cell_type": "code",
   "execution_count": null,
   "id": "95f483e0",
   "metadata": {},
   "outputs": [],
   "source": [
    "\n",
    "'''deleted ones i put above'''"
   ]
  },
  {
   "cell_type": "markdown",
   "id": "054683da",
   "metadata": {},
   "source": [
    "**Data about how parents found WPC.**"
   ]
  },
  {
   "cell_type": "code",
   "execution_count": null,
   "id": "570bfb1f",
   "metadata": {},
   "outputs": [],
   "source": [
    "## DF with info on how they found WPC\n",
    "how_found_WPC_2020 = incoming2020[[\"How did you find out about the We PLAY Center?\"]]\n",
    "#how_found_WPC_2020"
   ]
  },
  {
   "cell_type": "markdown",
   "id": "792c2b2b",
   "metadata": {},
   "source": [
    "**Data about the childrens age and gender.**"
   ]
  },
  {
   "cell_type": "code",
   "execution_count": null,
   "id": "90500e59",
   "metadata": {},
   "outputs": [],
   "source": [
    "child_2020 = incoming2020[[\"How old is the 1st child?\",\"What is the 1st child's gender?\",\"What is your relationship to the 1st child?\",\"How old is the 2nd child?\",\"What is the 2nd child's gender?\",\"What is your relationship to the 2nd child?\"]]\n",
    "child_2020.columns = [[\"1st child age\",\"1st child's gender\",\"resp relationship to 1st child\",\"2nd child age\",\" 2nd child's gender\",\"resp relationship to 2nd child\"]]                   \n",
    "#child_2020\n",
    "\n",
    "## this just tells gender and age of children + age of child 2, age child three\n",
    "# then relationship , relationship 2, other"
   ]
  },
  {
   "cell_type": "markdown",
   "id": "13a0759b",
   "metadata": {},
   "source": [
    "**Data about parents interact with their children.**"
   ]
  },
  {
   "cell_type": "code",
   "execution_count": null,
   "id": "7063044c",
   "metadata": {},
   "outputs": [],
   "source": [
    "#create df with info about how parents interact with their children currently, Unfortunate they did not maintain the before and after WP\n",
    "parent_child_behaviors_2020 = incoming2020[[\"Please think about each statement and how you currently feel\",\"Unnamed: 36\",\"Unnamed: 37\",\"Unnamed: 38\",\"Unnamed: 39\",\"Unnamed: 40\"]]\n",
    "#Rename columns\n",
    "parent_child_behaviors_2020.columns = [[\"Read to my child (Currently)\",\"Play with my child (Currently)\",\"Talk to my child (Currently)\", \"Listen to my child (Currently)\",\"Set limits with my child (Currently)\",\"Yell at my child (Currently)\"]]\n",
    "\n",
    "#parent_child_behaviors_2020"
   ]
  },
  {
   "cell_type": "markdown",
   "id": "fcff76a9",
   "metadata": {},
   "source": [
    "**Data about how parents currently feel about their parenting skills and a few misc opinions**"
   ]
  },
  {
   "cell_type": "code",
   "execution_count": null,
   "id": "68c20bd9",
   "metadata": {},
   "outputs": [],
   "source": [
    "#create df with info about how parents feel they've grown since We Play\n",
    "currently_Parents_feel_2020 = incoming2020[[\"Think about each statement and how you currently feel .\",\"Unnamed: 42\",\"Unnamed: 43\",\"Unnamed: 44\",\"Unnamed: 45\",\"Unnamed: 46\",\"Unnamed: 47\",'\"Overall...\"',\"Unnamed: 25\",\"Unnamed: 26\",\"Unnamed: 27\",\"Unnamed: 28\",\"Unnamed: 29\",\"Unnamed: 30\",\"Unnamed: 31\",\"Unnamed: 32\",\"Unnamed: 33\",\"Unnamed: 34\"]]\n",
    "#Rename columns\n",
    "currently_Parents_feel_2020.columns = [[\"I stress about parenting...\",\"I use positive parenting strategies...\",\"I understand my child’s behavior...\",\"I am able to comfort my child when he/she is upset...\",\"I attend Parenting Learning Opportunities (workshop)...\",\"I feel overwhelmed with my child’s behavior...\",\"I feel my child is exposed to activities that stimulate his/her development...\",\"I feel confident as a parent\",\"I have access to resources to become a better parent\",\"I want to learn strategies to improve my parenting skills\",\"I understand child development\",\"I know age appropriate expectations for my child\",\"I know how to foster my child’s development\",\"I am knowledgeable about positive and nurturing parenting strategies\",\"I utilize positive parenting strategies\",\"I am supported in my role as a parent/caregiver\",\"I have a support system that consist of families with children of similar ages as my child\",\"I spend time with my child doing what he/she likes to do.\"]]\n",
    "\n",
    "#currently_Parents_feel_2020"
   ]
  },
  {
   "cell_type": "markdown",
   "id": "da2695b2",
   "metadata": {},
   "source": [
    "**Data about what kind of information parents want more of from WP.**"
   ]
  },
  {
   "cell_type": "code",
   "execution_count": null,
   "id": "53adab2f",
   "metadata": {},
   "outputs": [],
   "source": [
    "#create df with survey info about what kind of info parents want more of\n",
    "desired_info_2020 = incoming2020[[\"Which of the following aspects would you like the We Play Center to address? Please select all that apply and use the space to write in any additional comments.\",\"Unnamed: 51\",\"Unnamed: 52\",\"Unnamed: 53\",\"Unnamed: 54\",\"Unnamed: 55\",\"Unnamed: 56\",\"Unnamed: 57\",\"Unnamed: 58\",\"Unnamed: 59\"]]\n",
    "#Rename columns\n",
    "desired_info_2020.columns = [[\"Stress Relief\",\"Information about community resources\",\"Information about how to foster my child’s development\", \"Information about nurturing and responsive parenting strategies\",\"Information about mouthing (biting, putting objects in their mouth)\",\"Information about conflict resolution\",\"Information about sharing\",\"Information about nursing/ feeding\",\"Information about temper tantrums\",\"Information about sleeping\"]]\n",
    "desired_info_2020\n",
    "#~desired_info_2020.isna()"
   ]
  },
  {
   "cell_type": "markdown",
   "id": "92de7f61",
   "metadata": {},
   "source": [
    "**Open response, what will keep people coming back to WP.**"
   ]
  },
  {
   "cell_type": "code",
   "execution_count": null,
   "id": "676abe04",
   "metadata": {},
   "outputs": [],
   "source": [
    "#create df with open response detailing what parents say will keep them coming back\n",
    "keep_coming_back_2020 = incoming2020[[\"What will keep you coming back to the We PLAY Center?\"]]\n",
    "\n",
    "#keep_coming_back_2020"
   ]
  },
  {
   "cell_type": "markdown",
   "id": "3b51e239",
   "metadata": {},
   "source": [
    "## Geopandas\n",
    "https://towardsdatascience.com/a-beginners-guide-to-create-a-cloropleth-map-in-python-using-geopandas-and-matplotlib-9cc4175ab630"
   ]
  },
  {
   "cell_type": "code",
   "execution_count": 18,
   "id": "2f9733f7",
   "metadata": {},
   "outputs": [
    {
     "ename": "DriverError",
     "evalue": "Unable to open ./_data/new-orleans-tax-parcel.shx or ./_data/new-orleans-tax-parcel.SHX. Set SHAPE_RESTORE_SHX config option to YES to restore or create it.",
     "output_type": "error",
     "traceback": [
      "\u001b[0;31m---------------------------------------------------------------------------\u001b[0m",
      "\u001b[0;31mCPLE_OpenFailedError\u001b[0m                      Traceback (most recent call last)",
      "\u001b[0;32mfiona/_shim.pyx\u001b[0m in \u001b[0;36mfiona._shim.gdal_open_vector\u001b[0;34m()\u001b[0m\n",
      "\u001b[0;32mfiona/_err.pyx\u001b[0m in \u001b[0;36mfiona._err.exc_wrap_pointer\u001b[0;34m()\u001b[0m\n",
      "\u001b[0;31mCPLE_OpenFailedError\u001b[0m: Unable to open ./_data/new-orleans-tax-parcel.shx or ./_data/new-orleans-tax-parcel.SHX. Set SHAPE_RESTORE_SHX config option to YES to restore or create it.",
      "\nDuring handling of the above exception, another exception occurred:\n",
      "\u001b[0;31mDriverError\u001b[0m                               Traceback (most recent call last)",
      "\u001b[0;32m/tmp/ipykernel_32/3136609424.py\u001b[0m in \u001b[0;36m<module>\u001b[0;34m\u001b[0m\n\u001b[1;32m      1\u001b[0m \u001b[0mfp\u001b[0m \u001b[0;34m=\u001b[0m \u001b[0;34m'./_data/new-orleans-tax-parcel.shp'\u001b[0m\u001b[0;34m\u001b[0m\u001b[0;34m\u001b[0m\u001b[0m\n\u001b[0;32m----> 2\u001b[0;31m \u001b[0mmap_df\u001b[0m \u001b[0;34m=\u001b[0m \u001b[0mgpd\u001b[0m\u001b[0;34m.\u001b[0m\u001b[0mread_file\u001b[0m\u001b[0;34m(\u001b[0m\u001b[0mfp\u001b[0m\u001b[0;34m)\u001b[0m\u001b[0;34m\u001b[0m\u001b[0;34m\u001b[0m\u001b[0m\n\u001b[0m\u001b[1;32m      3\u001b[0m \u001b[0;31m# check the GeoDataframe\u001b[0m\u001b[0;34m\u001b[0m\u001b[0;34m\u001b[0m\u001b[0;34m\u001b[0m\u001b[0m\n\u001b[1;32m      4\u001b[0m \u001b[0mmap_df\u001b[0m\u001b[0;34m.\u001b[0m\u001b[0mhead\u001b[0m\u001b[0;34m(\u001b[0m\u001b[0;34m)\u001b[0m\u001b[0;34m\u001b[0m\u001b[0;34m\u001b[0m\u001b[0m\n\u001b[1;32m      5\u001b[0m \u001b[0;34m\u001b[0m\u001b[0m\n",
      "\u001b[0;32m/opt/conda/lib/python3.9/site-packages/geopandas/io/file.py\u001b[0m in \u001b[0;36m_read_file\u001b[0;34m(filename, bbox, mask, rows, **kwargs)\u001b[0m\n\u001b[1;32m    199\u001b[0m \u001b[0;34m\u001b[0m\u001b[0m\n\u001b[1;32m    200\u001b[0m     \u001b[0;32mwith\u001b[0m \u001b[0mfiona_env\u001b[0m\u001b[0;34m(\u001b[0m\u001b[0;34m)\u001b[0m\u001b[0;34m:\u001b[0m\u001b[0;34m\u001b[0m\u001b[0;34m\u001b[0m\u001b[0m\n\u001b[0;32m--> 201\u001b[0;31m         \u001b[0;32mwith\u001b[0m \u001b[0mreader\u001b[0m\u001b[0;34m(\u001b[0m\u001b[0mpath_or_bytes\u001b[0m\u001b[0;34m,\u001b[0m \u001b[0;34m**\u001b[0m\u001b[0mkwargs\u001b[0m\u001b[0;34m)\u001b[0m \u001b[0;32mas\u001b[0m \u001b[0mfeatures\u001b[0m\u001b[0;34m:\u001b[0m\u001b[0;34m\u001b[0m\u001b[0;34m\u001b[0m\u001b[0m\n\u001b[0m\u001b[1;32m    202\u001b[0m \u001b[0;34m\u001b[0m\u001b[0m\n\u001b[1;32m    203\u001b[0m             \u001b[0;31m# In a future Fiona release the crs attribute of features will\u001b[0m\u001b[0;34m\u001b[0m\u001b[0;34m\u001b[0m\u001b[0;34m\u001b[0m\u001b[0m\n",
      "\u001b[0;32m/opt/conda/lib/python3.9/site-packages/fiona/env.py\u001b[0m in \u001b[0;36mwrapper\u001b[0;34m(*args, **kwargs)\u001b[0m\n\u001b[1;32m    406\u001b[0m     \u001b[0;32mdef\u001b[0m \u001b[0mwrapper\u001b[0m\u001b[0;34m(\u001b[0m\u001b[0;34m*\u001b[0m\u001b[0margs\u001b[0m\u001b[0;34m,\u001b[0m \u001b[0;34m**\u001b[0m\u001b[0mkwargs\u001b[0m\u001b[0;34m)\u001b[0m\u001b[0;34m:\u001b[0m\u001b[0;34m\u001b[0m\u001b[0;34m\u001b[0m\u001b[0m\n\u001b[1;32m    407\u001b[0m         \u001b[0;32mif\u001b[0m \u001b[0mlocal\u001b[0m\u001b[0;34m.\u001b[0m\u001b[0m_env\u001b[0m\u001b[0;34m:\u001b[0m\u001b[0;34m\u001b[0m\u001b[0;34m\u001b[0m\u001b[0m\n\u001b[0;32m--> 408\u001b[0;31m             \u001b[0;32mreturn\u001b[0m \u001b[0mf\u001b[0m\u001b[0;34m(\u001b[0m\u001b[0;34m*\u001b[0m\u001b[0margs\u001b[0m\u001b[0;34m,\u001b[0m \u001b[0;34m**\u001b[0m\u001b[0mkwargs\u001b[0m\u001b[0;34m)\u001b[0m\u001b[0;34m\u001b[0m\u001b[0;34m\u001b[0m\u001b[0m\n\u001b[0m\u001b[1;32m    409\u001b[0m         \u001b[0;32melse\u001b[0m\u001b[0;34m:\u001b[0m\u001b[0;34m\u001b[0m\u001b[0;34m\u001b[0m\u001b[0m\n\u001b[1;32m    410\u001b[0m             \u001b[0;32mif\u001b[0m \u001b[0misinstance\u001b[0m\u001b[0;34m(\u001b[0m\u001b[0margs\u001b[0m\u001b[0;34m[\u001b[0m\u001b[0;36m0\u001b[0m\u001b[0;34m]\u001b[0m\u001b[0;34m,\u001b[0m \u001b[0mstr\u001b[0m\u001b[0;34m)\u001b[0m\u001b[0;34m:\u001b[0m\u001b[0;34m\u001b[0m\u001b[0;34m\u001b[0m\u001b[0m\n",
      "\u001b[0;32m/opt/conda/lib/python3.9/site-packages/fiona/__init__.py\u001b[0m in \u001b[0;36mopen\u001b[0;34m(fp, mode, driver, schema, crs, encoding, layer, vfs, enabled_drivers, crs_wkt, **kwargs)\u001b[0m\n\u001b[1;32m    254\u001b[0m \u001b[0;34m\u001b[0m\u001b[0m\n\u001b[1;32m    255\u001b[0m         \u001b[0;32mif\u001b[0m \u001b[0mmode\u001b[0m \u001b[0;32min\u001b[0m \u001b[0;34m(\u001b[0m\u001b[0;34m'a'\u001b[0m\u001b[0;34m,\u001b[0m \u001b[0;34m'r'\u001b[0m\u001b[0;34m)\u001b[0m\u001b[0;34m:\u001b[0m\u001b[0;34m\u001b[0m\u001b[0;34m\u001b[0m\u001b[0m\n\u001b[0;32m--> 256\u001b[0;31m             c = Collection(path, mode, driver=driver, encoding=encoding,\n\u001b[0m\u001b[1;32m    257\u001b[0m                            layer=layer, enabled_drivers=enabled_drivers, **kwargs)\n\u001b[1;32m    258\u001b[0m         \u001b[0;32melif\u001b[0m \u001b[0mmode\u001b[0m \u001b[0;34m==\u001b[0m \u001b[0;34m'w'\u001b[0m\u001b[0;34m:\u001b[0m\u001b[0;34m\u001b[0m\u001b[0;34m\u001b[0m\u001b[0m\n",
      "\u001b[0;32m/opt/conda/lib/python3.9/site-packages/fiona/collection.py\u001b[0m in \u001b[0;36m__init__\u001b[0;34m(self, path, mode, driver, schema, crs, encoding, layer, vsi, archive, enabled_drivers, crs_wkt, ignore_fields, ignore_geometry, **kwargs)\u001b[0m\n\u001b[1;32m    160\u001b[0m             \u001b[0;32mif\u001b[0m \u001b[0mself\u001b[0m\u001b[0;34m.\u001b[0m\u001b[0mmode\u001b[0m \u001b[0;34m==\u001b[0m \u001b[0;34m'r'\u001b[0m\u001b[0;34m:\u001b[0m\u001b[0;34m\u001b[0m\u001b[0;34m\u001b[0m\u001b[0m\n\u001b[1;32m    161\u001b[0m                 \u001b[0mself\u001b[0m\u001b[0;34m.\u001b[0m\u001b[0msession\u001b[0m \u001b[0;34m=\u001b[0m \u001b[0mSession\u001b[0m\u001b[0;34m(\u001b[0m\u001b[0;34m)\u001b[0m\u001b[0;34m\u001b[0m\u001b[0;34m\u001b[0m\u001b[0m\n\u001b[0;32m--> 162\u001b[0;31m                 \u001b[0mself\u001b[0m\u001b[0;34m.\u001b[0m\u001b[0msession\u001b[0m\u001b[0;34m.\u001b[0m\u001b[0mstart\u001b[0m\u001b[0;34m(\u001b[0m\u001b[0mself\u001b[0m\u001b[0;34m,\u001b[0m \u001b[0;34m**\u001b[0m\u001b[0mkwargs\u001b[0m\u001b[0;34m)\u001b[0m\u001b[0;34m\u001b[0m\u001b[0;34m\u001b[0m\u001b[0m\n\u001b[0m\u001b[1;32m    163\u001b[0m             \u001b[0;32melif\u001b[0m \u001b[0mself\u001b[0m\u001b[0;34m.\u001b[0m\u001b[0mmode\u001b[0m \u001b[0;32min\u001b[0m \u001b[0;34m(\u001b[0m\u001b[0;34m'a'\u001b[0m\u001b[0;34m,\u001b[0m \u001b[0;34m'w'\u001b[0m\u001b[0;34m)\u001b[0m\u001b[0;34m:\u001b[0m\u001b[0;34m\u001b[0m\u001b[0;34m\u001b[0m\u001b[0m\n\u001b[1;32m    164\u001b[0m                 \u001b[0mself\u001b[0m\u001b[0;34m.\u001b[0m\u001b[0msession\u001b[0m \u001b[0;34m=\u001b[0m \u001b[0mWritingSession\u001b[0m\u001b[0;34m(\u001b[0m\u001b[0;34m)\u001b[0m\u001b[0;34m\u001b[0m\u001b[0;34m\u001b[0m\u001b[0m\n",
      "\u001b[0;32mfiona/ogrext.pyx\u001b[0m in \u001b[0;36mfiona.ogrext.Session.start\u001b[0;34m()\u001b[0m\n",
      "\u001b[0;32mfiona/_shim.pyx\u001b[0m in \u001b[0;36mfiona._shim.gdal_open_vector\u001b[0;34m()\u001b[0m\n",
      "\u001b[0;31mDriverError\u001b[0m: Unable to open ./_data/new-orleans-tax-parcel.shx or ./_data/new-orleans-tax-parcel.SHX. Set SHAPE_RESTORE_SHX config option to YES to restore or create it."
     ]
    }
   ],
   "source": [
    "fp = './_data/new-orleans-tax-parcel.shp'\n",
    "map_df = gpd.read_file(fp)\n",
    "# check the GeoDataframe\n",
    "map_df.head()\n",
    "\n",
    "# map_df.plot()"
   ]
  },
  {
   "cell_type": "markdown",
   "id": "2c7b830e",
   "metadata": {},
   "source": [
    "# Automatic updating for Git Pages\n",
    "Use gh-pages branch to display on Rena's personal website"
   ]
  },
  {
   "cell_type": "code",
   "execution_count": null,
   "id": "ad6d014a",
   "metadata": {},
   "outputs": [],
   "source": [
    "# # make sure to push changes from main first!\n",
    "# !git checkout gh-pages\n",
    "!git pull #update gh-pages with stuff from main"
   ]
  },
  {
   "cell_type": "markdown",
   "id": "1f6ce049",
   "metadata": {},
   "source": [
    "### automatically create index.html"
   ]
  },
  {
   "cell_type": "code",
   "execution_count": null,
   "id": "5faa5a74",
   "metadata": {
    "scrolled": true
   },
   "outputs": [],
   "source": [
    "# convert this file to HTML\n",
    "!jupyter nbconvert --to html FinalTutorial.ipynb\n",
    "\n",
    "# Delete old index.html\n",
    "!rm index.html\n",
    "# move MilestoneTwo.html to index.html\n",
    "!mv FinalTutorial.html index.html\n",
    "\n",
    "# Push to Rena's repo\n",
    "!git config --global user.name \"renarepenning\"\n",
    "!git config --global user.email \"rrepenning@tulane.edu\"\n",
    "!git add -A\n",
    "!git commit -m \"auto update index.html\"\n",
    "\n",
    "# !git push\n",
    "# must push manually!"
   ]
  },
  {
   "cell_type": "markdown",
   "id": "616b66d2",
   "metadata": {},
   "source": [
    "Make sure to checkout main before going back to work!"
   ]
  }
 ],
 "metadata": {
  "kernelspec": {
   "display_name": "Python 3 (ipykernel)",
   "language": "python",
   "name": "python3"
  },
  "language_info": {
   "codemirror_mode": {
    "name": "ipython",
    "version": 3
   },
   "file_extension": ".py",
   "mimetype": "text/x-python",
   "name": "python",
   "nbconvert_exporter": "python",
   "pygments_lexer": "ipython3",
   "version": "3.9.6"
  }
 },
 "nbformat": 4,
 "nbformat_minor": 5
}
