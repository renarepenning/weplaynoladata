{
 "cells": [
  {
   "cell_type": "markdown",
   "id": "664e160d",
   "metadata": {},
   "source": [
    "## *Updated by rena 12/13 morning*\n",
    "https://docs.google.com/document/d/1V47KzrvPq6YNUBH-4N6mWy_EH556zvRhAlRZV9M2-sM/edit\n",
    "    \n",
    "    "
   ]
  },
  {
   "cell_type": "markdown",
   "id": "31d555f4",
   "metadata": {},
   "source": [
    "https://www.renarepenning.com/weplaynoladata/"
   ]
  },
  {
   "cell_type": "markdown",
   "id": "9bc23895",
   "metadata": {},
   "source": [
    "## Rena Repenning and Eddy Salazar"
   ]
  },
  {
   "cell_type": "markdown",
   "id": "bc078699",
   "metadata": {},
   "source": [
    "![WPC logo](wpcLogo.jpeg)\n",
    "\n",
    "WePLAY logo[<sup>1, </sup>](#fn2)[<sup>3</sup>](#fn3)\n",
    "\n"
   ]
  },
  {
   "cell_type": "markdown",
   "id": "707ea308",
   "metadata": {},
   "source": [
    "# Project Plan"
   ]
  },
  {
   "cell_type": "markdown",
   "id": "e79caecc",
   "metadata": {},
   "source": [
    "### Data \n",
    "We Play Data [<sup>2</sup>](#fn1)\n",
    "    Provided by Christine Neely from Training Grounds NOLA. Available on this project's [Git repository](https://github.com/renarepenning/weplaynoladata/tree/main/_data)."
   ]
  },
  {
   "cell_type": "markdown",
   "id": "1df729ac",
   "metadata": {},
   "source": [
    "### Explanation & Model Proposition\n",
    "We are inspired by The We Play center's mission: \"to offer a safe place to play while engaging in activities that promote brain development.\" \n",
    "Melanie Richardson expressed a need for statistical evidence of We Play's importance."
   ]
  },
  {
   "cell_type": "markdown",
   "id": "2bbbaad5",
   "metadata": {},
   "source": [
    "First, we manually removed empty columns and rows from the five excel files.\n",
    "Then, we broke apart sheets to make data frames adressing a single concern. During service learning Melanie and Christine heard our Milestone Two plan and asked for **XXXXXXX**\n",
    "\n",
    "**XXX explain four surveys are weird time frames, sameish columns, and then fam survey is vaugley similar XX**\n",
    "\n",
    "After looking at all the available data *we intend to model*:\n",
    "* Use data regarding existing and desired parenting skills to inform WePLAY's curriculum\n",
    "* Identify why people chose WePLAY over alternative forms of childcare/early education\n",
    "\n",
    "\n",
    "Graphing pie charts is difficult, and code intensive, in pandas and matplotlib. Writing three of our own ETL functions increased our efficiency and cutdown on lines of code. We added functions to plot pie charts easily, grab column labels, and take numerical series and plot a bar chart and print summary stats. These will allow us to analyze the rest of the data in a much more efficient fashion."
   ]
  },
  {
   "cell_type": "markdown",
   "id": "ac19ef5f",
   "metadata": {},
   "source": [
    "### Collaboration Plan\n",
    "Rena and Eddy will utilize this repository to simultaneously edit the project. \n",
    "We plan on connecting over Zoom as needed and keeping constant communication over instant message. Also, we are both able to meet after class on Thursdays.\n",
    "When convinient, we will export notebooks to Google Colabs to support simultaneous editing. \n",
    "(This is easily done using a Colabs Chrome extension).\n",
    "While re organizing our final product we used a GoogleDoc to simultaneouslt outline and plan.\n",
    "\n"
   ]
  },
  {
   "cell_type": "markdown",
   "id": "c36ad3d1",
   "metadata": {},
   "source": [
    "### Footnotes\n",
    "<span id=\"fn1\"> 1. Image source: https://www.mytraininggrounds.org/we-play-center.</span></br>\n",
    "<span id=\"fn2\"> 2. WePLAY data was last downloaded on October 25th, 2021. We could not use a live link because of spaces in filenames.</span></br>\n",
    "<span id=\"fn3\"> 3. Cite: https://medium.com/markdown-monster-blog/getting-images-into-markdown-documents-and-weblog-posts-with-markdown-monster-9ec6f353d8ec</span></br>\n",
    "<span id=\"fn4\"> 4. Cites: https://matplotlib.org/stable/tutorials/colors/colormaps.html </br> https://matplotlib.org/3.1.0/api/_as_gen/matplotlib.pyplot.pie.html </br> Pie chart citation: https://matplotlib.org/stable/gallery/pie_and_polar_charts/pie_features.html\n",
    "        </span></br>"
   ]
  },
  {
   "cell_type": "markdown",
   "id": "33c4ee8c",
   "metadata": {},
   "source": [
    "# Exploring WePLAY Survey Results"
   ]
  },
  {
   "cell_type": "markdown",
   "id": "a01835fc",
   "metadata": {},
   "source": [
    "Provided by Christine Neely from WePlay by Training Grounds nola. Data last accessed on October 25th."
   ]
  },
  {
   "cell_type": "markdown",
   "id": "1717d831",
   "metadata": {},
   "source": [
    "##### Imports as needed"
   ]
  },
  {
   "cell_type": "code",
   "execution_count": 1,
   "id": "91306a69",
   "metadata": {
    "scrolled": true
   },
   "outputs": [
    {
     "name": "stdout",
     "output_type": "stream",
     "text": [
      "Requirement already satisfied: openpyxl in /opt/conda/lib/python3.9/site-packages (3.0.9)\r\n",
      "Requirement already satisfied: et-xmlfile in /opt/conda/lib/python3.9/site-packages (from openpyxl) (1.1.0)\r\n"
     ]
    }
   ],
   "source": [
    "import pandas as pd\n",
    "import matplotlib.pyplot as plt\n",
    "import numpy as np\n",
    "import math\n",
    "import random\n",
    "!pip3 install openpyxl # package to open xlsx files"
   ]
  },
  {
   "cell_type": "code",
   "execution_count": 2,
   "id": "f3fb7730",
   "metadata": {},
   "outputs": [],
   "source": [
    "# --> poss delete these\n",
    "#from matplotlib import cm\n",
    "#import geopandas as gpd\n",
    "#!pip3 install geopandas\n",
    "#!pip3 install descartes"
   ]
  },
  {
   "cell_type": "markdown",
   "id": "1528cbcb",
   "metadata": {},
   "source": [
    "##### Separate paths to accomodate for our local environments"
   ]
  },
  {
   "cell_type": "code",
   "execution_count": 3,
   "id": "e5f7ea31",
   "metadata": {},
   "outputs": [],
   "source": [
    "renapath = \"../notebooks/_data/WePlayData/CleanedWPC\"\n",
    "edpath = \"./_data/WePlayData/CleanedWPC\"\n",
    "# PATH -- set path variable \n",
    "path = renapath  # path to manually cleaned excels"
   ]
  },
  {
   "cell_type": "markdown",
   "id": "50f39cb3",
   "metadata": {},
   "source": [
    "# Extraction, Transform, and Loading Key Functions\n",
    "\n",
    "#### plotPies() [<sup>4</sup>](#fn1)\n",
    "\n",
    "* df= dataframe to graph\n",
    "* cols = the df's columns to be used as titles; can pass in `getLabels(df)`\n",
    "* labels = labels for sections\n",
    "* allLabelsSame = if True, make a list of labels' to get same format for all label inputs\n",
    "* isNAct = if we use .isna() before value counts\n",
    "For now, we will leave legends repeating because that function pairs names and values correctly.\n",
    "\n",
    "#### getLabels()\n",
    "returns a list of lists of values for each column, using pandas.unique\n",
    "\n",
    "#### getColor()\n",
    "returns a random selection of one of WePLAY's colors\n",
    "\n",
    "#### printCatBars()\n",
    "* df\n",
    "* key\n",
    "* att (like df.key, but pandas doesn't allow .key in place of .attribute to calculate summary stats\n",
    "* printStats=True\n",
    "\n",
    "#### printHorizBars()\n",
    "* df \n",
    "* key\n",
    "\n",
    "#### plotSection()\n",
    "Streamlines plotting columns of the aggregated `allIncoming` df. Takes in indexes and plots data appropriately. \n",
    "* cols\n",
    "* i1\n",
    "* i2\n",
    "* plotBars=\"key\"\n",
    "* plotBarsHoriz=False\n",
    "* pie=True\n"
   ]
  },
  {
   "cell_type": "code",
   "execution_count": 4,
   "id": "f9c45a13",
   "metadata": {},
   "outputs": [],
   "source": [
    "def plotPies(df, labels, allLabelsSame, isNAct, ishoriz=True):\n",
    "    theme=['#794f9e','#55ad51','#db6ea1','#969696', '#e6e6e6']\n",
    "    cols = df.columns\n",
    "    # create matplotlib axis\n",
    "    if ishoriz:\n",
    "        fig1, ax1 = plt.subplots(nrows=1,ncols=len(cols),figsize=(20,15))\n",
    "    else:\n",
    "        fig1, ax1 = plt.subplots(nrows=len(cols),ncols=1,figsize=(20,15))\n",
    "    # if all labels are the same we make a cols long list of them --> accomodate dif label inputs\n",
    "    if allLabelsSame:\n",
    "        labels = [labels]*len(cols)\n",
    "        \n",
    "    keys = [] #print key above all instead of individually\n",
    "    for i, c in enumerate(df.columns): # incanse our graph titles are going to be differend\n",
    "        if isNAct:#if we want to plot using is na\n",
    "            wedges = ax1[i].pie(df[c].isna().value_counts(), colors=theme, autopct='%1.1f%%', shadow=True, startangle=90)#labels=labels[i],\n",
    "        else:\n",
    "            wedges = ax1[i].pie(df[c].value_counts(), colors=theme, autopct='%1.1f%%', shadow=True, startangle=90)#labels=labels[i],\n",
    "        \n",
    "        ax1[i].set_title(str(i+1))\n",
    "        if isinstance(cols[i],str):\n",
    "            keys += [str(i+1) +\". \"+ cols[i]]\n",
    "        else:\n",
    "            keys += [str(i+1) +\". \"+ cols[i][0]]\n",
    "        \n",
    "        ax1[i].axis('equal')\n",
    "        # label individually, when we must\n",
    "        if allLabelsSame == False:\n",
    "            ax1[i].legend(wedges[0], labels[i],\n",
    "                  title=\"Legend\", # must plot a unique legend for each to keep value/label pairs uniform\n",
    "                  loc=\"upper left\",\n",
    "                  bbox_to_anchor=(1, 0, 0.5, 1))\n",
    "        \n",
    "    # label for all to save space\n",
    "    if allLabelsSame:\n",
    "        ax1[0].legend(wedges[0], labels[0],\n",
    "                      title=\"Legend\", # must plot a unique legend for each to keep value/label pairs uniform\n",
    "                      loc=\"upper left\",\n",
    "                      bbox_to_anchor=(1, 0, 0.5, 1))\n",
    "    # Label each graph - matplot title is messy\n",
    "    print(\"KEYS:\")\n",
    "    for k in keys:\n",
    "        print(k)\n",
    "    plt.show()\n",
    "    \n",
    "\n",
    "def getLabels(df):    \n",
    "    labels = [\"x\"]*len(df.columns)\n",
    "    for i, c in enumerate(df.columns):\n",
    "        labels[i] = df[c].unique()\n",
    "        # take out nans\n",
    "        '''for l in range(len(labels[i])):\n",
    "             if type(labels[i][l]) != str:\n",
    "                    labels[i][l] == \"N/A\"\n",
    "                    print(labels[i][l])'''\n",
    "    return labels\n",
    "    # beware: will return nan\n",
    "    "
   ]
  },
  {
   "cell_type": "markdown",
   "id": "18283be2",
   "metadata": {},
   "source": [
    "#### Displaying barchart and summary stats for numeric variables"
   ]
  },
  {
   "cell_type": "code",
   "execution_count": 5,
   "id": "1c0c60f2",
   "metadata": {},
   "outputs": [],
   "source": [
    "def getColor():\n",
    "    theme=['#794f9e','#55ad51','#db6ea1']\n",
    "    random.seed()\n",
    "    i = random.randrange(4)\n",
    "    return theme[i]\n",
    "\n",
    "def printCatBars(df, key, att, printStats=True):\n",
    "    \n",
    "    # att -- > is df.col_name attribute for calling summary stat functions\n",
    "    p = df[key].value_counts()\n",
    "    p.sort_index(inplace=True)\n",
    "    p.plot.bar(align=\"center\", color=getColor())\n",
    "    \n",
    "    if printStats: # skip for qualitative data\n",
    "        # convert numeric values\n",
    "        df[key].apply(pd.to_numeric, errors='coerce')\n",
    "        print(\"SUMMARY STATS\\n\",\"AVG: \", att.mean()[0],\"\\nMax,Min: \",att.min()[0],\",\",att.max()[0])\n",
    "\n",
    "# printing horizontal bar charts for x values with long labels\n",
    "def printHorizBars(df, key):\n",
    "    p = df[key].value_counts()\n",
    "    p.sort_index(inplace=True)\n",
    "    p.plot.barh(align=\"center\", color=getColor())\n",
    "    "
   ]
  },
  {
   "cell_type": "markdown",
   "id": "737a1ea9",
   "metadata": {},
   "source": [
    "#### Plotting batches of aggregated data, with option to add in bar chart"
   ]
  },
  {
   "cell_type": "code",
   "execution_count": 6,
   "id": "9ceae3c4",
   "metadata": {},
   "outputs": [],
   "source": [
    "# plotBars -> plots a bar graph if we send in col, attribute\n",
    "def plotSection(cols, i1, i2, plotBars=\"key\", plotBarsHoriz=False, pie=True, isNAct=False):\n",
    "    df = allIncoming.iloc[1:, i1:i2]\n",
    "    df.columns = [cols]\n",
    "    \n",
    "    if (pie) and (plotBarsHoriz==False):\n",
    "        # use labels function if non-bin question. else we make it T/f\n",
    "        if isNAct == False:\n",
    "            plotPies(df, getLabels(df), False, isNAct, True)\n",
    "        else:\n",
    "            plotPies(df, [\"True\", \"False\"], True, isNAct, True)\n",
    "    if plotBars != \"key\":\n",
    "        if plotBarsHoriz == False:\n",
    "            print(\"Taking a closer look at \",plotBars,\":\")\n",
    "            printCatBars(df, plotBars, df[plotBars], False)\n",
    "        else:\n",
    "            printHorizBars(df, plotBars)"
   ]
  },
  {
   "cell_type": "markdown",
   "id": "78700ff6",
   "metadata": {},
   "source": [
    "# Incoming Family Data\n",
    "### Four spreadsheets aggregated \n",
    "From July 2019, November 2019, 2020, and miscellaneous dates in 2019\n",
    "</br>XXXXX Explain method, etc"
   ]
  },
  {
   "cell_type": "code",
   "execution_count": 7,
   "id": "dd917c64",
   "metadata": {},
   "outputs": [
    {
     "name": "stdout",
     "output_type": "stream",
     "text": [
      "Notes: -- Adults means over 19  -- Children means under 18 -- Resp = Respondant\n",
      "\n"
     ]
    }
   ],
   "source": [
    "# JULY BATCH\n",
    "incomingjuly2019 = pd.read_excel(path + \"IncomingParentReflection-July2019\" + \".xlsx\")\n",
    "incomingjuly2019[\"Sheet\"] = \"July19\"\n",
    "incomingjuly2019.drop([1], axis=0, inplace = True) #delete row full of test reponses\n",
    "# NOV BATCH\n",
    "incomingnov2019 = pd.read_excel(path + \"IncomingParentReflection-November2019\" + \".xlsx\")\n",
    "incomingnov2019[\"Sheet\"] = \"Nov19\"\n",
    "incomingnov2019.drop([0], axis=0, inplace = True)\n",
    "# 2020 BATCH\n",
    "incoming2020 = pd.read_excel(path + \"IncomingParentReflectionForm2020\" + \".xlsx\")\n",
    "incoming2020[\"Sheet\"] = \"2020\"\n",
    "incoming2020.drop([0], axis=0, inplace = True)\n",
    "# UNDATED BATCH\n",
    "incoming_undated = pd.read_excel(path + \"IncomingParentReflection\" + \".xlsx\")\n",
    "incoming_undated[\"Sheet\"] = \"NoDate\"\n",
    "# Create DF of all similar surveys\n",
    "pd.set_option('display.max_columns',None) #display all columns\n",
    "allIncoming = pd.concat([incomingjuly2019, incomingnov2019.iloc[1:,:], incoming2020.iloc[1:,:], incoming_undated.iloc[1:,:]], ignore_index=True)\n",
    "            \n",
    "print(\"Notes: -- Adults means over 19  -- Children means under 18 -- Resp = Respondant\\n\")\n"
   ]
  },
  {
   "cell_type": "markdown",
   "id": "796f55c2",
   "metadata": {},
   "source": [
    "Distribution of aggregated surveys"
   ]
  },
  {
   "cell_type": "code",
   "execution_count": 8,
   "id": "aa29e0c5",
   "metadata": {},
   "outputs": [
    {
     "data": {
      "image/png": "[encoded data removed]",
      "text/plain": [
       "<Figure size 432x288 with 1 Axes>"
      ]
     },
     "metadata": {
      "needs_background": "light"
     },
     "output_type": "display_data"
    }
   ],
   "source": [
    "printHorizBars(allIncoming,\"Sheet\")"
   ]
  },
  {
   "cell_type": "markdown",
   "id": "8eb1fe31",
   "metadata": {},
   "source": [
    "*** this section is giving  me a ton of trouble i was hoping to show months that people responded"
   ]
  },
  {
   "cell_type": "code",
   "execution_count": 9,
   "id": "92490874",
   "metadata": {},
   "outputs": [
    {
     "data": {
      "text/plain": [
       "'Graph/display date distribution somehow (by month)?'"
      ]
     },
     "execution_count": 9,
     "metadata": {},
     "output_type": "execute_result"
    }
   ],
   "source": [
    "from datetime import datetime\n",
    "'''this only casts as nans '''\n",
    "# allIncoming.Date.unique()\n",
    "#allIncoming['Date'].describe()\n",
    "#https://stackoverflow.com/questions/25146121/extracting-just-month-and-year-separately-from-pandas-datetime-column\n",
    "\n",
    "'''Graph/display date distribution somehow (by month)?'''"
   ]
  },
  {
   "cell_type": "markdown",
   "id": "646ba7e5",
   "metadata": {},
   "source": [
    "### Survey Respondant information"
   ]
  },
  {
   "cell_type": "markdown",
   "id": "5d693020",
   "metadata": {},
   "source": [
    "Survey Respondant Info"
   ]
  },
  {
   "cell_type": "code",
   "execution_count": 10,
   "id": "91ca837d",
   "metadata": {},
   "outputs": [
    {
     "name": "stdout",
     "output_type": "stream",
     "text": [
      "KEYS:\n",
      "1. Resp_Gender\n",
      "2. Resp_Age\n",
      "3. Resp_Race\n"
     ]
    },
    {
     "data": {
      "image/png": "[encoded data removed]",
      "text/plain": [
       "<Figure size 1440x1080 with 3 Axes>"
      ]
     },
     "metadata": {},
     "output_type": "display_data"
    },
    {
     "name": "stdout",
     "output_type": "stream",
     "text": [
      "Taking a closer look at  Resp_Age :\n"
     ]
    },
    {
     "data": {
      "image/png": "[encoded data removed]",
      "text/plain": [
       "<Figure size 432x288 with 1 Axes>"
      ]
     },
     "metadata": {
      "needs_background": "light"
     },
     "output_type": "display_data"
    }
   ],
   "source": [
    "plotSection([\"Resp_Gender\", \"Resp_Age\", \"Resp_Race\"], 1, 4, \"Resp_Age\")"
   ]
  },
  {
   "cell_type": "markdown",
   "id": "63e9e04a",
   "metadata": {},
   "source": [
    "Home info: # Adults, # Children, Zip"
   ]
  },
  {
   "cell_type": "code",
   "execution_count": 11,
   "id": "fa1d29ce",
   "metadata": {},
   "outputs": [
    {
     "name": "stdout",
     "output_type": "stream",
     "text": [
      "KEYS:\n",
      "1. Adults\n",
      "2. Children\n",
      "3. Zip\n"
     ]
    },
    {
     "data": {
      "image/png": "[encoded data removed]",
      "text/plain": [
       "<Figure size 1440x1080 with 3 Axes>"
      ]
     },
     "metadata": {},
     "output_type": "display_data"
    },
    {
     "name": "stdout",
     "output_type": "stream",
     "text": [
      "Taking a closer look at  Zip :\n"
     ]
    },
    {
     "ename": "IndexError",
     "evalue": "list index out of range",
     "output_type": "error",
     "traceback": [
      "\u001b[0;31m---------------------------------------------------------------------------\u001b[0m",
      "\u001b[0;31mIndexError\u001b[0m                                Traceback (most recent call last)",
      "\u001b[0;32m/tmp/ipykernel_83/2974423434.py\u001b[0m in \u001b[0;36m<module>\u001b[0;34m\u001b[0m\n\u001b[0;32m----> 1\u001b[0;31m \u001b[0mplotSection\u001b[0m\u001b[0;34m(\u001b[0m\u001b[0;34m[\u001b[0m\u001b[0;34m\"Adults\"\u001b[0m\u001b[0;34m,\u001b[0m \u001b[0;34m\"Children\"\u001b[0m\u001b[0;34m,\u001b[0m \u001b[0;34m\"Zip\"\u001b[0m\u001b[0;34m]\u001b[0m\u001b[0;34m,\u001b[0m \u001b[0;36m5\u001b[0m\u001b[0;34m,\u001b[0m \u001b[0;36m8\u001b[0m\u001b[0;34m,\u001b[0m \u001b[0;34m\"Zip\"\u001b[0m\u001b[0;34m)\u001b[0m\u001b[0;34m\u001b[0m\u001b[0;34m\u001b[0m\u001b[0m\n\u001b[0m",
      "\u001b[0;32m/tmp/ipykernel_83/3430296011.py\u001b[0m in \u001b[0;36mplotSection\u001b[0;34m(cols, i1, i2, plotBars, plotBarsHoriz, pie, isNAct)\u001b[0m\n\u001b[1;32m     13\u001b[0m         \u001b[0;32mif\u001b[0m \u001b[0mplotBarsHoriz\u001b[0m \u001b[0;34m==\u001b[0m \u001b[0;32mFalse\u001b[0m\u001b[0;34m:\u001b[0m\u001b[0;34m\u001b[0m\u001b[0;34m\u001b[0m\u001b[0m\n\u001b[1;32m     14\u001b[0m             \u001b[0mprint\u001b[0m\u001b[0;34m(\u001b[0m\u001b[0;34m\"Taking a closer look at \"\u001b[0m\u001b[0;34m,\u001b[0m\u001b[0mplotBars\u001b[0m\u001b[0;34m,\u001b[0m\u001b[0;34m\":\"\u001b[0m\u001b[0;34m)\u001b[0m\u001b[0;34m\u001b[0m\u001b[0;34m\u001b[0m\u001b[0m\n\u001b[0;32m---> 15\u001b[0;31m             \u001b[0mprintCatBars\u001b[0m\u001b[0;34m(\u001b[0m\u001b[0mdf\u001b[0m\u001b[0;34m,\u001b[0m \u001b[0mplotBars\u001b[0m\u001b[0;34m,\u001b[0m \u001b[0mdf\u001b[0m\u001b[0;34m[\u001b[0m\u001b[0mplotBars\u001b[0m\u001b[0;34m]\u001b[0m\u001b[0;34m,\u001b[0m \u001b[0;32mFalse\u001b[0m\u001b[0;34m)\u001b[0m\u001b[0;34m\u001b[0m\u001b[0;34m\u001b[0m\u001b[0m\n\u001b[0m\u001b[1;32m     16\u001b[0m         \u001b[0;32melse\u001b[0m\u001b[0;34m:\u001b[0m\u001b[0;34m\u001b[0m\u001b[0;34m\u001b[0m\u001b[0m\n\u001b[1;32m     17\u001b[0m             \u001b[0mprintHorizBars\u001b[0m\u001b[0;34m(\u001b[0m\u001b[0mdf\u001b[0m\u001b[0;34m,\u001b[0m \u001b[0mplotBars\u001b[0m\u001b[0;34m)\u001b[0m\u001b[0;34m\u001b[0m\u001b[0;34m\u001b[0m\u001b[0m\n",
      "\u001b[0;32m/tmp/ipykernel_83/2546193983.py\u001b[0m in \u001b[0;36mprintCatBars\u001b[0;34m(df, key, att, printStats)\u001b[0m\n\u001b[1;32m     10\u001b[0m     \u001b[0mp\u001b[0m \u001b[0;34m=\u001b[0m \u001b[0mdf\u001b[0m\u001b[0;34m[\u001b[0m\u001b[0mkey\u001b[0m\u001b[0;34m]\u001b[0m\u001b[0;34m.\u001b[0m\u001b[0mvalue_counts\u001b[0m\u001b[0;34m(\u001b[0m\u001b[0;34m)\u001b[0m\u001b[0;34m\u001b[0m\u001b[0;34m\u001b[0m\u001b[0m\n\u001b[1;32m     11\u001b[0m     \u001b[0mp\u001b[0m\u001b[0;34m.\u001b[0m\u001b[0msort_index\u001b[0m\u001b[0;34m(\u001b[0m\u001b[0minplace\u001b[0m\u001b[0;34m=\u001b[0m\u001b[0;32mTrue\u001b[0m\u001b[0;34m)\u001b[0m\u001b[0;34m\u001b[0m\u001b[0;34m\u001b[0m\u001b[0m\n\u001b[0;32m---> 12\u001b[0;31m     \u001b[0mp\u001b[0m\u001b[0;34m.\u001b[0m\u001b[0mplot\u001b[0m\u001b[0;34m.\u001b[0m\u001b[0mbar\u001b[0m\u001b[0;34m(\u001b[0m\u001b[0malign\u001b[0m\u001b[0;34m=\u001b[0m\u001b[0;34m\"center\"\u001b[0m\u001b[0;34m,\u001b[0m \u001b[0mcolor\u001b[0m\u001b[0;34m=\u001b[0m\u001b[0mgetColor\u001b[0m\u001b[0;34m(\u001b[0m\u001b[0;34m)\u001b[0m\u001b[0;34m)\u001b[0m\u001b[0;34m\u001b[0m\u001b[0;34m\u001b[0m\u001b[0m\n\u001b[0m\u001b[1;32m     13\u001b[0m \u001b[0;34m\u001b[0m\u001b[0m\n\u001b[1;32m     14\u001b[0m     \u001b[0;32mif\u001b[0m \u001b[0mprintStats\u001b[0m\u001b[0;34m:\u001b[0m \u001b[0;31m# skip for qualitative data\u001b[0m\u001b[0;34m\u001b[0m\u001b[0;34m\u001b[0m\u001b[0m\n",
      "\u001b[0;32m/tmp/ipykernel_83/2546193983.py\u001b[0m in \u001b[0;36mgetColor\u001b[0;34m()\u001b[0m\n\u001b[1;32m      3\u001b[0m     \u001b[0mrandom\u001b[0m\u001b[0;34m.\u001b[0m\u001b[0mseed\u001b[0m\u001b[0;34m(\u001b[0m\u001b[0;34m)\u001b[0m\u001b[0;34m\u001b[0m\u001b[0;34m\u001b[0m\u001b[0m\n\u001b[1;32m      4\u001b[0m     \u001b[0mi\u001b[0m \u001b[0;34m=\u001b[0m \u001b[0mrandom\u001b[0m\u001b[0;34m.\u001b[0m\u001b[0mrandrange\u001b[0m\u001b[0;34m(\u001b[0m\u001b[0;36m4\u001b[0m\u001b[0;34m)\u001b[0m\u001b[0;34m\u001b[0m\u001b[0;34m\u001b[0m\u001b[0m\n\u001b[0;32m----> 5\u001b[0;31m     \u001b[0;32mreturn\u001b[0m \u001b[0mtheme\u001b[0m\u001b[0;34m[\u001b[0m\u001b[0mi\u001b[0m\u001b[0;34m]\u001b[0m\u001b[0;34m\u001b[0m\u001b[0;34m\u001b[0m\u001b[0m\n\u001b[0m\u001b[1;32m      6\u001b[0m \u001b[0;34m\u001b[0m\u001b[0m\n\u001b[1;32m      7\u001b[0m \u001b[0;32mdef\u001b[0m \u001b[0mprintCatBars\u001b[0m\u001b[0;34m(\u001b[0m\u001b[0mdf\u001b[0m\u001b[0;34m,\u001b[0m \u001b[0mkey\u001b[0m\u001b[0;34m,\u001b[0m \u001b[0matt\u001b[0m\u001b[0;34m,\u001b[0m \u001b[0mprintStats\u001b[0m\u001b[0;34m=\u001b[0m\u001b[0;32mTrue\u001b[0m\u001b[0;34m)\u001b[0m\u001b[0;34m:\u001b[0m\u001b[0;34m\u001b[0m\u001b[0;34m\u001b[0m\u001b[0m\n",
      "\u001b[0;31mIndexError\u001b[0m: list index out of range"
     ]
    }
   ],
   "source": [
    "plotSection([\"Adults\", \"Children\", \"Zip\"], 5, 8, \"Zip\")"
   ]
  },
  {
   "cell_type": "markdown",
   "id": "abb3f34f",
   "metadata": {},
   "source": [
    "Respondant Demographic"
   ]
  },
  {
   "cell_type": "code",
   "execution_count": null,
   "id": "c7ae5515",
   "metadata": {},
   "outputs": [],
   "source": [
    "plotSection([\"Income\", \"Highest Level of education\"], 9, 11)"
   ]
  },
  {
   "cell_type": "markdown",
   "id": "ec493ee4",
   "metadata": {},
   "source": [
    "Information about children brought to WePLAY \n",
    "* Only 28 out of 145 respdants provided this info on children \n",
    "* Gives gender and age of children + age of child 2, age child three then relationship , relationship 2, other"
   ]
  },
  {
   "cell_type": "code",
   "execution_count": null,
   "id": "bbe55e4d",
   "metadata": {
    "scrolled": true
   },
   "outputs": [],
   "source": [
    "childDemo = allIncoming[[\"How old is the 1st child?\",\"What is the 1st child's gender?\",\"What is your relationship to the 1st child?\",\"How old is the 2nd child?\",\"What is the 2nd child's gender?\",\"What is your relationship to the 2nd child?\"]]\n",
    "childDemo.columns = [[\"1st child age\",\"1st child's gender\",\"resp relationship to 1st child\",\"2nd child age\",\"2nd child's gender\",\"resp relationship to 2nd child\"]]                   \n",
    "\n",
    "childDemo1 = childDemo.iloc[1:, :3].dropna()\n",
    "plotPies(childDemo1, getLabels(childDemo1), False, False)\n",
    "childDemo2 = childDemo.iloc[1:, 3:].dropna()\n",
    "plotPies(childDemo2, getLabels(childDemo2), False, False)\n",
    "\n",
    "'''Poss manually take out the 'not listed' and random R '''\n"
   ]
  },
  {
   "cell_type": "markdown",
   "id": "42a2d27d",
   "metadata": {},
   "source": [
    "### How and why WPC"
   ]
  },
  {
   "cell_type": "markdown",
   "id": "fc73c3bf",
   "metadata": {},
   "source": [
    "Respondant's reasoning for attending WePLAY versus other forms of early childhood education"
   ]
  },
  {
   "cell_type": "code",
   "execution_count": null,
   "id": "70cccc3a",
   "metadata": {},
   "outputs": [],
   "source": [
    "print(\"Q: Which of the following are reasons that you have not applied for childcare?\\nPlease select all that apply. (\\\"Nan\\\" label means option wasn't selected)\")\n",
    "c = [\n",
    "    \"I feel my child is not old enough\",\n",
    "    \"There is a lack of quality childhood care\",\n",
    "    \"I use a nanny\",\n",
    "    \"I use a family member\",\n",
    "    \"Other\",\n",
    "    \"What type of childcare program is it?\"]\n",
    "plotSection(c, 30, 36)   "
   ]
  },
  {
   "cell_type": "markdown",
   "id": "af5b99e0",
   "metadata": {},
   "source": [
    "Why have you not applied to day care?"
   ]
  },
  {
   "cell_type": "code",
   "execution_count": null,
   "id": "8ea653b9",
   "metadata": {},
   "outputs": [],
   "source": [
    "plotSection(\"x\", 36, 37, pie=False, plotBars=\"x\", plotBarsHoriz=True) "
   ]
  },
  {
   "cell_type": "markdown",
   "id": "a928df7d",
   "metadata": {},
   "source": [
    "Where else have you sought child care"
   ]
  },
  {
   "cell_type": "code",
   "execution_count": null,
   "id": "b3851b83",
   "metadata": {},
   "outputs": [],
   "source": [
    "plotSection(\"y\", 37, 38, pie=False, plotBars=\"y\", plotBarsHoriz=True) "
   ]
  },
  {
   "cell_type": "markdown",
   "id": "5c494659",
   "metadata": {},
   "source": [
    "How respondants found the WePLAY center"
   ]
  },
  {
   "cell_type": "code",
   "execution_count": null,
   "id": "010936de",
   "metadata": {},
   "outputs": [],
   "source": [
    "cols = [\"Sign/Poster/flyer\", \"Friend\", \"Website\", \"Social Media\", \"Other org\"]#, \"Lafitte Fauborg Housing Office\"]\n",
    "plotSection(cols, 120, 125, isNAct=True) \n",
    "print(\"Other: \")\n",
    "allIncoming.iloc[:,126].unique()[2:]"
   ]
  },
  {
   "cell_type": "markdown",
   "id": "71d9a164",
   "metadata": {},
   "source": [
    "### Parenting: Concerns, strengths, and progress"
   ]
  },
  {
   "cell_type": "markdown",
   "id": "44a578c2",
   "metadata": {},
   "source": [
    "Using plot pies rather than plot sections to repurpose code we created before aggregating all four sets"
   ]
  },
  {
   "cell_type": "code",
   "execution_count": null,
   "id": "b2eec3a4",
   "metadata": {},
   "outputs": [],
   "source": [
    "#create df with directly comparable info about how parents interact with their children before and after WePlay\n",
    "parent_child_behaviorsa = allIncoming[[\"Please think about each statement and how you currently feel\",\"Unnamed: 59\",\"Unnamed: 60\",\"Unnamed: 61\",\"Unnamed: 62\",\"Unnamed: 63\"]]\n",
    "parent_child_behaviorsb = allIncoming[['\"Since coming to the We PLAY Center I…\"',\"Unnamed: 97\",\"Unnamed: 98\",\"Unnamed: 99\",\"Unnamed: 100\",\"Unnamed: 101\"]]\n",
    "parent_child_behaviorsa.drop([0], axis=0, inplace = True)\n",
    "parent_child_behaviorsb.drop([0], axis=0, inplace = True)\n",
    "parent_child_behaviorsa.columns = [[\"Read to my child (Before WP)\",\"Play with my child (Before WP)\",\"Talk to my child (Before WP)\", \"Listen to my child (Before WP)\",\"Set limits with my child (Before WP)\",\"Yell at my child (Before WP)\"]]\n",
    "parent_child_behaviorsb.columns = [[\"Read to my child (Since WP)\",\"Play with my child (Since WP)\",\"Talk to my child (Since WP)\",\"Listen to my child (Since WP)\",\"Set limits with my child (Since WP)\",\"Yell at my child (Since WP)\"]]\n",
    "print(\"Parent/child interaction before WePLAY\")\n",
    "plotPies(parent_child_behaviorsa, getLabels(parent_child_behaviorsa), False, False, ishoriz=True)\n",
    "print(\"Parent/child interaction after WePLAY\")\n",
    "plotPies(parent_child_behaviorsb, getLabels(parent_child_behaviorsb), False, False, ishoriz=True)\n"
   ]
  },
  {
   "cell_type": "markdown",
   "id": "508b01e5",
   "metadata": {},
   "source": [
    "How parents see their parenting"
   ]
  },
  {
   "cell_type": "code",
   "execution_count": null,
   "id": "6e033f1f",
   "metadata": {},
   "outputs": [],
   "source": [
    "#create df with info about how parents feel they've grown since We Play\n",
    "currently_Parents_feel = allIncoming[[\"Think about each statement and how you currently feel .\",\"Unnamed: 42\",\"Unnamed: 43\",\"Unnamed: 44\",\"Unnamed: 45\",\"Unnamed: 46\",\"Unnamed: 47\",'\"Overall...\"',\"Unnamed: 25\",\"Unnamed: 26\",\"Unnamed: 27\",\"Unnamed: 28\",\"Unnamed: 29\",\"Unnamed: 30\",\"Unnamed: 31\",\"Unnamed: 32\",\"Unnamed: 33\",\"Unnamed: 34\"]]\n",
    "#Rename columns\n",
    "currently_Parents_feel.columns = [[\"I stress about parenting...\",\"I use positive parenting strategies...\",\"I understand my child’s behavior...\",\"I am able to comfort my child when he/she is upset...\",\"I attend Parenting Learning Opportunities (workshop)...\",\"I feel overwhelmed with my child’s behavior...\",\"I feel my child is exposed to activities that stimulate his/her development...\",\"I feel confident as a parent\",\"I have access to resources to become a better parent\",\"I want to learn strategies to improve my parenting skills\",\"I understand child development\",\"I know age appropriate expectations for my child\",\"I know how to foster my child’s development\",\"I am knowledgeable about positive and nurturing parenting strategies\",\"I utilize positive parenting strategies\",\"I am supported in my role as a parent/caregiver\",\"I have a support system that consist of families with children of similar ages as my child\",\"I spend time with my child doing what he/she likes to do.\"]]\n",
    "\n",
    "currently_Parents_feel"
   ]
  },
  {
   "cell_type": "markdown",
   "id": "8e507411",
   "metadata": {},
   "source": [
    "How parents have grown since the WePLAY\n",
    "These sections only had a few (omitted) answers besides those pictured."
   ]
  },
  {
   "cell_type": "code",
   "execution_count": null,
   "id": "69ce8cbc",
   "metadata": {},
   "outputs": [],
   "source": [
    "#create df with info about how parents feel they've grown since We Play\n",
    "since_WP_Parents_nov2019a = incomingnov2019[[\"After coming to the center, which of the following aspects have changed for you as a parent? Please choose one option for each statement.\",\"Unnamed: 78\",\"Unnamed: 79\",\"Unnamed: 80\",\"Unnamed: 81\",\"Unnamed: 82\",\"Unnamed: 83\"]]\n",
    "since_WP_Parents_nov2019b = incomingnov2019[['\"Since coming to We PLAY Center…\"',\"Unnamed: 97\",\"Unnamed: 98\",\"Unnamed: 99\",\"Unnamed: 100\",\"Unnamed: 101\"]]\n",
    "# Rename columns\n",
    "since_WP_Parents_nov2019a.columns = [[\"My stress level as a parent...\",\"My knowledge about parenting support and resources in the community...\",\"My knowledge about my child’s development...\",\"My knowledge about how to foster my child’s development...\",\"My knowledge about nurturing and responsive parenting strategies...\",\"My knowledge about nutrition and breastfeeding...\",\"My confidence in my role as a parent...\"]]\n",
    "since_WP_Parents_nov2019b.columns =[[\"I engage with my child by repeating his/her words or sounds...\",\"I engage with my child in pretend play...\",\"I stand back and let my child work through problems...\",\"I engage in bonding activities with my child...\",\"I am better able to help my child uses age appropriate social skills...\",\"I am better able to support my child as he/she learns new skills...\"]]\n",
    "# plot seperately so labeling is nice\n",
    "\n",
    "plotPies(since_WP_Parents_nov2019a, [\"Increased significantly\", \"Somewhat decreased\"], True, True)\n",
    "plotPies(since_WP_Parents_nov2019b, [\"More often\", \"The same\"], True, True)\n"
   ]
  },
  {
   "cell_type": "markdown",
   "id": "35dca46c",
   "metadata": {},
   "source": [
    "How children have grown since WePlay"
   ]
  },
  {
   "cell_type": "code",
   "execution_count": null,
   "id": "f82f2924",
   "metadata": {},
   "outputs": [],
   "source": [
    "#create df with info about how parents feel their children have grown since We Play\n",
    "childGrowthSince = allIncoming[[\"Since attending the We PLAY Center, which of the following aspects of your child's development have changed? Please choose one option for each statement.\",\"Unnamed: 58\",\"Unnamed: 59\",\"Unnamed: 60\"]]\n",
    "#Rename columns\n",
    "childGrowthSince.columns = [[\"My child's early learning and cognitive skills...\",\"My child's early language abilities...\",\"My child's early social emotional skills...\", \"My child's school readiness...\"]]\n",
    "#drop unnesscary row with response parameters\n",
    "childGrowthSince.drop([0], axis=0, inplace = True)\n",
    "\n",
    "\n",
    "plotPies(childGrowthSince, getLabels(childGrowthSince), False, False)\n",
    "\n",
    "## only one here works\n"
   ]
  },
  {
   "cell_type": "markdown",
   "id": "f4d7d455",
   "metadata": {},
   "source": [
    "### Parent reviews and needs"
   ]
  },
  {
   "cell_type": "markdown",
   "id": "6d42a21f",
   "metadata": {},
   "source": [
    "XXX"
   ]
  },
  {
   "cell_type": "markdown",
   "id": "e3642880",
   "metadata": {},
   "source": [
    "Data on what kind of info parents want more of from WP"
   ]
  },
  {
   "cell_type": "code",
   "execution_count": null,
   "id": "6eb234ad",
   "metadata": {},
   "outputs": [],
   "source": [
    "#create df with survey info about what kind of info parents want more of\n",
    "desired_info = allIncoming[[\"Which of the following aspects would you like the We Play Center to address more often? Please select all that apply and use the space to write in any additional comments.\",\"Unnamed: 109\",\"Unnamed: 110\",\"Unnamed: 111\",\"Unnamed: 112\",\"Unnamed: 113\",\"Unnamed: 114\",\"Unnamed: 115\",\"Unnamed: 116\",\"Unnamed: 117\"]]\n",
    "#Rename columns\n",
    "desired_info.columns = [[\"Stress Relief\",\"Information about community resources\",\"Information about how to foster my child’s development\", \"Information about nurturing and responsive parenting strategies\",\"Information about mouthing (biting, putting objects in their mouth)\",\"Information about conflict resolution\",\"Information about sharing\",\"Information about nursing/ feeding\",\"Information about temper tantrums\",\"Information about sleeping\"]]\n",
    "desired_info = ~desired_info.isna()\n",
    "\n",
    "print('\"Which of the following aspects would you like the We Play Center to address more often?\\n')\n",
    "plotPies(desired_info, [\"True\", \"False\"], True, False)\n"
   ]
  },
  {
   "cell_type": "code",
   "execution_count": null,
   "id": "545c7cd7",
   "metadata": {},
   "outputs": [],
   "source": [
    "#create df with parent's other opinions on WePlay\n",
    "other_WP_opinions = allIncoming[['\"The We PLAY Center...\"',\"Unnamed: 86\",\"Unnamed: 87\",\"Unnamed: 88\",\"Unnamed: 89\",'\"The We PLAY Center has...\"',\"Unnamed: 91\",\"Unnamed: 92\",\"Unnamed: 93\",\"Unnamed: 94\",\"Unnamed: 95\"]]\n",
    "#Rename columns\n",
    "other_WP_opinions.columns = [[\"Provides an enriched learning environment, provides educational toys\",\"Offers an adequate number of toys\",\"Creates a positive welcoming friendly atmosphere\", \"Staff is knowledgeable and answer questions willingly\",\"Staff is patient and empathetic\",\"Been helpful to my family\",\"Given me more confidence as a parent\",\"Helped me to become a better parent\",\"Provided me with positive parenting strategies\",\"Supported me in my role as a parent/caregiver\",\"Created a support system with other members of the We PLAY Center\"]]\n",
    "#drop unnesscary row with response parameters\n",
    "plotPies(other_WP_opinions.iloc[:, :5], [\"Strongly agree\", \"Neutral\", \"No opinion\"], True, False)\n",
    "plotPies(other_WP_opinions.iloc[:, 5:], [\"Strongly agree\", \"Neutral\", \"No opinion\"], True, False)\n",
    "\n",
    "#weird labeling here"
   ]
  },
  {
   "cell_type": "markdown",
   "id": "58ab3ea3",
   "metadata": {},
   "source": [
    "Open response - what will keep people coming back?"
   ]
  },
  {
   "cell_type": "code",
   "execution_count": null,
   "id": "95208c5b",
   "metadata": {},
   "outputs": [],
   "source": [
    "#create df with open response detailing what parents say will keep them coming back\n",
    "keep_coming_back = allIncoming[[\"What will keep you coming back to the We PLAY Center?\"]]\n",
    "#keep_coming_back\n"
   ]
  },
  {
   "cell_type": "markdown",
   "id": "3016bf00",
   "metadata": {},
   "source": [
    "### Word Cloud\n",
    "Open response to *What will keep you coming back to the We PLAY Center?* from incoming family surveys"
   ]
  },
  {
   "cell_type": "code",
   "execution_count": null,
   "id": "4e3be285",
   "metadata": {},
   "outputs": [],
   "source": [
    "!pip3 install wordcloud\n",
    "from os import path\n",
    "from PIL import Image\n",
    "from wordcloud import WordCloud, STOPWORDS, ImageColorGenerator"
   ]
  },
  {
   "cell_type": "code",
   "execution_count": null,
   "id": "f3b8ef8c",
   "metadata": {},
   "outputs": [],
   "source": [
    "# isolating column for word cloud:\n",
    "text = allIncoming[\"What will keep you coming back to the We PLAY Center?\"]\n",
    "text = text.dropna()\n",
    "#making df into a string for the wordcloud function\n",
    "text = \" \".join(response for response in text)\n",
    "#filtering out uninformative words\n",
    "\n",
    "omit = ['will', 'Yes', 'able', 'thing', 'old', 'bring', 'around', 'Maybe', 'though', 'Every', 'visit', 'now', 'days', 'year']\n",
    "for w in omit:\n",
    "    text = text.replace(w, '')\n",
    "# Create and generate a word cloud image:\n",
    "wordcloud = WordCloud(max_font_size=50, max_words=100, background_color=\"white\").generate(text)\n",
    "\n",
    "# Display the generated image:\n",
    "plt.imshow(wordcloud, interpolation='bilinear')\n",
    "plt.axis(\"off\")\n",
    "plt.show()"
   ]
  },
  {
   "cell_type": "markdown",
   "id": "4c24b75f",
   "metadata": {},
   "source": [
    "# Family Survey Data"
   ]
  },
  {
   "cell_type": "markdown",
   "id": "f0188f6c",
   "metadata": {},
   "source": [
    "##### Responses about the familes attending WePLAY\n",
    "NOTE: this section must be read in order to avoid dropping bar graph columns\n",
    "\n",
    "* FamilySurvey.xlsx data was collected between Jan-Aug 2019"
   ]
  },
  {
   "cell_type": "code",
   "execution_count": null,
   "id": "3a598425",
   "metadata": {},
   "outputs": [],
   "source": [
    "familySurveyDf = pd.read_excel(path + \"FamilySurvey\" + \".xlsx\")\n",
    "\n",
    "print(\"Notes: -- Adults means over 19  -- Children means under 18 -- Resp = Respondant\\n\")\n",
    "adult_FDa = familySurveyDf.iloc[1:, :5]\n",
    "adult_FDa.columns = [[\"Resp_Gender\", \"Resp_Age\", \"Resp_Race\", \"Children\", \"AdultsAtHome\"]]\n",
    "adult_FDb = familySurveyDf.iloc[1:, 5:10]\n",
    "adult_FDb.columns = [[\"Zip\", \"OMIT\", \"Avg_Income\", \"highest_edu\", \"visits_Monthly\"]]\n",
    "adult_FDb.drop(columns=[\"OMIT\"], inplace=True)#,level=level)\n"
   ]
  },
  {
   "cell_type": "markdown",
   "id": "49721bf1",
   "metadata": {},
   "source": [
    "Zipcodes"
   ]
  },
  {
   "cell_type": "code",
   "execution_count": null,
   "id": "87bb803c",
   "metadata": {},
   "outputs": [],
   "source": [
    "printCatBars(adult_FDb, \"Zip\", adult_FDb.Zip, False)"
   ]
  },
  {
   "cell_type": "markdown",
   "id": "98e9c008",
   "metadata": {},
   "source": [
    "#### There is a wide distribution of ages of parents bringing their children to We Play but it is centered around the mid thirties\n"
   ]
  },
  {
   "cell_type": "code",
   "execution_count": null,
   "id": "de903e44",
   "metadata": {},
   "outputs": [],
   "source": [
    "printCatBars(adult_FDa, \"Resp_Age\", adult_FDa.Resp_Age)"
   ]
  },
  {
   "cell_type": "markdown",
   "id": "02063379",
   "metadata": {},
   "source": [
    "#### Most households attending WePlay have two adults in them"
   ]
  },
  {
   "cell_type": "code",
   "execution_count": null,
   "id": "0f20c2e0",
   "metadata": {},
   "outputs": [],
   "source": [
    "printCatBars(adult_FDa, \"AdultsAtHome\", adult_FDa.AdultsAtHome)"
   ]
  },
  {
   "cell_type": "code",
   "execution_count": null,
   "id": "2308cdaa",
   "metadata": {},
   "outputs": [],
   "source": [
    "# drop columns to plot bars\n",
    "adult_FDa.drop(columns=[\"Resp_Age\", \"AdultsAtHome\"], inplace=True)\n",
    "labels=getLabels(adult_FDa)\n",
    "plotPies(adult_FDa, labels, False, False, True)\n",
    "\n",
    "adult_FDb.drop(columns=[\"Zip\"], inplace=True) # drop columns to plot bars\n",
    "labels=getLabels(adult_FDb)\n",
    "plotPies(adult_FDb, labels, False, False, True)"
   ]
  },
  {
   "cell_type": "markdown",
   "id": "65948afb",
   "metadata": {},
   "source": [
    "Looking more closely at income, we see that most attendees make ??\n",
    "\n",
    "** Need to re order these!! **"
   ]
  },
  {
   "cell_type": "code",
   "execution_count": null,
   "id": "44b2871a",
   "metadata": {},
   "outputs": [],
   "source": [
    "printCatBars(adult_FDb, \"Avg_Income\", adult_FDb.Avg_Income, False)"
   ]
  },
  {
   "cell_type": "markdown",
   "id": "4cb2575e",
   "metadata": {},
   "source": [
    "## Family survey"
   ]
  },
  {
   "cell_type": "markdown",
   "id": "3f042afb",
   "metadata": {},
   "source": [
    "#### Info about how parents found the we play center, showing the succesful usage of multiple channels for attracting familes\n",
    "Word of mouth is WePlay's best advertisement, by far!"
   ]
  },
  {
   "cell_type": "code",
   "execution_count": null,
   "id": "396b84fd",
   "metadata": {},
   "outputs": [],
   "source": [
    "how_found_WPC = familySurveyDf.iloc[1:, 10:17]\n",
    "how_found_WPC.columns = [\"Sign/Poster/flyer\", \"Friend\", \"Website\", \"Social Media\", \"Other org\", \"Laf-Fau Housing Office\", \"Other\"]\n",
    "plotPies(how_found_WPC, [\"Yes\", \"No\"], True, True)\n"
   ]
  },
  {
   "cell_type": "markdown",
   "id": "d0cbbc0b",
   "metadata": {},
   "source": [
    "#### Demographics of children that are brought to the weplay center"
   ]
  },
  {
   "cell_type": "code",
   "execution_count": null,
   "id": "01bade64",
   "metadata": {},
   "outputs": [],
   "source": [
    "child_FD = familySurveyDf.iloc[1:, 17:24] # combined 18/19 into 17 manually\n",
    "child_FD.columns = [\"Gender\", \"Age\", \"age2\", \"age3\", \"parent\", \"age4\", \"misc\"]\n",
    "child_FD.drop(columns=[\"age2\", \"age3\", \"age4\", \"misc\", \"parent\"], inplace=True)\n",
    "child_FD[\"Gender\"][~(child_FD.Gender == 'Male' ) & ~(child_FD.Gender == 'Female')] = np.nan\n",
    "\n",
    "labels=getLabels(child_FD)\n",
    "plotPies(child_FD, labels, False, False)\n"
   ]
  },
  {
   "cell_type": "markdown",
   "id": "c70c3b5b",
   "metadata": {},
   "source": [
    "### Parenting Skills"
   ]
  },
  {
   "cell_type": "markdown",
   "id": "5e613b8b",
   "metadata": {},
   "source": [
    "#### \"Please share the number of days in a typical week that you engage in the following activities\""
   ]
  },
  {
   "cell_type": "code",
   "execution_count": null,
   "id": "b48fc9de",
   "metadata": {},
   "outputs": [],
   "source": [
    "daysActivitys_FD = familySurveyDf.iloc[1:, 24:27]\n",
    "daysActivitys_FD.columns = [\"Read Stories\", \"Play Music or Sing\", \n",
    "                     \"Engage in language building activities\"]\n",
    "labels = ['Never', 'Every day', '1-2 days', '3-6 days']\n",
    "\n",
    "plotPies(daysActivitys_FD, labels, True, False)"
   ]
  },
  {
   "cell_type": "code",
   "execution_count": null,
   "id": "d0437abf",
   "metadata": {},
   "outputs": [],
   "source": [
    "daysActivitys_FD = familySurveyDf.iloc[1:, 27:29]\n",
    "daysActivitys_FD.columns = ['Engage in play', 'Create opportunities for your child to \"practice\" self control']\n",
    "plotPies(daysActivitys_FD, getLabels(daysActivitys_FD), False, False)\n"
   ]
  },
  {
   "cell_type": "markdown",
   "id": "c249c81b",
   "metadata": {},
   "source": [
    "#### Please state how strongly you agree with the following statements"
   ]
  },
  {
   "cell_type": "code",
   "execution_count": null,
   "id": "201c1636",
   "metadata": {},
   "outputs": [],
   "source": [
    "parenting_FD = familySurveyDf.iloc[1:, 29:34]\n",
    "parenting_FD.columns = ['I respond quickly to my child\\'s cries', 'I am able to comfort my child when he/she is upset',\n",
    " 'I know the meaning of my child\\'s signals (cry, turning away, rubbing eyes)',\n",
    " 'I step back and encourage my child to work through problems',\n",
    " 'I am able to follow my child\\'s lead during playtime']\n",
    "cols = parenting_FD.columns\n",
    "labels = ['Mostly agree', 'Somewhat agree', 'neither agree nor disagree',\n",
    "       'Strongly agree', 'Mostly disagree', 'Strongly disagree','Somewhat disagree']\n",
    "plotPies(parenting_FD, labels, True, False)\n"
   ]
  },
  {
   "cell_type": "markdown",
   "id": "268a1975",
   "metadata": {},
   "source": [
    "#### Parents vary in how they discipline. Below are some strategies parents used to discipline their children during the last 7 days:"
   ]
  },
  {
   "cell_type": "code",
   "execution_count": null,
   "id": "45cb66a5",
   "metadata": {},
   "outputs": [],
   "source": [
    "discipline_FD = familySurveyDf.iloc[0:, 34:42]\n",
    "discipline_FD.columns = ['Raising your voice or yelling', 'Spanked/Slapped', 'Took away a toy or treats', 'Positive Reinforcement', 'Offered choices', 'Time-out', 'Explained why his/her behavior is not appropriate', 'Recognized and regulated your feelings']\n",
    "labels = [\"Never\", \"Always\", \"Very Often\", \"Sometimes\", \"Rarely\"]\n",
    "plotPies(discipline_FD,  labels, True, False)"
   ]
  },
  {
   "cell_type": "markdown",
   "id": "41f08045",
   "metadata": {},
   "source": [
    "#### The We PLAY Center strives to create a welcoming environment with toys and caring, knowledgable staff. How well do parents think We Play meets these goals?"
   ]
  },
  {
   "cell_type": "code",
   "execution_count": null,
   "id": "0fee85d9",
   "metadata": {},
   "outputs": [],
   "source": [
    "environmentstatements_FD = familySurveyDf.iloc[1:, 42:48]\n",
    "labels = ['Strongly agree','Strongly disagree', 'Mostly agree',\n",
    "       'Neither disagree nor agree', 'Somewhat agree',\n",
    "       'Somewhat disagree']\n",
    "environmentstatements_FD.columns = familySurveyDf.iloc[0, 42:48]\n",
    "plotPies(environmentstatements_FD, labels, True, False)"
   ]
  },
  {
   "cell_type": "markdown",
   "id": "e4103956",
   "metadata": {},
   "source": [
    "#### We Play strives to help parents and children grow. The questions below help to illustrate how well We Play is fulfilling those goals:"
   ]
  },
  {
   "cell_type": "code",
   "execution_count": null,
   "id": "51203e24",
   "metadata": {},
   "outputs": [],
   "source": [
    "attendance_feedback = familySurveyDf.iloc[1:, 48:53]\n",
    "labels = ['Strongly agree','Strongly disagree', 'Mostly agree',\n",
    "       'Neither disagree nor agree', 'Somewhat agree',\n",
    "       'Somewhat disagree']\n",
    "attendance_feedback.columns = familySurveyDf.iloc[0, 48:53]\n",
    "\n",
    "plotPies(attendance_feedback, labels, True, False)"
   ]
  },
  {
   "cell_type": "markdown",
   "id": "fac6a504",
   "metadata": {},
   "source": [
    "#### Below are written responses from families on what will keep them returning to the We Play Center. A commonality between many of the responses is the love for the staff at the WePlay Center."
   ]
  },
  {
   "cell_type": "code",
   "execution_count": null,
   "id": "3970edd1",
   "metadata": {},
   "outputs": [],
   "source": [
    "weplay_review = familySurveyDf.iloc[1:, 56:58]\n",
    "labels = getLabels(weplay_review)\n",
    "print(\"What will keep you coming back to the We PLAY Center?:\\n\")\n",
    "print(labels[0][1:])"
   ]
  },
  {
   "cell_type": "code",
   "execution_count": null,
   "id": "7932287a",
   "metadata": {},
   "outputs": [],
   "source": [
    "print(\"What aspect of the We PLAY Center do you find most helpful?:\\n\")\n",
    "print(labels[1][1:])"
   ]
  },
  {
   "cell_type": "markdown",
   "id": "74368ac3",
   "metadata": {},
   "source": []
  },
  {
   "cell_type": "markdown",
   "id": "ad1dddd9",
   "metadata": {},
   "source": [
    "# Geopandas\n",
    "https://towardsdatascience.com/a-beginners-guide-to-create-a-cloropleth-map-in-python-using-geopandas-and-matplotlib-9cc4175ab630"
   ]
  },
  {
   "cell_type": "code",
   "execution_count": null,
   "id": "cc09c332",
   "metadata": {},
   "outputs": [],
   "source": [
    "# fp = './_data/new-orleans-tax-parcel.shp'\n",
    "# map_df = gpd.read_file(fp)\n",
    "# # check the GeoDataframe\n",
    "# map_df.head()\n",
    "\n",
    "# # map_df.plot()"
   ]
  },
  {
   "cell_type": "code",
   "execution_count": null,
   "id": "c2945f09",
   "metadata": {},
   "outputs": [],
   "source": []
  },
  {
   "cell_type": "markdown",
   "id": "1d0b9549",
   "metadata": {},
   "source": [
    "# Final Recommendations"
   ]
  },
  {
   "cell_type": "code",
   "execution_count": null,
   "id": "3b2d66ef",
   "metadata": {},
   "outputs": [],
   "source": []
  },
  {
   "cell_type": "markdown",
   "id": "339f0251",
   "metadata": {},
   "source": [
    "# Automatic updating for Git Pages\n",
    "We use `https://github.com/renarepenning/weplaynoladata`'s gh-pages branch to display on [Rena's personal website](https://www.renarepenning.com)"
   ]
  },
  {
   "cell_type": "code",
   "execution_count": null,
   "id": "5faa5a74",
   "metadata": {
    "scrolled": true
   },
   "outputs": [],
   "source": [
    "# # update local branch\n",
    "# !git pull\n",
    "# # convert this file to HTML\n",
    "# !jupyter nbconvert --to html FinalTutorial.ipynb\n",
    "# # Delete old index.html\n",
    "# !rm index.html\n",
    "# # move MilestoneTwo.html into index.html\n",
    "# !mv FinalTutorial.html index.html\n",
    "\n",
    "# # Push to Rena's repo\n",
    "# !git config --global user.name \"renarepenning\"\n",
    "# !git config --global user.email \"rrepenning@tulane.edu\"\n",
    "# !git add -A\n",
    "# !git commit -m \"auto update index.html\"\n",
    "\n",
    "# # MUST PUSH MANUALLY"
   ]
  },
  {
   "cell_type": "markdown",
   "id": "616b66d2",
   "metadata": {},
   "source": [
    "#### Create a pull to merge `main` into `gh-pages`"
   ]
  },
  {
   "cell_type": "code",
   "execution_count": null,
   "id": "13573f91",
   "metadata": {},
   "outputs": [],
   "source": []
  }
 ],
 "metadata": {
  "kernelspec": {
   "display_name": "Python 3 (ipykernel)",
   "language": "python",
   "name": "python3"
  },
  "language_info": {
   "codemirror_mode": {
    "name": "ipython",
    "version": 3
   },
   "file_extension": ".py",
   "mimetype": "text/x-python",
   "name": "python",
   "nbconvert_exporter": "python",
   "pygments_lexer": "ipython3",
   "version": "3.9.6"
  }
 },
 "nbformat": 4,
 "nbformat_minor": 5
}
